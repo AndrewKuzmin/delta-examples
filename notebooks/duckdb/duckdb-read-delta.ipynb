{
 "cells": [
  {
   "cell_type": "code",
   "execution_count": 1,
   "id": "8883d00c-85b9-4fa9-8ec7-03e37eff841b",
   "metadata": {},
   "outputs": [],
   "source": [
    "import pathlib\n",
    "\n",
    "import duckdb\n",
    "import pyarrow.dataset as ds\n",
    "from deltalake import DeltaTable"
   ]
  },
  {
   "cell_type": "markdown",
   "id": "94986b6c-e062-4120-a1a9-bf686926c53b",
   "metadata": {},
   "source": [
    "# DuckDB Read Delta"
   ]
  },
  {
   "cell_type": "code",
   "execution_count": 2,
   "id": "1fbd11c2-e986-48ab-9e9e-732f37f2851b",
   "metadata": {},
   "outputs": [],
   "source": [
    "dt = DeltaTable(f\"{pathlib.Path.home()}/data/delta/G1_1e7_1e2_0_0\")"
   ]
  },
  {
   "cell_type": "code",
   "execution_count": 3,
   "id": "33e559ed-89e0-4a54-a165-6165cc2d9ab7",
   "metadata": {},
   "outputs": [],
   "source": [
    "dataset = dt.to_pyarrow_dataset()"
   ]
  },
  {
   "cell_type": "code",
   "execution_count": 6,
   "id": "dc8d9e3c-720b-424b-aef6-d02650aac953",
   "metadata": {},
   "outputs": [],
   "source": [
    "quack = duckdb.arrow(dataset)"
   ]
  },
  {
   "cell_type": "code",
   "execution_count": 10,
   "id": "37e26686-8083-4c79-ba3c-0b7d44361cfe",
   "metadata": {},
   "outputs": [
    {
     "data": {
      "text/plain": [
       "┌─────────┬─────────┬──────────────┬───────┬───────┬───────┬───────┬───────┬───────────┐\n",
       "│   id1   │   id2   │     id3      │  id4  │  id5  │  id6  │  v1   │  v2   │    v3     │\n",
       "│ varchar │ varchar │   varchar    │ int32 │ int32 │ int32 │ int32 │ int32 │  double   │\n",
       "├─────────┼─────────┼──────────────┼───────┼───────┼───────┼───────┼───────┼───────────┤\n",
       "│ id016   │ id016   │ id0000042202 │    15 │    24 │  5971 │     5 │    11 │ 37.211254 │\n",
       "│ id016   │ id057   │ id0000027440 │    52 │    43 │ 70411 │     4 │    15 │ 87.807068 │\n",
       "│ id016   │ id017   │ id0000021440 │    21 │    23 │  1689 │     4 │    13 │ 54.136929 │\n",
       "│ id016   │ id018   │ id0000089240 │    76 │    10 │ 94834 │     5 │    11 │ 47.445902 │\n",
       "│ id016   │ id071   │ id0000070996 │    10 │    28 │  1280 │     2 │    14 │ 77.003967 │\n",
       "│ id016   │ id038   │ id0000063325 │    25 │    79 │ 38802 │     1 │    13 │ 90.931055 │\n",
       "│ id016   │ id075   │ id0000078912 │    77 │    70 │ 24337 │     5 │    11 │ 16.688582 │\n",
       "│ id016   │ id077   │ id0000015726 │    99 │    37 │  7686 │     2 │    11 │ 51.490821 │\n",
       "│ id016   │ id002   │ id0000039486 │    96 │    17 │ 87406 │     5 │    11 │ 58.516092 │\n",
       "│ id016   │ id079   │ id0000015420 │    96 │    96 │  2754 │     1 │    13 │ 85.650894 │\n",
       "│   ·     │   ·     │      ·       │     · │     · │    ·  │     · │     · │     ·     │\n",
       "│   ·     │   ·     │      ·       │     · │     · │    ·  │     · │     · │     ·     │\n",
       "│   ·     │   ·     │      ·       │     · │     · │    ·  │     · │     · │     ·     │\n",
       "│ id016   │ id097   │ id0000075169 │    80 │    10 │ 62123 │     4 │    13 │ 50.175752 │\n",
       "│ id016   │ id003   │ id0000053434 │    26 │    94 │ 14082 │     2 │    15 │ 17.553945 │\n",
       "│ id016   │ id020   │ id0000022641 │    66 │    95 │ 90286 │     4 │    11 │ 25.153682 │\n",
       "│ id016   │ id011   │ id0000013511 │    56 │    12 │ 27313 │     5 │    14 │ 16.819089 │\n",
       "│ id016   │ id006   │ id0000090979 │    43 │    67 │ 47502 │     2 │    14 │ 41.645584 │\n",
       "│ id016   │ id068   │ id0000044637 │    44 │    98 │ 38853 │     3 │    12 │  4.476084 │\n",
       "│ id016   │ id079   │ id0000059028 │    61 │    21 │  1262 │     4 │    15 │ 51.094288 │\n",
       "│ id016   │ id096   │ id0000082621 │    31 │    95 │ 88361 │     3 │    11 │ 97.699908 │\n",
       "│ id016   │ id004   │ id0000027308 │    46 │    17 │ 83721 │     4 │    15 │  7.065689 │\n",
       "│ id016   │ id050   │ id0000065140 │    91 │     1 │ 26770 │     3 │    14 │  5.120791 │\n",
       "├─────────┴─────────┴──────────────┴───────┴───────┴───────┴───────┴───────┴───────────┤\n",
       "│ ? rows (>9999 rows, 20 shown)                                              9 columns │\n",
       "└──────────────────────────────────────────────────────────────────────────────────────┘"
      ]
     },
     "execution_count": 10,
     "metadata": {},
     "output_type": "execute_result"
    }
   ],
   "source": [
    "quack.filter(\"id1 = 'id016' and v2 > 10\")"
   ]
  },
  {
   "cell_type": "code",
   "execution_count": null,
   "id": "59fc550b-d84a-428e-b95e-56e07080f466",
   "metadata": {},
   "outputs": [],
   "source": []
  }
 ],
 "metadata": {
  "kernelspec": {
   "display_name": "Python [conda env:deltalake-090]",
   "language": "python",
   "name": "conda-env-deltalake-090-py"
  },
  "language_info": {
   "codemirror_mode": {
    "name": "ipython",
    "version": 3
   },
   "file_extension": ".py",
   "mimetype": "text/x-python",
   "name": "python",
   "nbconvert_exporter": "python",
   "pygments_lexer": "ipython3",
   "version": "3.9.16"
  }
 },
 "nbformat": 4,
 "nbformat_minor": 5
}
