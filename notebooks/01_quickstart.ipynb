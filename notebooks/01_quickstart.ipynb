{
 "cells": [
  {
   "cell_type": "markdown",
   "id": "62e49ad7-434b-4c8c-8f72-d93a9fb22250",
   "metadata": {},
   "source": [
    "## Quickstart\n",
    "\n",
    "Code snippets are from [this guide](https://docs.delta.io/latest/quick-start.html)."
   ]
  },
  {
   "cell_type": "code",
   "execution_count": 32,
   "id": "ace3f4c8-1f66-4746-baf5-b9f936ddac71",
   "metadata": {},
   "outputs": [],
   "source": [
    "import pyspark\n",
    "from delta import *"
   ]
  },
  {
   "cell_type": "code",
   "execution_count": 33,
   "id": "1f9016de-a078-41f7-8c66-9c1c8fba4e62",
   "metadata": {},
   "outputs": [],
   "source": [
    "builder = (\n",
    "    pyspark.sql.SparkSession.builder.appName(\"MyApp\")\n",
    "    .config(\"spark.sql.extensions\", \"io.delta.sql.DeltaSparkSessionExtension\")\n",
    "    .config(\n",
    "        \"spark.sql.catalog.spark_catalog\",\n",
    "        \"org.apache.spark.sql.delta.catalog.DeltaCatalog\",\n",
    "    )\n",
    ")"
   ]
  },
  {
   "cell_type": "code",
   "execution_count": 34,
   "id": "f965bee1-1dae-4521-a2c6-24f42a6fe7e6",
   "metadata": {
    "tags": []
   },
   "outputs": [],
   "source": [
    "spark = configure_spark_with_delta_pip(builder).getOrCreate()"
   ]
  },
  {
   "cell_type": "markdown",
   "id": "0ac298c6-691c-48c0-a3c0-f66649d19bc8",
   "metadata": {},
   "source": [
    "## Create a table"
   ]
  },
  {
   "cell_type": "code",
   "execution_count": 35,
   "id": "b1608029-ea60-4df0-bd03-4a4173e98fde",
   "metadata": {},
   "outputs": [],
   "source": [
    "data = spark.range(0, 5)\n",
    "data.write.format(\"delta\").save(\"tmp/delta-table\")"
   ]
  },
  {
   "cell_type": "markdown",
   "id": "4c44009b-5dab-4799-9e10-047d3263b8c9",
   "metadata": {},
   "source": [
    "## Read a table"
   ]
  },
  {
   "cell_type": "code",
   "execution_count": 36,
   "id": "ecc6848e-0507-49fc-8cd5-d45f8b871366",
   "metadata": {},
   "outputs": [],
   "source": [
    "df = spark.read.format(\"delta\").load(\"tmp/delta-table\")"
   ]
  },
  {
   "cell_type": "code",
   "execution_count": 37,
   "id": "408e92bb-4e4d-4c87-b263-e2b07efa32fb",
   "metadata": {},
   "outputs": [
    {
     "name": "stdout",
     "output_type": "stream",
     "text": [
      "+---+\n",
      "| id|\n",
      "+---+\n",
      "|  4|\n",
      "|  2|\n",
      "|  0|\n",
      "|  3|\n",
      "|  1|\n",
      "+---+\n",
      "\n"
     ]
    }
   ],
   "source": [
    "df.show()"
   ]
  },
  {
   "cell_type": "markdown",
   "id": "52712c51-0b6b-492b-9454-2152392970b9",
   "metadata": {},
   "source": [
    "## Update table - overwrite"
   ]
  },
  {
   "cell_type": "code",
   "execution_count": 38,
   "id": "7ee653f8-517c-458b-ba8d-70ecbb3dbf85",
   "metadata": {},
   "outputs": [],
   "source": [
    "data = spark.range(5, 10)\n",
    "data.write.format(\"delta\").mode(\"overwrite\").save(\"tmp/delta-table\")"
   ]
  },
  {
   "cell_type": "code",
   "execution_count": 39,
   "id": "db79df58-abc5-40e8-b099-abc33977888c",
   "metadata": {},
   "outputs": [
    {
     "name": "stdout",
     "output_type": "stream",
     "text": [
      "+---+\n",
      "| id|\n",
      "+---+\n",
      "|  6|\n",
      "|  5|\n",
      "|  7|\n",
      "|  8|\n",
      "|  9|\n",
      "+---+\n",
      "\n"
     ]
    }
   ],
   "source": [
    "df = spark.read.format(\"delta\").load(\"tmp/delta-table\")\n",
    "df.show()"
   ]
  },
  {
   "cell_type": "markdown",
   "id": "a7ba92d0-12df-4f9d-a552-18eb7c219e4c",
   "metadata": {},
   "source": [
    "## Conditional update without overwrite"
   ]
  },
  {
   "cell_type": "code",
   "execution_count": 40,
   "id": "cc23b1d6-0c2d-49aa-b52e-fca942ef83be",
   "metadata": {
    "tags": []
   },
   "outputs": [],
   "source": [
    "from delta.tables import *\n",
    "from pyspark.sql.functions import *"
   ]
  },
  {
   "cell_type": "code",
   "execution_count": 41,
   "id": "c45e4aa7-d2bc-4828-82bd-51fbfaa211d5",
   "metadata": {},
   "outputs": [],
   "source": [
    "deltaTable = DeltaTable.forPath(spark, \"tmp/delta-table\")"
   ]
  },
  {
   "cell_type": "code",
   "execution_count": 42,
   "id": "919db6ab-a281-4181-9555-f0973fdf3f9e",
   "metadata": {},
   "outputs": [],
   "source": [
    "# Update every even value by adding 100 to it\n",
    "deltaTable.update(condition=expr(\"id % 2 == 0\"), set={\"id\": expr(\"id + 100\")})"
   ]
  },
  {
   "cell_type": "code",
   "execution_count": 43,
   "id": "f69d110e-ea98-446a-87ad-7bbc924505ae",
   "metadata": {},
   "outputs": [
    {
     "name": "stdout",
     "output_type": "stream",
     "text": [
      "+---+\n",
      "| id|\n",
      "+---+\n",
      "|  5|\n",
      "|  7|\n",
      "|108|\n",
      "|106|\n",
      "|  9|\n",
      "+---+\n",
      "\n"
     ]
    }
   ],
   "source": [
    "deltaTable.toDF().show()"
   ]
  },
  {
   "cell_type": "code",
   "execution_count": 44,
   "id": "4c589559-c2e0-420e-9ebe-a1e9b52d9f42",
   "metadata": {},
   "outputs": [
    {
     "name": "stderr",
     "output_type": "stream",
     "text": [
      "                                                                                \r"
     ]
    }
   ],
   "source": [
    "# Delete every even value\n",
    "deltaTable.delete(condition=expr(\"id % 2 == 0\"))"
   ]
  },
  {
   "cell_type": "code",
   "execution_count": 45,
   "id": "da9309f8-2e50-45cb-aa8a-2e82c06d6ff6",
   "metadata": {},
   "outputs": [
    {
     "name": "stdout",
     "output_type": "stream",
     "text": [
      "+---+\n",
      "| id|\n",
      "+---+\n",
      "|  5|\n",
      "|  7|\n",
      "|  9|\n",
      "+---+\n",
      "\n"
     ]
    }
   ],
   "source": [
    "deltaTable.toDF().show()"
   ]
  },
  {
   "cell_type": "code",
   "execution_count": 46,
   "id": "f6d595e7-b369-42c6-bac2-f1473d5bbaf9",
   "metadata": {},
   "outputs": [],
   "source": [
    "# Upsert (merge) new data\n",
    "newData = spark.range(0, 20)\n",
    "\n",
    "deltaTable.alias(\"oldData\").merge(\n",
    "    newData.alias(\"newData\"), \"oldData.id = newData.id\"\n",
    ").whenMatchedUpdate(set={\"id\": col(\"newData.id\")}).whenNotMatchedInsert(\n",
    "    values={\"id\": col(\"newData.id\")}\n",
    ").execute()"
   ]
  },
  {
   "cell_type": "code",
   "execution_count": 47,
   "id": "aadc383f-3e07-42ca-9c36-ab43c526f8a4",
   "metadata": {},
   "outputs": [
    {
     "name": "stdout",
     "output_type": "stream",
     "text": [
      "+---+\n",
      "| id|\n",
      "+---+\n",
      "|  0|\n",
      "|  1|\n",
      "|  2|\n",
      "|  3|\n",
      "|  4|\n",
      "|  5|\n",
      "|  6|\n",
      "|  7|\n",
      "|  8|\n",
      "|  9|\n",
      "| 10|\n",
      "| 11|\n",
      "| 12|\n",
      "| 13|\n",
      "| 14|\n",
      "| 15|\n",
      "| 16|\n",
      "| 17|\n",
      "| 18|\n",
      "| 19|\n",
      "+---+\n",
      "\n"
     ]
    }
   ],
   "source": [
    "deltaTable.toDF().show()"
   ]
  },
  {
   "cell_type": "markdown",
   "id": "f6918623-ee24-4f5b-b6b8-2eab98ebe690",
   "metadata": {},
   "source": [
    "## Read older versions of data using time travel"
   ]
  },
  {
   "cell_type": "code",
   "execution_count": 48,
   "id": "05208fa5-e025-4471-8f33-fe32147d98cb",
   "metadata": {},
   "outputs": [
    {
     "name": "stdout",
     "output_type": "stream",
     "text": [
      "+---+\n",
      "| id|\n",
      "+---+\n",
      "|  4|\n",
      "|  2|\n",
      "|  0|\n",
      "|  3|\n",
      "|  1|\n",
      "+---+\n",
      "\n"
     ]
    }
   ],
   "source": [
    "df = spark.read.format(\"delta\").option(\"versionAsOf\", 0).load(\"tmp/delta-table\")\n",
    "df.show()"
   ]
  },
  {
   "cell_type": "code",
   "execution_count": null,
   "id": "2d980af7-1fe5-4a2a-9940-4d68c8708890",
   "metadata": {},
   "outputs": [],
   "source": []
  }
 ],
 "metadata": {
  "kernelspec": {
   "display_name": "Python [conda env:mr-delta] *",
   "language": "python",
   "name": "conda-env-mr-delta-py"
  },
  "language_info": {
   "codemirror_mode": {
    "name": "ipython",
    "version": 3
   },
   "file_extension": ".py",
   "mimetype": "text/x-python",
   "name": "python",
   "nbconvert_exporter": "python",
   "pygments_lexer": "ipython3",
   "version": "3.9.13"
  }
 },
 "nbformat": 4,
 "nbformat_minor": 5
}
