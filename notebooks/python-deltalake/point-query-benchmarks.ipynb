{
 "cells": [
  {
   "cell_type": "code",
   "execution_count": 11,
   "id": "f2a24a9e-d4b9-403f-8932-298134edd885",
   "metadata": {},
   "outputs": [],
   "source": [
    "import pathlib\n",
    "\n",
    "import duckdb\n",
    "import lance\n",
    "import pyarrow.dataset as ds\n",
    "from datafusion import SessionContext, col, lit\n",
    "from deltalake import DeltaTable\n",
    "import pyarrow as pa"
   ]
  },
  {
   "cell_type": "markdown",
   "id": "99a2b60d-e9bc-4089-8279-89624ca9fd68",
   "metadata": {},
   "source": [
    "## 1e9 duckdb + Delta Lake"
   ]
  },
  {
   "cell_type": "code",
   "execution_count": 7,
   "id": "dd308cb7-3270-4859-9ac5-f29b8a97fde9",
   "metadata": {},
   "outputs": [
    {
     "name": "stdout",
     "output_type": "stream",
     "text": [
      "CPU times: user 56 s, sys: 17 s, total: 1min 13s\n",
      "Wall time: 24.2 s\n"
     ]
    },
    {
     "data": {
      "text/html": [
       "<div>\n",
       "<style scoped>\n",
       "    .dataframe tbody tr th:only-of-type {\n",
       "        vertical-align: middle;\n",
       "    }\n",
       "\n",
       "    .dataframe tbody tr th {\n",
       "        vertical-align: top;\n",
       "    }\n",
       "\n",
       "    .dataframe thead th {\n",
       "        text-align: right;\n",
       "    }\n",
       "</style>\n",
       "<table border=\"1\" class=\"dataframe\">\n",
       "  <thead>\n",
       "    <tr style=\"text-align: right;\">\n",
       "      <th></th>\n",
       "      <th>id1</th>\n",
       "      <th>id2</th>\n",
       "      <th>id3</th>\n",
       "      <th>id4</th>\n",
       "      <th>id5</th>\n",
       "      <th>id6</th>\n",
       "      <th>v1</th>\n",
       "      <th>v2</th>\n",
       "      <th>v3</th>\n",
       "    </tr>\n",
       "  </thead>\n",
       "  <tbody>\n",
       "    <tr>\n",
       "      <th>0</th>\n",
       "      <td>id043</td>\n",
       "      <td>id035</td>\n",
       "      <td>id0004875485</td>\n",
       "      <td>8</td>\n",
       "      <td>18</td>\n",
       "      <td>733428</td>\n",
       "      <td>4</td>\n",
       "      <td>4</td>\n",
       "      <td>75.21594</td>\n",
       "    </tr>\n",
       "  </tbody>\n",
       "</table>\n",
       "</div>"
      ],
      "text/plain": [
       "     id1    id2           id3  id4  id5     id6  v1  v2        v3\n",
       "0  id043  id035  id0004875485    8   18  733428   4   4  75.21594"
      ]
     },
     "execution_count": 7,
     "metadata": {},
     "output_type": "execute_result"
    }
   ],
   "source": [
    "%%time\n",
    "delta_1e9_v1 = DeltaTable(\n",
    "    f\"{pathlib.Path.home()}/data/deltalake/G1_1e9_1e2_0_0\", version=1\n",
    ").to_pyarrow_dataset()\n",
    "duckdb.query(\"select * from delta_1e9_v1 where v3 = 75.21594\").to_df()"
   ]
  },
  {
   "cell_type": "code",
   "execution_count": 8,
   "id": "cfdf051d-b9c1-4428-8ed6-2b8e79f9b3a4",
   "metadata": {},
   "outputs": [
    {
     "name": "stdout",
     "output_type": "stream",
     "text": [
      "CPU times: user 55.9 s, sys: 17.4 s, total: 1min 13s\n",
      "Wall time: 24.6 s\n"
     ]
    },
    {
     "data": {
      "text/html": [
       "<div>\n",
       "<style scoped>\n",
       "    .dataframe tbody tr th:only-of-type {\n",
       "        vertical-align: middle;\n",
       "    }\n",
       "\n",
       "    .dataframe tbody tr th {\n",
       "        vertical-align: top;\n",
       "    }\n",
       "\n",
       "    .dataframe thead th {\n",
       "        text-align: right;\n",
       "    }\n",
       "</style>\n",
       "<table border=\"1\" class=\"dataframe\">\n",
       "  <thead>\n",
       "    <tr style=\"text-align: right;\">\n",
       "      <th></th>\n",
       "      <th>id1</th>\n",
       "      <th>id2</th>\n",
       "      <th>id3</th>\n",
       "      <th>id4</th>\n",
       "      <th>id5</th>\n",
       "      <th>id6</th>\n",
       "      <th>v1</th>\n",
       "      <th>v2</th>\n",
       "      <th>v3</th>\n",
       "    </tr>\n",
       "  </thead>\n",
       "  <tbody>\n",
       "    <tr>\n",
       "      <th>0</th>\n",
       "      <td>id043</td>\n",
       "      <td>id035</td>\n",
       "      <td>id0004875485</td>\n",
       "      <td>8</td>\n",
       "      <td>18</td>\n",
       "      <td>733428</td>\n",
       "      <td>4</td>\n",
       "      <td>4</td>\n",
       "      <td>75.21594</td>\n",
       "    </tr>\n",
       "  </tbody>\n",
       "</table>\n",
       "</div>"
      ],
      "text/plain": [
       "     id1    id2           id3  id4  id5     id6  v1  v2        v3\n",
       "0  id043  id035  id0004875485    8   18  733428   4   4  75.21594"
      ]
     },
     "execution_count": 8,
     "metadata": {},
     "output_type": "execute_result"
    }
   ],
   "source": [
    "%%time\n",
    "delta_1e9_v1 = DeltaTable(\n",
    "    f\"{pathlib.Path.home()}/data/deltalake/G1_1e9_1e2_0_0\", version=2\n",
    ").to_pyarrow_dataset()\n",
    "duckdb.query(\"select * from delta_1e9_v1 where v3 = 75.21594\").to_df()"
   ]
  },
  {
   "cell_type": "code",
   "execution_count": 9,
   "id": "9bb4017a-5cba-40d3-b1c1-e31c1e2e1dab",
   "metadata": {},
   "outputs": [
    {
     "name": "stdout",
     "output_type": "stream",
     "text": [
      "CPU times: user 2.66 s, sys: 819 ms, total: 3.48 s\n",
      "Wall time: 1.32 s\n"
     ]
    },
    {
     "data": {
      "text/html": [
       "<div>\n",
       "<style scoped>\n",
       "    .dataframe tbody tr th:only-of-type {\n",
       "        vertical-align: middle;\n",
       "    }\n",
       "\n",
       "    .dataframe tbody tr th {\n",
       "        vertical-align: top;\n",
       "    }\n",
       "\n",
       "    .dataframe thead th {\n",
       "        text-align: right;\n",
       "    }\n",
       "</style>\n",
       "<table border=\"1\" class=\"dataframe\">\n",
       "  <thead>\n",
       "    <tr style=\"text-align: right;\">\n",
       "      <th></th>\n",
       "      <th>id1</th>\n",
       "      <th>id2</th>\n",
       "      <th>id3</th>\n",
       "      <th>id4</th>\n",
       "      <th>id5</th>\n",
       "      <th>id6</th>\n",
       "      <th>v1</th>\n",
       "      <th>v2</th>\n",
       "      <th>v3</th>\n",
       "    </tr>\n",
       "  </thead>\n",
       "  <tbody>\n",
       "    <tr>\n",
       "      <th>0</th>\n",
       "      <td>id043</td>\n",
       "      <td>id035</td>\n",
       "      <td>id0004875485</td>\n",
       "      <td>8</td>\n",
       "      <td>18</td>\n",
       "      <td>733428</td>\n",
       "      <td>4</td>\n",
       "      <td>4</td>\n",
       "      <td>75.21594</td>\n",
       "    </tr>\n",
       "  </tbody>\n",
       "</table>\n",
       "</div>"
      ],
      "text/plain": [
       "     id1    id2           id3  id4  id5     id6  v1  v2        v3\n",
       "0  id043  id035  id0004875485    8   18  733428   4   4  75.21594"
      ]
     },
     "execution_count": 9,
     "metadata": {},
     "output_type": "execute_result"
    }
   ],
   "source": [
    "%%time\n",
    "delta_1e9_v1 = DeltaTable(\n",
    "    f\"{pathlib.Path.home()}/data/deltalake/G1_1e9_1e2_0_0\", version=3\n",
    ").to_pyarrow_dataset()\n",
    "duckdb.query(\"select * from delta_1e9_v1 where v3 = 75.21594\").to_df()"
   ]
  },
  {
   "cell_type": "markdown",
   "id": "8437c613-5985-4869-8591-e3847147a2c3",
   "metadata": {},
   "source": [
    "## 1e9 duckdb + Parquet"
   ]
  },
  {
   "cell_type": "code",
   "execution_count": 12,
   "id": "74b62f03-1d35-4e8b-891e-bf8c8ceabd0f",
   "metadata": {},
   "outputs": [
    {
     "name": "stdout",
     "output_type": "stream",
     "text": [
      "CPU times: user 1min 30s, sys: 13.1 s, total: 1min 43s\n",
      "Wall time: 17.9 s\n"
     ]
    },
    {
     "data": {
      "text/html": [
       "<div>\n",
       "<style scoped>\n",
       "    .dataframe tbody tr th:only-of-type {\n",
       "        vertical-align: middle;\n",
       "    }\n",
       "\n",
       "    .dataframe tbody tr th {\n",
       "        vertical-align: top;\n",
       "    }\n",
       "\n",
       "    .dataframe thead th {\n",
       "        text-align: right;\n",
       "    }\n",
       "</style>\n",
       "<table border=\"1\" class=\"dataframe\">\n",
       "  <thead>\n",
       "    <tr style=\"text-align: right;\">\n",
       "      <th></th>\n",
       "      <th>id1</th>\n",
       "      <th>id2</th>\n",
       "      <th>id3</th>\n",
       "      <th>id4</th>\n",
       "      <th>id5</th>\n",
       "      <th>id6</th>\n",
       "      <th>v1</th>\n",
       "      <th>v2</th>\n",
       "      <th>v3</th>\n",
       "    </tr>\n",
       "  </thead>\n",
       "  <tbody>\n",
       "    <tr>\n",
       "      <th>0</th>\n",
       "      <td>id043</td>\n",
       "      <td>id035</td>\n",
       "      <td>id0004875485</td>\n",
       "      <td>8</td>\n",
       "      <td>18</td>\n",
       "      <td>733428</td>\n",
       "      <td>4</td>\n",
       "      <td>4</td>\n",
       "      <td>75.21594</td>\n",
       "    </tr>\n",
       "  </tbody>\n",
       "</table>\n",
       "</div>"
      ],
      "text/plain": [
       "     id1    id2           id3  id4  id5     id6  v1  v2        v3\n",
       "0  id043  id035  id0004875485    8   18  733428   4   4  75.21594"
      ]
     },
     "execution_count": 12,
     "metadata": {},
     "output_type": "execute_result"
    }
   ],
   "source": [
    "%%time\n",
    "parquet_1e9_path = f\"{pathlib.Path.home()}/data/G1_1e9_1e2_0_0.parquet\"\n",
    "parquet_1e9 = pa.dataset.dataset(parquet_1e9_path, format=\"parquet\")\n",
    "duckdb.query(\"select * from parquet_1e9 where v3 = 75.21594\").to_df()"
   ]
  },
  {
   "cell_type": "code",
   "execution_count": 14,
   "id": "6005fcc1-f26d-4404-bfc1-7bfbc5256006",
   "metadata": {},
   "outputs": [
    {
     "data": {
      "text/plain": [
       "<pyarrow._parquet.FileMetaData object at 0x12967d1d0>\n",
       "  created_by: parquet-cpp-arrow version 11.0.0\n",
       "  num_columns: 9\n",
       "  num_rows: 1000000000\n",
       "  num_row_groups: 50467\n",
       "  format_version: 2.6\n",
       "  serialized_size: 47438984"
      ]
     },
     "execution_count": 14,
     "metadata": {},
     "output_type": "execute_result"
    }
   ],
   "source": [
    "import pyarrow.parquet as pq\n",
    "parquet_file = pq.ParquetFile(parquet_1e9_path)\n",
    "parquet_file.metadata"
   ]
  },
  {
   "cell_type": "markdown",
   "id": "d18848fb-d1ec-40ff-bb11-04896d714b02",
   "metadata": {},
   "source": [
    "## Convert 1e8 to lance"
   ]
  },
  {
   "cell_type": "code",
   "execution_count": 6,
   "id": "a4b7beaa-6c35-462b-8d76-092d03794725",
   "metadata": {},
   "outputs": [],
   "source": [
    "import duckdb\n",
    "import lance\n",
    "import pyarrow as pa\n",
    "import pyarrow.dataset"
   ]
  },
  {
   "cell_type": "code",
   "execution_count": 4,
   "id": "5aba5b2d-3cfd-4487-bcb4-72dce6dafc22",
   "metadata": {},
   "outputs": [],
   "source": [
    "path = f\"{pathlib.Path.home()}/data/G1_1e8_1e2_0_0.parquet\""
   ]
  },
  {
   "cell_type": "code",
   "execution_count": 5,
   "id": "d956efcd-d597-4537-af39-eb9dd21f2ca9",
   "metadata": {},
   "outputs": [
    {
     "name": "stdout",
     "output_type": "stream",
     "text": [
      "CPU times: user 13.6 s, sys: 12.2 s, total: 25.8 s\n",
      "Wall time: 17.7 s\n"
     ]
    },
    {
     "data": {
      "text/plain": [
       "<lance.dataset.LanceDataset at 0x12221cd00>"
      ]
     },
     "execution_count": 5,
     "metadata": {},
     "output_type": "execute_result"
    }
   ],
   "source": [
    "%%time\n",
    "parquet = pa.dataset.dataset(path, format=\"parquet\")\n",
    "lance.write_dataset(parquet, f\"{pathlib.Path.home()}/data/G1_1e8_1e2_0_0.lance\")"
   ]
  },
  {
   "cell_type": "code",
   "execution_count": 14,
   "id": "9cb7adac-ec57-4bae-97dd-db242debde3b",
   "metadata": {},
   "outputs": [
    {
     "name": "stdout",
     "output_type": "stream",
     "text": [
      "CPU times: user 1.83 s, sys: 2.6 s, total: 4.43 s\n",
      "Wall time: 4.92 s\n"
     ]
    },
    {
     "data": {
      "text/html": [
       "<div>\n",
       "<style scoped>\n",
       "    .dataframe tbody tr th:only-of-type {\n",
       "        vertical-align: middle;\n",
       "    }\n",
       "\n",
       "    .dataframe tbody tr th {\n",
       "        vertical-align: top;\n",
       "    }\n",
       "\n",
       "    .dataframe thead th {\n",
       "        text-align: right;\n",
       "    }\n",
       "</style>\n",
       "<table border=\"1\" class=\"dataframe\">\n",
       "  <thead>\n",
       "    <tr style=\"text-align: right;\">\n",
       "      <th></th>\n",
       "      <th>id1</th>\n",
       "      <th>id2</th>\n",
       "      <th>id3</th>\n",
       "      <th>id4</th>\n",
       "      <th>id5</th>\n",
       "      <th>id6</th>\n",
       "      <th>v1</th>\n",
       "      <th>v2</th>\n",
       "      <th>v3</th>\n",
       "    </tr>\n",
       "  </thead>\n",
       "  <tbody>\n",
       "    <tr>\n",
       "      <th>0</th>\n",
       "      <td>id002</td>\n",
       "      <td>id041</td>\n",
       "      <td>id0000451508</td>\n",
       "      <td>86</td>\n",
       "      <td>81</td>\n",
       "      <td>364984</td>\n",
       "      <td>3</td>\n",
       "      <td>9</td>\n",
       "      <td>75.21594</td>\n",
       "    </tr>\n",
       "  </tbody>\n",
       "</table>\n",
       "</div>"
      ],
      "text/plain": [
       "     id1    id2           id3  id4  id5     id6  v1  v2        v3\n",
       "0  id002  id041  id0000451508   86   81  364984   3   9  75.21594"
      ]
     },
     "execution_count": 14,
     "metadata": {},
     "output_type": "execute_result"
    }
   ],
   "source": [
    "%%time\n",
    "dataset = lance.dataset(f\"{pathlib.Path.home()}/data/G1_1e8_1e2_0_0.lance\")\n",
    "duckdb.query(\"select * from dataset where v3 = 75.21594\").to_df()"
   ]
  },
  {
   "cell_type": "code",
   "execution_count": 12,
   "id": "495d58a2-c34d-4127-b170-e0b70d06cf3b",
   "metadata": {},
   "outputs": [
    {
     "data": {
      "text/plain": [
       "┌───────────┬───────┐\n",
       "│    v3     │ count │\n",
       "│  double   │ int64 │\n",
       "├───────────┼───────┤\n",
       "│ 88.294451 │     1 │\n",
       "│ 66.172531 │     1 │\n",
       "│ 99.491438 │     1 │\n",
       "└───────────┴───────┘"
      ]
     },
     "execution_count": 12,
     "metadata": {},
     "output_type": "execute_result"
    }
   ],
   "source": [
    "duckdb.query(\n",
    "    \"select v3, count(*) as count from dataset group by v3 having count = 1 limit 3\"\n",
    ")"
   ]
  },
  {
   "cell_type": "markdown",
   "id": "6bd7e942-436e-47c2-9afd-99f672cd9fc1",
   "metadata": {},
   "source": [
    "## Convert 1e9 to lance"
   ]
  },
  {
   "cell_type": "code",
   "execution_count": 9,
   "id": "0afbfee5-3000-4af6-9dd3-a1bef0ea1644",
   "metadata": {},
   "outputs": [],
   "source": [
    "path = f\"{pathlib.Path.home()}/data/G1_1e9_1e2_0_0.parquet\""
   ]
  },
  {
   "cell_type": "code",
   "execution_count": 10,
   "id": "35d3d573-31d9-4051-a600-85820fd68b80",
   "metadata": {},
   "outputs": [
    {
     "name": "stdout",
     "output_type": "stream",
     "text": [
      "CPU times: user 2min 18s, sys: 2min 4s, total: 4min 23s\n",
      "Wall time: 3min 3s\n"
     ]
    },
    {
     "data": {
      "text/plain": [
       "<lance.dataset.LanceDataset at 0x12229f220>"
      ]
     },
     "execution_count": 10,
     "metadata": {},
     "output_type": "execute_result"
    }
   ],
   "source": [
    "%%time\n",
    "parquet = pa.dataset.dataset(path, format=\"parquet\")\n",
    "lance.write_dataset(parquet, f\"{pathlib.Path.home()}/data/G1_1e9_1e2_0_0.lance\")"
   ]
  },
  {
   "cell_type": "code",
   "execution_count": 13,
   "id": "6f923ddd-7343-40ee-98e4-13bfaee35ace",
   "metadata": {},
   "outputs": [
    {
     "name": "stdout",
     "output_type": "stream",
     "text": [
      "CPU times: user 18.3 s, sys: 26.5 s, total: 44.9 s\n",
      "Wall time: 49 s\n"
     ]
    },
    {
     "data": {
      "text/html": [
       "<div>\n",
       "<style scoped>\n",
       "    .dataframe tbody tr th:only-of-type {\n",
       "        vertical-align: middle;\n",
       "    }\n",
       "\n",
       "    .dataframe tbody tr th {\n",
       "        vertical-align: top;\n",
       "    }\n",
       "\n",
       "    .dataframe thead th {\n",
       "        text-align: right;\n",
       "    }\n",
       "</style>\n",
       "<table border=\"1\" class=\"dataframe\">\n",
       "  <thead>\n",
       "    <tr style=\"text-align: right;\">\n",
       "      <th></th>\n",
       "      <th>id1</th>\n",
       "      <th>id2</th>\n",
       "      <th>id3</th>\n",
       "      <th>id4</th>\n",
       "      <th>id5</th>\n",
       "      <th>id6</th>\n",
       "      <th>v1</th>\n",
       "      <th>v2</th>\n",
       "      <th>v3</th>\n",
       "    </tr>\n",
       "  </thead>\n",
       "  <tbody>\n",
       "    <tr>\n",
       "      <th>0</th>\n",
       "      <td>id043</td>\n",
       "      <td>id035</td>\n",
       "      <td>id0004875485</td>\n",
       "      <td>8</td>\n",
       "      <td>18</td>\n",
       "      <td>733428</td>\n",
       "      <td>4</td>\n",
       "      <td>4</td>\n",
       "      <td>75.21594</td>\n",
       "    </tr>\n",
       "  </tbody>\n",
       "</table>\n",
       "</div>"
      ],
      "text/plain": [
       "     id1    id2           id3  id4  id5     id6  v1  v2        v3\n",
       "0  id043  id035  id0004875485    8   18  733428   4   4  75.21594"
      ]
     },
     "execution_count": 13,
     "metadata": {},
     "output_type": "execute_result"
    }
   ],
   "source": [
    "%%time\n",
    "dataset_1e9 = lance.dataset(f\"{pathlib.Path.home()}/data/G1_1e9_1e2_0_0.lance\")\n",
    "duckdb.query(\"select * from dataset_1e9 where v3 = 75.21594\").to_df()"
   ]
  },
  {
   "cell_type": "code",
   "execution_count": 13,
   "id": "5d162bc2-47dc-443c-94ac-18d68ada021e",
   "metadata": {},
   "outputs": [
    {
     "data": {
      "text/plain": [
       "┌───────────┬───────┐\n",
       "│    v3     │ count │\n",
       "│  double   │ int64 │\n",
       "├───────────┼───────┤\n",
       "│  75.21594 │     1 │\n",
       "│ 54.307981 │     1 │\n",
       "│ 55.345451 │     1 │\n",
       "└───────────┴───────┘"
      ]
     },
     "execution_count": 13,
     "metadata": {},
     "output_type": "execute_result"
    }
   ],
   "source": [
    "duckdb.query(\n",
    "    \"select v3, count(*) as count from dataset_1e9 group by v3 having count = 1 limit 3\"\n",
    ")"
   ]
  },
  {
   "cell_type": "markdown",
   "id": "0538ba99-615e-4bdc-81c0-ad94f40ca615",
   "metadata": {},
   "source": [
    "## 1e8 DataFusion + Delta Lake"
   ]
  },
  {
   "cell_type": "code",
   "execution_count": 22,
   "id": "96d71916-b452-491a-a0fd-28e44f8ac76c",
   "metadata": {},
   "outputs": [],
   "source": [
    "table = DeltaTable(f\"{pathlib.Path.home()}/data/delta/G1_1e8_1e2_0_0\")"
   ]
  },
  {
   "cell_type": "code",
   "execution_count": 23,
   "id": "cb1cd6dc-ea3d-40cb-8079-658473f62ae2",
   "metadata": {},
   "outputs": [],
   "source": [
    "ctx = SessionContext()"
   ]
  },
  {
   "cell_type": "code",
   "execution_count": 5,
   "id": "f80ceeeb-dd65-4bee-aff3-5bb55ef0e495",
   "metadata": {},
   "outputs": [
    {
     "name": "stdout",
     "output_type": "stream",
     "text": [
      "CPU times: user 2.1 ms, sys: 3.97 ms, total: 6.06 ms\n",
      "Wall time: 4.4 ms\n"
     ]
    }
   ],
   "source": [
    "%%time\n",
    "ctx.register_dataset(\"my_dataset\", table.to_pyarrow_dataset())"
   ]
  },
  {
   "cell_type": "code",
   "execution_count": 7,
   "id": "24e7a571-638f-4a35-8a0c-09c7335708e2",
   "metadata": {},
   "outputs": [
    {
     "name": "stdout",
     "output_type": "stream",
     "text": [
      "CPU times: user 1.21 ms, sys: 3.3 ms, total: 4.51 ms\n",
      "Wall time: 2.26 ms\n"
     ]
    },
    {
     "data": {
      "text/plain": [
       "DataFrame()\n",
       "+-----------+-------+\n",
       "| v3        | count |\n",
       "+-----------+-------+\n",
       "| 28.137485 | 1     |\n",
       "| 77.515974 | 1     |\n",
       "| 76.625757 | 1     |\n",
       "+-----------+-------+"
      ]
     },
     "execution_count": 7,
     "metadata": {},
     "output_type": "execute_result"
    }
   ],
   "source": [
    "%%time\n",
    "ctx.sql(\n",
    "    \"select v3, count(*) as count from my_dataset group by v3 having count = 1 limit 3\"\n",
    ")"
   ]
  },
  {
   "cell_type": "code",
   "execution_count": 8,
   "id": "fe8f943b-6516-4569-90de-e41ca2516a4e",
   "metadata": {},
   "outputs": [
    {
     "name": "stdout",
     "output_type": "stream",
     "text": [
      "DataFrame()\n",
      "+-------+-------+--------------+-----+-----+--------+----+----+-----------+\n",
      "| id1   | id2   | id3          | id4 | id5 | id6    | v1 | v2 | v3        |\n",
      "+-------+-------+--------------+-----+-----+--------+----+----+-----------+\n",
      "| id038 | id089 | id0000051604 | 68  | 37  | 964527 | 2  | 3  | 28.137485 |\n",
      "+-------+-------+--------------+-----+-----+--------+----+----+-----------+\n",
      "CPU times: user 9.63 s, sys: 1.64 s, total: 11.3 s\n",
      "Wall time: 1.92 s\n"
     ]
    }
   ],
   "source": [
    "%%time\n",
    "res = ctx.sql(\"select * from my_dataset where v3 = 28.137485\")\n",
    "print(res)"
   ]
  },
  {
   "cell_type": "markdown",
   "id": "bfe91d1a-3e84-481d-91ee-55003f2aceab",
   "metadata": {},
   "source": [
    "## 1e9 DataFusion + Delta Lake"
   ]
  },
  {
   "cell_type": "code",
   "execution_count": 24,
   "id": "2bdea21b-b259-49eb-8f2e-82a90f86512c",
   "metadata": {},
   "outputs": [],
   "source": [
    "table_1e9 = DeltaTable(f\"{pathlib.Path.home()}/data/delta/G1_1e9_1e2_0_0\")"
   ]
  },
  {
   "cell_type": "code",
   "execution_count": 25,
   "id": "9839060a-dc79-44ba-85cd-ff7f53ec0b03",
   "metadata": {},
   "outputs": [
    {
     "name": "stdout",
     "output_type": "stream",
     "text": [
      "CPU times: user 4.16 ms, sys: 3.43 ms, total: 7.58 ms\n",
      "Wall time: 5.07 ms\n"
     ]
    }
   ],
   "source": [
    "%%time\n",
    "ctx.register_dataset(\"my_dataset_1e9\", table.to_pyarrow_dataset())"
   ]
  },
  {
   "cell_type": "code",
   "execution_count": 26,
   "id": "2807c83c-d18e-4791-8846-d4f3fa999ddc",
   "metadata": {},
   "outputs": [
    {
     "name": "stdout",
     "output_type": "stream",
     "text": [
      "DataFrame()\n",
      "+-------+-------+--------------+-----+-----+--------+----+----+----------+\n",
      "| id1   | id2   | id3          | id4 | id5 | id6    | v1 | v2 | v3       |\n",
      "+-------+-------+--------------+-----+-----+--------+----+----+----------+\n",
      "| id002 | id041 | id0000451508 | 86  | 81  | 364984 | 3  | 9  | 75.21594 |\n",
      "+-------+-------+--------------+-----+-----+--------+----+----+----------+\n",
      "CPU times: user 9.47 s, sys: 1.93 s, total: 11.4 s\n",
      "Wall time: 2.03 s\n"
     ]
    }
   ],
   "source": [
    "%%time\n",
    "res = ctx.sql(\"select * from my_dataset_1e9 where v3 = 75.21594\")\n",
    "print(res)"
   ]
  },
  {
   "cell_type": "code",
   "execution_count": null,
   "id": "8a44a73b-4671-4aec-acf1-5b117e2588bc",
   "metadata": {},
   "outputs": [],
   "source": []
  }
 ],
 "metadata": {
  "kernelspec": {
   "display_name": "deltalake-0110",
   "language": "python",
   "name": "deltalake-0110"
  },
  "language_info": {
   "codemirror_mode": {
    "name": "ipython",
    "version": 3
   },
   "file_extension": ".py",
   "mimetype": "text/x-python",
   "name": "python",
   "nbconvert_exporter": "python",
   "pygments_lexer": "ipython3",
   "version": "3.9.18"
  }
 },
 "nbformat": 4,
 "nbformat_minor": 5
}
