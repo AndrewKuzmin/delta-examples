{
 "cells": [
  {
   "cell_type": "code",
   "execution_count": 8,
   "id": "8883d00c-85b9-4fa9-8ec7-03e37eff841b",
   "metadata": {},
   "outputs": [],
   "source": [
    "import pathlib\n",
    "\n",
    "from datafusion import SessionContext\n",
    "\n",
    "import pyarrow.dataset as ds\n",
    "from deltalake import DeltaTable"
   ]
  },
  {
   "cell_type": "markdown",
   "id": "94986b6c-e062-4120-a1a9-bf686926c53b",
   "metadata": {},
   "source": [
    "# DataFusion Read Delta"
   ]
  },
  {
   "cell_type": "code",
   "execution_count": 9,
   "id": "15e84ec2-91c1-45fb-82c0-ca760de16eef",
   "metadata": {},
   "outputs": [],
   "source": [
    "table = DeltaTable(f\"{pathlib.Path.home()}/data/delta/G1_1e8_1e2_0_0\")"
   ]
  },
  {
   "cell_type": "code",
   "execution_count": 10,
   "id": "af6ef2be-0a69-4ab9-9c2a-d143e79f99fc",
   "metadata": {},
   "outputs": [],
   "source": [
    "ctx = SessionContext()"
   ]
  },
  {
   "cell_type": "markdown",
   "id": "c2c75ad2-3858-4355-8684-6aa19fb8418e",
   "metadata": {},
   "source": [
    "### With PyArrow dataset"
   ]
  },
  {
   "cell_type": "code",
   "execution_count": 6,
   "id": "5f51b242-200c-4642-8659-050dabf604ea",
   "metadata": {},
   "outputs": [],
   "source": [
    "ctx.register_dataset(\"my_dataset\", table.to_pyarrow_dataset())"
   ]
  },
  {
   "cell_type": "code",
   "execution_count": 7,
   "id": "d26990bd-6ad8-495b-aa92-effa7f552f7e",
   "metadata": {},
   "outputs": [
    {
     "data": {
      "text/plain": [
       "DataFrame()\n",
       "+-------+-------+--------------+-----+-----+--------+----+----+-----------+\n",
       "| id1   | id2   | id3          | id4 | id5 | id6    | v1 | v2 | v3        |\n",
       "+-------+-------+--------------+-----+-----+--------+----+----+-----------+\n",
       "| id007 | id096 | id0000445327 | 76  | 60  | 566466 | 2  | 11 | 82.691753 |\n",
       "| id018 | id078 | id0000576456 | 52  | 92  | 193437 | 3  | 8  | 32.02124  |\n",
       "| id019 | id049 | id0000790237 | 11  | 85  | 979819 | 4  | 13 | 17.001827 |\n",
       "| id052 | id058 | id0000041914 | 42  | 12  | 198611 | 5  | 13 | 66.46749  |\n",
       "| id010 | id016 | id0000921752 | 11  | 99  | 166079 | 1  | 7  | 61.637281 |\n",
       "| id033 | id027 | id0000054357 | 100 | 79  | 793235 | 1  | 13 | 65.844356 |\n",
       "| id049 | id031 | id0000237885 | 21  | 96  | 849387 | 3  | 7  | 40.847662 |\n",
       "| id036 | id100 | id0000840597 | 26  | 92  | 51226  | 2  | 8  | 38.039983 |\n",
       "| id010 | id033 | id0000128874 | 33  | 18  | 493856 | 3  | 15 | 91.906635 |\n",
       "| id026 | id045 | id0000045901 | 35  | 94  | 785336 | 4  | 13 | 11.126579 |\n",
       "+-------+-------+--------------+-----+-----+--------+----+----+-----------+"
      ]
     },
     "execution_count": 7,
     "metadata": {},
     "output_type": "execute_result"
    }
   ],
   "source": [
    "ctx.sql(\"select * from my_dataset where v2 > 5\")"
   ]
  },
  {
   "cell_type": "markdown",
   "id": "c370e6b0-b0e1-4417-b92f-34da72ae70eb",
   "metadata": {},
   "source": [
    "### With PyArrow table"
   ]
  },
  {
   "cell_type": "code",
   "execution_count": 4,
   "id": "69e4a85f-a3dc-4b08-99bd-c50e598b90be",
   "metadata": {},
   "outputs": [
    {
     "ename": "TypeError",
     "evalue": "argument 'table': 'Table' object cannot be converted to 'Table'",
     "output_type": "error",
     "traceback": [
      "\u001b[0;31m---------------------------------------------------------------------------\u001b[0m",
      "\u001b[0;31mTypeError\u001b[0m                                 Traceback (most recent call last)",
      "Cell \u001b[0;32mIn[4], line 1\u001b[0m\n\u001b[0;32m----> 1\u001b[0m \u001b[43mctx\u001b[49m\u001b[38;5;241;43m.\u001b[39;49m\u001b[43mregister_table\u001b[49m\u001b[43m(\u001b[49m\u001b[38;5;124;43m\"\u001b[39;49m\u001b[38;5;124;43mmy_table\u001b[39;49m\u001b[38;5;124;43m\"\u001b[39;49m\u001b[43m,\u001b[49m\u001b[43m \u001b[49m\u001b[43mtable\u001b[49m\u001b[38;5;241;43m.\u001b[39;49m\u001b[43mto_pyarrow_table\u001b[49m\u001b[43m(\u001b[49m\u001b[43m)\u001b[49m\u001b[43m)\u001b[49m\n",
      "\u001b[0;31mTypeError\u001b[0m: argument 'table': 'Table' object cannot be converted to 'Table'"
     ]
    }
   ],
   "source": [
    "ctx.register_table(\"my_table\", table.to_pyarrow_table())"
   ]
  },
  {
   "cell_type": "markdown",
   "id": "1e198729-30e0-44cb-926f-481d5982bc35",
   "metadata": {},
   "source": [
    "### With batches"
   ]
  },
  {
   "cell_type": "code",
   "execution_count": 11,
   "id": "12174e7a-4b51-4dda-8227-d8d41af4bcac",
   "metadata": {},
   "outputs": [
    {
     "ename": "TypeError",
     "evalue": "argument 'partitions': 'generator' object cannot be converted to 'PyList'",
     "output_type": "error",
     "traceback": [
      "\u001b[0;31m---------------------------------------------------------------------------\u001b[0m",
      "\u001b[0;31mTypeError\u001b[0m                                 Traceback (most recent call last)",
      "Cell \u001b[0;32mIn[11], line 1\u001b[0m\n\u001b[0;32m----> 1\u001b[0m \u001b[43mctx\u001b[49m\u001b[38;5;241;43m.\u001b[39;49m\u001b[43mcreate_dataframe\u001b[49m\u001b[43m(\u001b[49m\u001b[43mtable\u001b[49m\u001b[38;5;241;43m.\u001b[39;49m\u001b[43mto_pyarrow_dataset\u001b[49m\u001b[43m(\u001b[49m\u001b[43m)\u001b[49m\u001b[38;5;241;43m.\u001b[39;49m\u001b[43mto_batches\u001b[49m\u001b[43m(\u001b[49m\u001b[43m)\u001b[49m\u001b[43m)\u001b[49m\n",
      "\u001b[0;31mTypeError\u001b[0m: argument 'partitions': 'generator' object cannot be converted to 'PyList'"
     ]
    }
   ],
   "source": [
    "ctx.create_dataframe(table.to_pyarrow_table().to_batches())"
   ]
  },
  {
   "cell_type": "code",
   "execution_count": null,
   "id": "74d6d2ee-140d-4301-a23e-8c7a9cda1c70",
   "metadata": {},
   "outputs": [],
   "source": []
  }
 ],
 "metadata": {
  "kernelspec": {
   "display_name": "deltalake-0100",
   "language": "python",
   "name": "deltalake-0100"
  },
  "language_info": {
   "codemirror_mode": {
    "name": "ipython",
    "version": 3
   },
   "file_extension": ".py",
   "mimetype": "text/x-python",
   "name": "python",
   "nbconvert_exporter": "python",
   "pygments_lexer": "ipython3",
   "version": "3.9.16"
  }
 },
 "nbformat": 4,
 "nbformat_minor": 5
}
