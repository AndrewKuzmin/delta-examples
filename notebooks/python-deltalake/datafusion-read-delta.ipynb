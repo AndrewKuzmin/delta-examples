{
 "cells": [
  {
   "cell_type": "code",
   "execution_count": 1,
   "id": "8883d00c-85b9-4fa9-8ec7-03e37eff841b",
   "metadata": {},
   "outputs": [],
   "source": [
    "import pathlib\n",
    "\n",
    "from datafusion import SessionContext\n",
    "\n",
    "import pyarrow.dataset as ds\n",
    "from deltalake import DeltaTable"
   ]
  },
  {
   "cell_type": "markdown",
   "id": "94986b6c-e062-4120-a1a9-bf686926c53b",
   "metadata": {},
   "source": [
    "# DataFusion Read Delta"
   ]
  },
  {
   "cell_type": "code",
   "execution_count": 2,
   "id": "15e84ec2-91c1-45fb-82c0-ca760de16eef",
   "metadata": {},
   "outputs": [],
   "source": [
    "table = DeltaTable(f\"{pathlib.Path.home()}/data/delta/G1_1e8_1e2_0_0\")"
   ]
  },
  {
   "cell_type": "code",
   "execution_count": 3,
   "id": "af6ef2be-0a69-4ab9-9c2a-d143e79f99fc",
   "metadata": {},
   "outputs": [],
   "source": [
    "ctx = SessionContext()"
   ]
  },
  {
   "cell_type": "code",
   "execution_count": 5,
   "id": "12174e7a-4b51-4dda-8227-d8d41af4bcac",
   "metadata": {},
   "outputs": [
    {
     "ename": "TypeError",
     "evalue": "argument 'partitions': 'FileSystemDataset' object cannot be converted to 'PyList'",
     "output_type": "error",
     "traceback": [
      "\u001b[0;31m---------------------------------------------------------------------------\u001b[0m",
      "\u001b[0;31mTypeError\u001b[0m                                 Traceback (most recent call last)",
      "Cell \u001b[0;32mIn[5], line 1\u001b[0m\n\u001b[0;32m----> 1\u001b[0m \u001b[43mctx\u001b[49m\u001b[38;5;241;43m.\u001b[39;49m\u001b[43mcreate_dataframe\u001b[49m\u001b[43m(\u001b[49m\u001b[43mtable\u001b[49m\u001b[38;5;241;43m.\u001b[39;49m\u001b[43mto_pyarrow_dataset\u001b[49m\u001b[43m(\u001b[49m\u001b[43m)\u001b[49m\u001b[43m)\u001b[49m\n",
      "\u001b[0;31mTypeError\u001b[0m: argument 'partitions': 'FileSystemDataset' object cannot be converted to 'PyList'"
     ]
    }
   ],
   "source": [
    "ctx.create_dataframe(table.to_pyarrow_dataset())"
   ]
  }
 ],
 "metadata": {
  "kernelspec": {
   "display_name": "deltalake-0100",
   "language": "python",
   "name": "deltalake-0100"
  },
  "language_info": {
   "codemirror_mode": {
    "name": "ipython",
    "version": 3
   },
   "file_extension": ".py",
   "mimetype": "text/x-python",
   "name": "python",
   "nbconvert_exporter": "python",
   "pygments_lexer": "ipython3",
   "version": "3.9.16"
  }
 },
 "nbformat": 4,
 "nbformat_minor": 5
}
