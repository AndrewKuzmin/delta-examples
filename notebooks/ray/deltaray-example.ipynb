{
 "cells": [
  {
   "cell_type": "markdown",
   "id": "ba0f5e34-13c1-4545-aa48-f3a68687d48a",
   "metadata": {},
   "source": [
    "# deltaray example"
   ]
  },
  {
   "cell_type": "code",
   "execution_count": 1,
   "id": "7930c11d-cd67-4a92-9e0f-fdf42808b3cd",
   "metadata": {
    "tags": []
   },
   "outputs": [
    {
     "name": "stderr",
     "output_type": "stream",
     "text": [
      "/Users/matthew.powers/opt/miniconda3/envs/deltalake-090/lib/python3.9/site-packages/tqdm/auto.py:21: TqdmWarning: IProgress not found. Please update jupyter and ipywidgets. See https://ipywidgets.readthedocs.io/en/stable/user_install.html\n",
      "  from .autonotebook import tqdm as notebook_tqdm\n"
     ]
    }
   ],
   "source": [
    "# Standard Libraries\n",
    "import pathlib\n",
    "\n",
    "# External Libraries\n",
    "import deltaray\n",
    "import deltalake as dl\n",
    "import pandas as pd"
   ]
  },
  {
   "cell_type": "code",
   "execution_count": 2,
   "id": "d327925e-21b2-46c8-86bc-049b4dfea347",
   "metadata": {
    "tags": []
   },
   "outputs": [],
   "source": [
    "# Creating a Delta Table\n",
    "cwd = pathlib.Path().resolve()\n",
    "table_uri = f'{cwd}/tmp/delta-table'\n",
    "df = pd.DataFrame({'id': [0, 1, 2, 3, 4, ], })\n",
    "dl.write_deltalake(table_uri, df)"
   ]
  },
  {
   "cell_type": "code",
   "execution_count": 3,
   "id": "c40863e2-1c3f-45cc-93f6-42c896f8f588",
   "metadata": {
    "tags": []
   },
   "outputs": [
    {
     "name": "stderr",
     "output_type": "stream",
     "text": [
      "2023-05-09 11:23:34,292\tINFO worker.py:1625 -- Started a local Ray instance.\n",
      "\u001b[2m\u001b[36m(_get_read_tasks pid=14315)\u001b[0m /Users/matthew.powers/opt/miniconda3/envs/deltalake-090/lib/python3.9/site-packages/ray/data/datasource/parquet_datasource.py:238: FutureWarning: 'ParquetDataset.pieces' attribute is deprecated as of pyarrow 5.0.0 and will be removed in a future version. Use the '.fragments' attribute instead\n",
      "\u001b[2m\u001b[36m(_get_read_tasks pid=14315)\u001b[0m   pq_ds.pieces, **prefetch_remote_args\n",
      "\u001b[2m\u001b[36m(_get_read_tasks pid=14315)\u001b[0m /Users/matthew.powers/opt/miniconda3/envs/deltalake-090/lib/python3.9/site-packages/ray/data/datasource/parquet_datasource.py:316: FutureWarning: 'ParquetDataset.pieces' attribute is deprecated as of pyarrow 5.0.0 and will be removed in a future version. Use the '.fragments' attribute instead\n",
      "\u001b[2m\u001b[36m(_get_read_tasks pid=14315)\u001b[0m   num_files = len(self._pq_ds.pieces)\n",
      "\u001b[2m\u001b[36m(_get_read_tasks pid=14315)\u001b[0m /Users/matthew.powers/opt/miniconda3/envs/deltalake-090/lib/python3.9/site-packages/ray/data/datasource/parquet_datasource.py:329: FutureWarning: 'ParquetDataset.pieces' attribute is deprecated as of pyarrow 5.0.0 and will be removed in a future version. Use the '.fragments' attribute instead\n",
      "\u001b[2m\u001b[36m(_get_read_tasks pid=14315)\u001b[0m   self._pq_ds.pieces[idx]\n",
      "(pid=14315) Parquet Files Sample 0:   0%|          | 0/1 [00:00<?, ?it/s]2023-05-09 11:23:35,963\tWARNING read_api.py:358 -- ⚠️  The number of blocks in this dataset (1) limits its parallelism to 1 concurrent tasks. This is much less than the number of available CPU slots in the cluster. Use `.repartition(n)` to increase the number of dataset blocks.\n",
      "2023-05-09 11:23:35,974\tINFO streaming_executor.py:83 -- Executing DAG InputDataBuffer[Input] -> TaskPoolMapOperator[DoRead]\n",
      "2023-05-09 11:23:35,975\tINFO streaming_executor.py:84 -- Execution config: ExecutionOptions(resource_limits=ExecutionResources(cpu=None, gpu=None, object_store_memory=None), locality_with_output=False, preserve_order=False, actor_locality_enabled=True, verbose_progress=False)\n",
      "\n",
      "Running 0:   0%|          | 0/1 [00:00<?, ?it/s]\u001b[A\n",
      "                                                                          0:   0%|          | 0/1 [00:00<?, ?it/s]\u001b[A\n",
      "\u001b[A                                                                                                               \u001b[2m\u001b[36m(_get_read_tasks pid=14315)\u001b[0m /Users/matthew.powers/opt/miniconda3/envs/deltalake-090/lib/python3.9/site-packages/ray/data/datasource/parquet_datasource.py:268: FutureWarning: 'ParquetDataset.pieces' attribute is deprecated as of pyarrow 5.0.0 and will be removed in a future version. Use the '.fragments' attribute instead\n",
      "\u001b[2m\u001b[36m(_get_read_tasks pid=14315)\u001b[0m   np.array_split(self._pq_ds.pieces, parallelism),\n",
      "(pid=14315) Parquet Files Sample 0:   0%|          | 0/1 [00:00<?, ?it/s]\n",
      "                                                                                 |██████████| 1/1 [00:00<00:00, 12.33it/s]\u001b[A\n",
      "                                                                                                                          "
     ]
    },
    {
     "name": "stdout",
     "output_type": "stream",
     "text": [
      "{'id': 0}\n",
      "{'id': 1}\n",
      "{'id': 2}\n",
      "{'id': 3}\n",
      "{'id': 4}\n"
     ]
    },
    {
     "name": "stderr",
     "output_type": "stream",
     "text": [
      "\r"
     ]
    }
   ],
   "source": [
    "# Reading our Delta Table\n",
    "ds = deltaray.read_delta(table_uri)\n",
    "ds.show()"
   ]
  },
  {
   "cell_type": "code",
   "execution_count": 4,
   "id": "8fdc248b-e2c2-4f3a-863e-add5a5050ff3",
   "metadata": {},
   "outputs": [
    {
     "name": "stderr",
     "output_type": "stream",
     "text": [
      "2023-05-09 11:24:23,275\tWARNING read_api.py:358 -- ⚠️  The number of blocks in this dataset (1) limits its parallelism to 1 concurrent tasks. This is much less than the number of available CPU slots in the cluster. Use `.repartition(n)` to increase the number of dataset blocks.\n",
      "2023-05-09 11:24:23,278\tINFO streaming_executor.py:83 -- Executing DAG InputDataBuffer[Input] -> TaskPoolMapOperator[DoRead]\n",
      "2023-05-09 11:24:23,278\tINFO streaming_executor.py:84 -- Execution config: ExecutionOptions(resource_limits=ExecutionResources(cpu=None, gpu=None, object_store_memory=None), locality_with_output=False, preserve_order=False, actor_locality_enabled=True, verbose_progress=False)\n",
      "                                                                                                                  \n",
      "                                                                          0:   0%|          | 0/1 [00:00<?, ?it/s]\u001b[A\n",
      "                                                                                                                          "
     ]
    },
    {
     "name": "stdout",
     "output_type": "stream",
     "text": [
      "{'utf8': '0', 'int64': 0, 'int32': 0, 'int16': 0, 'int8': 0, 'float32': 0.0, 'float64': 0.0, 'bool': True, 'binary': b'', 'decimal': Decimal('10.000'), 'date32': datetime.date(1970, 1, 1), 'timestamp': Timestamp('1970-01-01 00:00:00')}\n",
      "{'utf8': '1', 'int64': 1, 'int32': 1, 'int16': 1, 'int8': 1, 'float32': 1.0, 'float64': 1.0, 'bool': False, 'binary': b'\\x00', 'decimal': Decimal('11.000'), 'date32': datetime.date(1970, 1, 2), 'timestamp': Timestamp('1970-01-01 01:00:00')}\n",
      "{'utf8': '2', 'int64': 2, 'int32': 2, 'int16': 2, 'int8': 2, 'float32': 2.0, 'float64': 2.0, 'bool': True, 'binary': b'\\x00\\x00', 'decimal': Decimal('12.000'), 'date32': datetime.date(1970, 1, 3), 'timestamp': Timestamp('1970-01-01 02:00:00')}\n",
      "{'utf8': '3', 'int64': 3, 'int32': 3, 'int16': 3, 'int8': 3, 'float32': 3.0, 'float64': 3.0, 'bool': False, 'binary': b'\\x00\\x00\\x00', 'decimal': Decimal('13.000'), 'date32': datetime.date(1970, 1, 4), 'timestamp': Timestamp('1970-01-01 03:00:00')}\n",
      "{'utf8': '4', 'int64': 4, 'int32': 4, 'int16': 4, 'int8': 4, 'float32': 4.0, 'float64': 4.0, 'bool': True, 'binary': b'\\x00\\x00\\x00\\x00', 'decimal': Decimal('14.000'), 'date32': datetime.date(1970, 1, 5), 'timestamp': Timestamp('1970-01-01 04:00:00')}\n"
     ]
    },
    {
     "name": "stderr",
     "output_type": "stream",
     "text": [
      "\r"
     ]
    }
   ],
   "source": [
    "ds = deltaray.read_delta(\"/Users/matthew.powers/Documents/code/my_apps/deltadask/tests/reader_tests/generated/all_primitive_types/delta\")\n",
    "ds.show()"
   ]
  },
  {
   "cell_type": "code",
   "execution_count": 5,
   "id": "bd990b41-d802-4470-a5e8-fe9563215ffb",
   "metadata": {
    "tags": []
   },
   "outputs": [
    {
     "name": "stderr",
     "output_type": "stream",
     "text": [
      "(pid=14315) Parquet Files Sample 0:   0%|          | 0/2 [00:00<?, ?it/s]2023-05-09 11:25:25,111\tWARNING read_api.py:358 -- ⚠️  The number of blocks in this dataset (2) limits its parallelism to 2 concurrent tasks. This is much less than the number of available CPU slots in the cluster. Use `.repartition(n)` to increase the number of dataset blocks.\n",
      "2023-05-09 11:25:25,114\tINFO streaming_executor.py:83 -- Executing DAG InputDataBuffer[Input] -> TaskPoolMapOperator[DoRead]\n",
      "2023-05-09 11:25:25,114\tINFO streaming_executor.py:84 -- Execution config: ExecutionOptions(resource_limits=ExecutionResources(cpu=None, gpu=None, object_store_memory=None), locality_with_output=False, preserve_order=False, actor_locality_enabled=True, verbose_progress=False)\n",
      "\n",
      "Running 0:   0%|          | 0/2 [00:00<?, ?it/s]\u001b[A\n",
      "                                                                                 |          | 0/2 [00:00<?, ?it/s]\u001b[A\n",
      "                                                                                                                  "
     ]
    },
    {
     "name": "stdout",
     "output_type": "stream",
     "text": [
      "{'letter': 'a', 'number': 1, 'a_float': 1.1}\n",
      "{'letter': 'b', 'number': 2, 'a_float': 2.2}\n",
      "{'letter': 'c', 'number': 3, 'a_float': 3.3}\n",
      "{'letter': 'd', 'number': 4, 'a_float': 4.4}\n",
      "{'letter': 'e', 'number': 5, 'a_float': 5.5}\n"
     ]
    },
    {
     "name": "stderr",
     "output_type": "stream",
     "text": [
      "\r"
     ]
    }
   ],
   "source": [
    "ds = deltaray.read_delta(\"/Users/matthew.powers/Documents/code/my_apps/deltadask/tests/reader_tests/generated/basic_append/delta\")\n",
    "ds.show()"
   ]
  },
  {
   "cell_type": "code",
   "execution_count": null,
   "id": "0f82f1dc-96e5-4fc9-b159-3e40de71ef46",
   "metadata": {},
   "outputs": [],
   "source": []
  }
 ],
 "metadata": {
  "kernelspec": {
   "display_name": "Python [conda env:deltalake-090]",
   "language": "python",
   "name": "conda-env-deltalake-090-py"
  },
  "language_info": {
   "codemirror_mode": {
    "name": "ipython",
    "version": 3
   },
   "file_extension": ".py",
   "mimetype": "text/x-python",
   "name": "python",
   "nbconvert_exporter": "python",
   "pygments_lexer": "ipython3",
   "version": "3.9.16"
  }
 },
 "nbformat": 4,
 "nbformat_minor": 5
}
