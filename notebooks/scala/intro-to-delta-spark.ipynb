{
 "cells": [
  {
   "cell_type": "code",
   "execution_count": 1,
   "id": "6844a876-1470-474a-975c-25d91ee4cd07",
   "metadata": {},
   "outputs": [
    {
     "data": {
      "text/plain": [
       "\u001b[36mres0\u001b[39m: \u001b[32mInt\u001b[39m = \u001b[32m2\u001b[39m"
      ]
     },
     "execution_count": 1,
     "metadata": {},
     "output_type": "execute_result"
    }
   ],
   "source": [
    "1 + 1"
   ]
  },
  {
   "cell_type": "code",
   "execution_count": 2,
   "id": "1fd0784e-338b-47b1-bd0b-0f7424599c43",
   "metadata": {},
   "outputs": [
    {
     "data": {
      "text/plain": [
       "\u001b[36mx\u001b[39m: \u001b[32mString\u001b[39m = \u001b[32m\"hi\"\u001b[39m"
      ]
     },
     "execution_count": 2,
     "metadata": {},
     "output_type": "execute_result"
    }
   ],
   "source": [
    "val x = \"hi\""
   ]
  },
  {
   "cell_type": "code",
   "execution_count": null,
   "id": "99fbd5fe-dcc9-48ef-9812-0ac33676c252",
   "metadata": {},
   "outputs": [
    {
     "name": "stderr",
     "output_type": "stream",
     "text": [
      "Downloading https://repo1.maven.org/maven2/org/apache/spark/spark-sql_2.13/2.4.0/spark-sql_2.13-2.4.0.pom\n",
      "Downloading https://repo1.maven.org/maven2/sh/almond/almond-spark_2.13/0.13.0/almond-spark_2.13-0.13.0.pom\n",
      "Downloaded https://repo1.maven.org/maven2/sh/almond/almond-spark_2.13/0.13.0/almond-spark_2.13-0.13.0.pom\n",
      "Downloaded https://repo1.maven.org/maven2/org/apache/spark/spark-sql_2.13/2.4.0/spark-sql_2.13-2.4.0.pom\n",
      "Downloading https://repo1.maven.org/maven2/org/apache/spark/spark-sql_2.13/2.4.0/spark-sql_2.13-2.4.0.pom.sha1\n",
      "Downloading https://repo1.maven.org/maven2/sh/almond/almond-spark_2.13/0.13.0/almond-spark_2.13-0.13.0.pom.sha1\n",
      "Downloaded https://repo1.maven.org/maven2/sh/almond/almond-spark_2.13/0.13.0/almond-spark_2.13-0.13.0.pom.sha1\n",
      "Downloaded https://repo1.maven.org/maven2/org/apache/spark/spark-sql_2.13/2.4.0/spark-sql_2.13-2.4.0.pom.sha1\n",
      "Failed to resolve ivy dependencies:Error downloading sh.almond:almond-spark_2.13:0.13.0\n",
      "  not found: /Users/powers/.ivy2/local/sh.almond/almond-spark_2.13/0.13.0/ivys/ivy.xml\n",
      "  not found: https://repo1.maven.org/maven2/sh/almond/almond-spark_2.13/0.13.0/almond-spark_2.13-0.13.0.pom\n",
      "Error downloading org.apache.spark:spark-sql_2.13:2.4.0\n",
      "  not found: /Users/powers/.ivy2/local/org.apache.spark/spark-sql_2.13/2.4.0/ivys/ivy.xml\n",
      "  not found: https://repo1.maven.org/maven2/org/apache/spark/spark-sql_2.13/2.4.0/spark-sql_2.13-2.4.0.pom\n"
     ]
    },
    {
     "ename": "",
     "evalue": "",
     "output_type": "error",
     "traceback": [
      "Failed to resolve ivy dependencies:Error downloading sh.almond:almond-spark_2.13:0.13.0\n  not found: /Users/powers/.ivy2/local/sh.almond/almond-spark_2.13/0.13.0/ivys/ivy.xml\n  not found: https://repo1.maven.org/maven2/sh/almond/almond-spark_2.13/0.13.0/almond-spark_2.13-0.13.0.pom\nError downloading org.apache.spark:spark-sql_2.13:2.4.0\n  not found: /Users/powers/.ivy2/local/org.apache.spark/spark-sql_2.13/2.4.0/ivys/ivy.xml\n  not found: https://repo1.maven.org/maven2/org/apache/spark/spark-sql_2.13/2.4.0/spark-sql_2.13-2.4.0.pom\n"
     ]
    }
   ],
   "source": [
    "import $ivy.`org.apache.spark::spark-sql:2.4.0`"
   ]
  },
  {
   "cell_type": "code",
   "execution_count": null,
   "id": "8c5e9781-59a3-4cdf-b09a-d59bb1b61495",
   "metadata": {},
   "outputs": [
    {
     "name": "stderr",
     "output_type": "stream",
     "text": [
      "cmd0.sc:1: object apache is not a member of package org\n",
      "import org.apache.spark.sql\n",
      "           ^Compilation Failed"
     ]
    },
    {
     "ename": "",
     "evalue": "",
     "output_type": "error",
     "traceback": [
      "Compilation Failed"
     ]
    }
   ],
   "source": []
  },
  {
   "cell_type": "code",
   "execution_count": null,
   "id": "9bb4acc0-c710-4085-ac94-40101c6253b0",
   "metadata": {},
   "outputs": [
    {
     "name": "stderr",
     "output_type": "stream",
     "text": [
      "Downloading https://repo1.maven.org/maven2/org/apache/spark/spark-sql_2.13/3.2.0/spark-sql_2.13-3.2.0.pom\n",
      "Downloading https://repo1.maven.org/maven2/sh/almond/almond-spark_2.13/0.13.0/almond-spark_2.13-0.13.0.pom\n",
      "Downloaded https://repo1.maven.org/maven2/sh/almond/almond-spark_2.13/0.13.0/almond-spark_2.13-0.13.0.pom\n",
      "Downloading https://repo1.maven.org/maven2/sh/almond/almond-spark_2.13/0.13.0/almond-spark_2.13-0.13.0.pom.sha1\n",
      "Downloaded https://repo1.maven.org/maven2/org/apache/spark/spark-sql_2.13/3.2.0/spark-sql_2.13-3.2.0.pom\n",
      "Downloaded https://repo1.maven.org/maven2/sh/almond/almond-spark_2.13/0.13.0/almond-spark_2.13-0.13.0.pom.sha1\n",
      "Downloading https://repo1.maven.org/maven2/org/apache/spark/spark-parent_2.13/3.2.0/spark-parent_2.13-3.2.0.pom\n",
      "Downloaded https://repo1.maven.org/maven2/org/apache/spark/spark-parent_2.13/3.2.0/spark-parent_2.13-3.2.0.pom\n",
      "Downloading https://repo1.maven.org/maven2/org/apache/spark/spark-tags_2.13/3.2.0/spark-tags_2.13-3.2.0.pom\n",
      "Downloading https://repo1.maven.org/maven2/org/apache/spark/spark-sketch_2.13/3.2.0/spark-sketch_2.13-3.2.0.pom\n",
      "Downloading https://repo1.maven.org/maven2/org/apache/orc/orc-core/1.6.11/orc-core-1.6.11.pom\n",
      "Downloading https://repo1.maven.org/maven2/org/apache/spark/spark-catalyst_2.13/3.2.0/spark-catalyst_2.13-3.2.0.pom\n",
      "Downloading https://repo1.maven.org/maven2/org/apache/parquet/parquet-column/1.12.1/parquet-column-1.12.1.pom\n",
      "Downloading https://repo1.maven.org/maven2/org/apache/parquet/parquet-hadoop/1.12.1/parquet-hadoop-1.12.1.pom\n",
      "Downloaded https://repo1.maven.org/maven2/org/apache/parquet/parquet-column/1.12.1/parquet-column-1.12.1.pom\n",
      "Downloaded https://repo1.maven.org/maven2/org/apache/spark/spark-sketch_2.13/3.2.0/spark-sketch_2.13-3.2.0.pom\n",
      "Downloading https://repo1.maven.org/maven2/org/apache/spark/spark-core_2.13/3.2.0/spark-core_2.13-3.2.0.pom\n",
      "Downloading https://repo1.maven.org/maven2/org/apache/orc/orc-mapreduce/1.6.11/orc-mapreduce-1.6.11.pom\n",
      "Downloaded https://repo1.maven.org/maven2/org/apache/orc/orc-mapreduce/1.6.11/orc-mapreduce-1.6.11.pom\n",
      "Downloaded https://repo1.maven.org/maven2/org/apache/spark/spark-core_2.13/3.2.0/spark-core_2.13-3.2.0.pom\n",
      "Downloaded https://repo1.maven.org/maven2/org/apache/spark/spark-catalyst_2.13/3.2.0/spark-catalyst_2.13-3.2.0.pom\n",
      "Downloaded https://repo1.maven.org/maven2/org/apache/parquet/parquet-hadoop/1.12.1/parquet-hadoop-1.12.1.pom\n",
      "Downloaded https://repo1.maven.org/maven2/org/apache/orc/orc-core/1.6.11/orc-core-1.6.11.pom\n",
      "Downloaded https://repo1.maven.org/maven2/org/apache/spark/spark-tags_2.13/3.2.0/spark-tags_2.13-3.2.0.pom\n",
      "Downloading https://repo1.maven.org/maven2/org/apache/parquet/parquet/1.12.1/parquet-1.12.1.pom\n",
      "Downloading https://repo1.maven.org/maven2/org/apache/orc/orc/1.6.11/orc-1.6.11.pom\n",
      "Downloaded https://repo1.maven.org/maven2/org/apache/parquet/parquet/1.12.1/parquet-1.12.1.pom\n",
      "Downloaded https://repo1.maven.org/maven2/org/apache/orc/orc/1.6.11/orc-1.6.11.pom\n",
      "Downloading https://repo1.maven.org/maven2/org/apache/parquet/parquet-common/1.12.1/parquet-common-1.12.1.pom\n",
      "Downloading https://repo1.maven.org/maven2/org/apache/spark/spark-network-common_2.13/3.2.0/spark-network-common_2.13-3.2.0.pom\n",
      "Downloading https://repo1.maven.org/maven2/org/apache/parquet/parquet-encoding/1.12.1/parquet-encoding-1.12.1.pom\n",
      "Downloading https://repo1.maven.org/maven2/org/apache/spark/spark-network-shuffle_2.13/3.2.0/spark-network-shuffle_2.13-3.2.0.pom\n",
      "Downloading https://repo1.maven.org/maven2/org/apache/spark/spark-unsafe_2.13/3.2.0/spark-unsafe_2.13-3.2.0.pom\n",
      "Downloading https://repo1.maven.org/maven2/org/apache/parquet/parquet-jackson/1.12.1/parquet-jackson-1.12.1.pom\n",
      "Downloaded https://repo1.maven.org/maven2/org/apache/parquet/parquet-jackson/1.12.1/parquet-jackson-1.12.1.pom\n",
      "Downloaded https://repo1.maven.org/maven2/org/apache/spark/spark-network-shuffle_2.13/3.2.0/spark-network-shuffle_2.13-3.2.0.pom\n",
      "Downloaded https://repo1.maven.org/maven2/org/apache/spark/spark-network-common_2.13/3.2.0/spark-network-common_2.13-3.2.0.pom\n",
      "Downloaded https://repo1.maven.org/maven2/org/apache/parquet/parquet-common/1.12.1/parquet-common-1.12.1.pom\n",
      "Downloaded https://repo1.maven.org/maven2/org/apache/spark/spark-unsafe_2.13/3.2.0/spark-unsafe_2.13-3.2.0.pom\n",
      "Downloading https://repo1.maven.org/maven2/org/apache/orc/orc-shims/1.6.11/orc-shims-1.6.11.pom\n",
      "Downloading https://repo1.maven.org/maven2/org/apache/spark/spark-launcher_2.13/3.2.0/spark-launcher_2.13-3.2.0.pom\n",
      "Downloading https://repo1.maven.org/maven2/org/apache/parquet/parquet-format-structures/1.12.1/parquet-format-structures-1.12.1.pom\n",
      "Downloading https://repo1.maven.org/maven2/net/sf/py4j/py4j/0.10.9.2/py4j-0.10.9.2.pom\n",
      "Downloading https://repo1.maven.org/maven2/org/apache/spark/spark-kvstore_2.13/3.2.0/spark-kvstore_2.13-3.2.0.pom\n",
      "Downloaded https://repo1.maven.org/maven2/net/sf/py4j/py4j/0.10.9.2/py4j-0.10.9.2.pom\n",
      "Downloaded https://repo1.maven.org/maven2/org/apache/orc/orc-shims/1.6.11/orc-shims-1.6.11.pom\n",
      "Downloaded https://repo1.maven.org/maven2/org/apache/spark/spark-launcher_2.13/3.2.0/spark-launcher_2.13-3.2.0.pom\n",
      "Downloaded https://repo1.maven.org/maven2/org/apache/parquet/parquet-format-structures/1.12.1/parquet-format-structures-1.12.1.pom\n",
      "Downloaded https://repo1.maven.org/maven2/org/apache/spark/spark-kvstore_2.13/3.2.0/spark-kvstore_2.13-3.2.0.pom\n",
      "Downloaded https://repo1.maven.org/maven2/org/apache/parquet/parquet-encoding/1.12.1/parquet-encoding-1.12.1.pom\n",
      "Failed to resolve ivy dependencies:Error downloading sh.almond:almond-spark_2.13:0.13.0\n",
      "  not found: /Users/powers/.ivy2/local/sh.almond/almond-spark_2.13/0.13.0/ivys/ivy.xml\n",
      "  not found: https://repo1.maven.org/maven2/sh/almond/almond-spark_2.13/0.13.0/almond-spark_2.13-0.13.0.pom"
     ]
    },
    {
     "ename": "",
     "evalue": "",
     "output_type": "error",
     "traceback": [
      "Failed to resolve ivy dependencies:Error downloading sh.almond:almond-spark_2.13:0.13.0\n  not found: /Users/powers/.ivy2/local/sh.almond/almond-spark_2.13/0.13.0/ivys/ivy.xml\n  not found: https://repo1.maven.org/maven2/sh/almond/almond-spark_2.13/0.13.0/almond-spark_2.13-0.13.0.pom"
     ]
    }
   ],
   "source": [
    "import $ivy.`org.apache.spark::spark-sql:3.2.0`"
   ]
  },
  {
   "cell_type": "code",
   "execution_count": 2,
   "id": "3dc0cec9-9ea2-4948-a1a3-8f5dab30f70a",
   "metadata": {},
   "outputs": [
    {
     "name": "stderr",
     "output_type": "stream",
     "text": [
      "cmd2.sc:1: object apache is not a member of package org\n",
      "val res2 = org.apache.spark\n",
      "               ^Compilation Failed"
     ]
    },
    {
     "ename": "",
     "evalue": "",
     "output_type": "error",
     "traceback": [
      "Compilation Failed"
     ]
    }
   ],
   "source": [
    "org.apache.spark"
   ]
  },
  {
   "cell_type": "code",
   "execution_count": 2,
   "id": "78b4790e-1eba-4922-baba-05e556ba68f9",
   "metadata": {},
   "outputs": [
    {
     "name": "stderr",
     "output_type": "stream",
     "text": [
      "cmd2.sc:1: package scala.math is not a value\n",
      "val res2 = math\n",
      "           ^Compilation Failed"
     ]
    },
    {
     "ename": "",
     "evalue": "",
     "output_type": "error",
     "traceback": [
      "Compilation Failed"
     ]
    }
   ],
   "source": [
    "math"
   ]
  },
  {
   "cell_type": "code",
   "execution_count": 1,
   "id": "42d1b96d-1aa4-42e7-8b7b-22129afc9692",
   "metadata": {},
   "outputs": [
    {
     "data": {
      "text/plain": [
       "\u001b[36mres0\u001b[39m: \u001b[32mString\u001b[39m = \u001b[32m\"hi\"\u001b[39m"
      ]
     },
     "execution_count": 1,
     "metadata": {},
     "output_type": "execute_result"
    }
   ],
   "source": [
    "\"hi\""
   ]
  },
  {
   "cell_type": "code",
   "execution_count": 1,
   "id": "9edad8a9-60d7-4473-b8c8-03d20afc90d9",
   "metadata": {},
   "outputs": [
    {
     "name": "stderr",
     "output_type": "stream",
     "text": [
      "cmd1.sc:1: object apache is not a member of package org\n",
      "import org.apache.spark\n",
      "           ^Compilation Failed"
     ]
    },
    {
     "ename": "",
     "evalue": "",
     "output_type": "error",
     "traceback": [
      "Compilation Failed"
     ]
    }
   ],
   "source": [
    "import org.apache.spark"
   ]
  },
  {
   "cell_type": "code",
   "execution_count": null,
   "id": "2a5e5027-8631-4ebe-983b-d0b057f7f1dd",
   "metadata": {},
   "outputs": [],
   "source": []
  }
 ],
 "metadata": {
  "kernelspec": {
   "display_name": "Scala",
   "language": "scala",
   "name": "scala"
  },
  "language_info": {
   "codemirror_mode": "text/x-scala",
   "file_extension": ".sc",
   "mimetype": "text/x-scala",
   "name": "scala",
   "nbconvert_exporter": "script",
   "version": "2.13.8"
  }
 },
 "nbformat": 4,
 "nbformat_minor": 5
}
