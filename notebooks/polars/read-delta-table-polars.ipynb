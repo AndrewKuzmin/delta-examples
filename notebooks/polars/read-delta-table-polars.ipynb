{
 "cells": [
  {
   "cell_type": "markdown",
   "id": "30952780-3678-408f-b92f-fdcff6a91b30",
   "metadata": {},
   "source": [
    "# Read Delta Lake table with Polars\n",
    "\n",
    "This notebook works with the `delta-polars` environment."
   ]
  },
  {
   "cell_type": "code",
   "execution_count": 1,
   "id": "f851fa53-4bfc-4e32-985d-a124f10b98ce",
   "metadata": {},
   "outputs": [],
   "source": [
    "import os\n",
    "\n",
    "import pandas as pd\n",
    "import polars as pl\n",
    "from deltalake import DeltaTable\n",
    "from deltalake.writer import write_deltalake"
   ]
  },
  {
   "cell_type": "code",
   "execution_count": 2,
   "id": "3b069488-d877-4f74-802a-8b7b460c6df6",
   "metadata": {},
   "outputs": [
    {
     "data": {
      "text/plain": [
       "polars.cfg.Config"
      ]
     },
     "execution_count": 2,
     "metadata": {},
     "output_type": "execute_result"
    }
   ],
   "source": [
    "pl.Config.set_ascii_tables(True) "
   ]
  },
  {
   "cell_type": "markdown",
   "id": "195afc56-9be9-49a8-9dc0-9b86a1ea0c6b",
   "metadata": {},
   "source": [
    "## Create Delta table"
   ]
  },
  {
   "cell_type": "code",
   "execution_count": 3,
   "id": "d9310492-35ab-4d13-b978-b12c23641c37",
   "metadata": {},
   "outputs": [],
   "source": [
    "df = pd.DataFrame({\"x\": [1, 2, 3]})"
   ]
  },
  {
   "cell_type": "code",
   "execution_count": 4,
   "id": "2c2f6fff-aba2-48be-bbc3-2e4c33eba742",
   "metadata": {},
   "outputs": [],
   "source": [
    "os.makedirs(\"tmp/bear_delta_lake\", exist_ok=True)"
   ]
  },
  {
   "cell_type": "code",
   "execution_count": 5,
   "id": "1d66f20d-2c0b-4720-91c1-10324222226d",
   "metadata": {},
   "outputs": [],
   "source": [
    "write_deltalake(\"tmp/bear_delta_lake\", df)"
   ]
  },
  {
   "cell_type": "code",
   "execution_count": 6,
   "id": "a9811912-1860-46de-a555-f85a28fc92c5",
   "metadata": {},
   "outputs": [],
   "source": [
    "df = pl.read_delta(\"tmp/bear_delta_lake\", version=0)"
   ]
  },
  {
   "cell_type": "code",
   "execution_count": 7,
   "id": "7197ebb3-ff37-49f2-8d1b-7ad24958b188",
   "metadata": {},
   "outputs": [
    {
     "name": "stdout",
     "output_type": "stream",
     "text": [
      "shape: (3, 1)\n",
      "+-----+\n",
      "| x   |\n",
      "| --- |\n",
      "| i64 |\n",
      "+=====+\n",
      "| 1   |\n",
      "|-----|\n",
      "| 2   |\n",
      "|-----|\n",
      "| 3   |\n",
      "+-----+\n"
     ]
    }
   ],
   "source": [
    "print(df)"
   ]
  },
  {
   "cell_type": "code",
   "execution_count": 11,
   "id": "8f3b1fc3-7c36-4abf-b549-dbfbc98c8787",
   "metadata": {},
   "outputs": [
    {
     "data": {
      "text/plain": [
       "pandas.core.frame.DataFrame"
      ]
     },
     "execution_count": 11,
     "metadata": {},
     "output_type": "execute_result"
    }
   ],
   "source": [
    "type(df)"
   ]
  },
  {
   "cell_type": "code",
   "execution_count": 8,
   "id": "99e1026d-8338-480f-9c78-68fa1d1861fc",
   "metadata": {},
   "outputs": [],
   "source": [
    "df = pl.read_delta(\"tmp/bear_delta_lake\")"
   ]
  },
  {
   "cell_type": "code",
   "execution_count": 9,
   "id": "5ec769a2-fee9-4aef-bce3-51b38102d2df",
   "metadata": {},
   "outputs": [
    {
     "name": "stdout",
     "output_type": "stream",
     "text": [
      "shape: (3, 1)\n",
      "+-----+\n",
      "| x   |\n",
      "| --- |\n",
      "| i64 |\n",
      "+=====+\n",
      "| 1   |\n",
      "|-----|\n",
      "| 2   |\n",
      "|-----|\n",
      "| 3   |\n",
      "+-----+\n"
     ]
    }
   ],
   "source": [
    "print(df)"
   ]
  },
  {
   "cell_type": "markdown",
   "id": "5f8d0c48-d64f-4cef-8790-b46fb1e352b3",
   "metadata": {},
   "source": [
    "## Append to Delta table"
   ]
  },
  {
   "cell_type": "code",
   "execution_count": 10,
   "id": "cce7fdc1-88d2-4a28-9d40-911b31538eff",
   "metadata": {},
   "outputs": [],
   "source": [
    "df2 = pd.DataFrame({\"x\": [9, 8, 10]})"
   ]
  },
  {
   "cell_type": "code",
   "execution_count": 11,
   "id": "9a04244e-b4bf-45b6-bac5-48ca5e33eeb5",
   "metadata": {},
   "outputs": [],
   "source": [
    "write_deltalake(\"tmp/bear_delta_lake\", df2, mode=\"append\")"
   ]
  },
  {
   "cell_type": "code",
   "execution_count": 12,
   "id": "e5f21f5a-1881-4db6-93fe-0602fd32b5d2",
   "metadata": {},
   "outputs": [],
   "source": [
    "df = pl.read_delta(\"tmp/bear_delta_lake\")"
   ]
  },
  {
   "cell_type": "code",
   "execution_count": 13,
   "id": "ec01e1a5-2c93-4578-8bdd-88065cd8437b",
   "metadata": {},
   "outputs": [
    {
     "name": "stdout",
     "output_type": "stream",
     "text": [
      "shape: (6, 1)\n",
      "+-----+\n",
      "| x   |\n",
      "| --- |\n",
      "| i64 |\n",
      "+=====+\n",
      "| 1   |\n",
      "|-----|\n",
      "| 2   |\n",
      "|-----|\n",
      "| 3   |\n",
      "|-----|\n",
      "| 9   |\n",
      "|-----|\n",
      "| 8   |\n",
      "|-----|\n",
      "| 10  |\n",
      "+-----+\n"
     ]
    }
   ],
   "source": [
    "print(df)"
   ]
  },
  {
   "cell_type": "markdown",
   "id": "d89dbcc1-9a2f-4ace-bc72-ce6f144dc21d",
   "metadata": {},
   "source": [
    "## Overwrite Delta table"
   ]
  },
  {
   "cell_type": "code",
   "execution_count": 14,
   "id": "0a1e23ed-762a-4557-916c-e9a03c386bf9",
   "metadata": {},
   "outputs": [],
   "source": [
    "df3 = pd.DataFrame({\"x\": [55, 66, 77]})"
   ]
  },
  {
   "cell_type": "code",
   "execution_count": 15,
   "id": "0f47eea4-dd7c-43ef-9c4a-6d9f007b0f7c",
   "metadata": {},
   "outputs": [],
   "source": [
    "write_deltalake(\"tmp/bear_delta_lake\", df3, mode=\"overwrite\")"
   ]
  },
  {
   "cell_type": "code",
   "execution_count": 16,
   "id": "1c6b28a4-d50d-41e4-a310-f0ff66781437",
   "metadata": {},
   "outputs": [],
   "source": [
    "df = pl.read_delta(\"tmp/bear_delta_lake\")"
   ]
  },
  {
   "cell_type": "code",
   "execution_count": 17,
   "id": "704fffaa-bd66-4222-a793-75954f48a046",
   "metadata": {},
   "outputs": [
    {
     "name": "stdout",
     "output_type": "stream",
     "text": [
      "shape: (3, 1)\n",
      "+-----+\n",
      "| x   |\n",
      "| --- |\n",
      "| i64 |\n",
      "+=====+\n",
      "| 55  |\n",
      "|-----|\n",
      "| 66  |\n",
      "|-----|\n",
      "| 77  |\n",
      "+-----+\n"
     ]
    }
   ],
   "source": [
    "print(df)"
   ]
  },
  {
   "cell_type": "markdown",
   "id": "911c3bab-693b-48ca-a8da-736e5d893e33",
   "metadata": {},
   "source": [
    "## Lazy read with scan_delta"
   ]
  },
  {
   "cell_type": "code",
   "execution_count": 18,
   "id": "ff7c249a-1133-4456-99e8-5667a8de1d2a",
   "metadata": {},
   "outputs": [],
   "source": [
    "df = pl.scan_delta(\"tmp/bear_delta_lake\")"
   ]
  },
  {
   "cell_type": "code",
   "execution_count": 19,
   "id": "6100b48a-273e-4fed-ba63-1595c2a6b96b",
   "metadata": {},
   "outputs": [
    {
     "name": "stdout",
     "output_type": "stream",
     "text": [
      "shape: (3, 1)\n",
      "+-----+\n",
      "| x   |\n",
      "| --- |\n",
      "| i64 |\n",
      "+=====+\n",
      "| 55  |\n",
      "|-----|\n",
      "| 66  |\n",
      "|-----|\n",
      "| 77  |\n",
      "+-----+\n"
     ]
    }
   ],
   "source": [
    "print(df.collect())"
   ]
  },
  {
   "cell_type": "markdown",
   "id": "7c1397d6-ea32-4f4b-9112-c71270c53f69",
   "metadata": {},
   "source": [
    "## Confirm other versions are still accessible"
   ]
  },
  {
   "cell_type": "code",
   "execution_count": 20,
   "id": "fee5eb04-1bea-49a2-ac9c-79dc8abd2da9",
   "metadata": {},
   "outputs": [
    {
     "name": "stdout",
     "output_type": "stream",
     "text": [
      "shape: (6, 1)\n",
      "+-----+\n",
      "| x   |\n",
      "| --- |\n",
      "| i64 |\n",
      "+=====+\n",
      "| 1   |\n",
      "|-----|\n",
      "| 2   |\n",
      "|-----|\n",
      "| 3   |\n",
      "|-----|\n",
      "| 9   |\n",
      "|-----|\n",
      "| 8   |\n",
      "|-----|\n",
      "| 10  |\n",
      "+-----+\n"
     ]
    }
   ],
   "source": [
    "print(pl.read_delta(\"tmp/bear_delta_lake\", version=1))"
   ]
  },
  {
   "cell_type": "code",
   "execution_count": 21,
   "id": "fdca8ca8-c0e0-473a-9f28-f63f074158c3",
   "metadata": {},
   "outputs": [
    {
     "name": "stdout",
     "output_type": "stream",
     "text": [
      "shape: (3, 1)\n",
      "+-----+\n",
      "| x   |\n",
      "| --- |\n",
      "| i64 |\n",
      "+=====+\n",
      "| 1   |\n",
      "|-----|\n",
      "| 2   |\n",
      "|-----|\n",
      "| 3   |\n",
      "+-----+\n"
     ]
    }
   ],
   "source": [
    "print(pl.read_delta(\"tmp/bear_delta_lake\", version=0))"
   ]
  },
  {
   "cell_type": "markdown",
   "id": "4dd66173-2364-4743-a534-6a5d08062c40",
   "metadata": {},
   "source": [
    "## Text for image"
   ]
  },
  {
   "cell_type": "code",
   "execution_count": 22,
   "id": "16c05e40-9a3d-4262-8b2a-831a016a8312",
   "metadata": {},
   "outputs": [
    {
     "name": "stdout",
     "output_type": "stream",
     "text": [
      "shape: (3, 1)\n",
      "+-----+\n",
      "| x   |\n",
      "| --- |\n",
      "| i64 |\n",
      "+=====+\n",
      "| 1   |\n",
      "|-----|\n",
      "| 2   |\n",
      "|-----|\n",
      "| 3   |\n",
      "+-----+\n"
     ]
    }
   ],
   "source": [
    "import polars as pl\n",
    "\n",
    "print(pl.read_delta(\"tmp/bear_delta_lake\", version=0))"
   ]
  },
  {
   "cell_type": "code",
   "execution_count": null,
   "id": "986c61ca-1e0e-45f7-81a7-55764046a165",
   "metadata": {},
   "outputs": [],
   "source": []
  }
 ],
 "metadata": {
  "kernelspec": {
   "display_name": "Python [conda env:delta-polars]",
   "language": "python",
   "name": "conda-env-delta-polars-py"
  },
  "language_info": {
   "codemirror_mode": {
    "name": "ipython",
    "version": 3
   },
   "file_extension": ".py",
   "mimetype": "text/x-python",
   "name": "python",
   "nbconvert_exporter": "python",
   "pygments_lexer": "ipython3",
   "version": "3.9.15"
  }
 },
 "nbformat": 4,
 "nbformat_minor": 5
}
