{
 "cells": [
  {
   "cell_type": "markdown",
   "id": "30952780-3678-408f-b92f-fdcff6a91b30",
   "metadata": {},
   "source": [
    "# Read Delta Lake table with Polars\n",
    "\n",
    "This notebook works with the `delta-polars` environment."
   ]
  },
  {
   "cell_type": "code",
   "execution_count": 1,
   "id": "f851fa53-4bfc-4e32-985d-a124f10b98ce",
   "metadata": {},
   "outputs": [],
   "source": [
    "import os\n",
    "\n",
    "import pandas as pd\n",
    "import polars as pl\n",
    "from deltalake import DeltaTable\n",
    "from deltalake.writer import write_deltalake\n",
    "\n",
    "# table_path = \"/path/to/delta-table/\"\n",
    "\n",
    "# # `scan_delta` example\n",
    "# ldf = pl.scan_delta(table_path).collect()\n",
    "# print(ldf)\n",
    "\n",
    "# # `read_delta` example\n",
    "# df = pl.read_delta(table_path, version=1)\n",
    "# print(df)"
   ]
  },
  {
   "cell_type": "code",
   "execution_count": 2,
   "id": "3b069488-d877-4f74-802a-8b7b460c6df6",
   "metadata": {},
   "outputs": [
    {
     "data": {
      "text/plain": [
       "polars.cfg.Config"
      ]
     },
     "execution_count": 2,
     "metadata": {},
     "output_type": "execute_result"
    }
   ],
   "source": [
    "pl.Config.set_ascii_tables(True) "
   ]
  },
  {
   "cell_type": "markdown",
   "id": "195afc56-9be9-49a8-9dc0-9b86a1ea0c6b",
   "metadata": {},
   "source": [
    "## Create Delta table"
   ]
  },
  {
   "cell_type": "code",
   "execution_count": 10,
   "id": "d9310492-35ab-4d13-b978-b12c23641c37",
   "metadata": {},
   "outputs": [],
   "source": [
    "df = pd.DataFrame({\"x\": [1, 2, 3]})"
   ]
  },
  {
   "cell_type": "code",
   "execution_count": 11,
   "id": "2c2f6fff-aba2-48be-bbc3-2e4c33eba742",
   "metadata": {},
   "outputs": [],
   "source": [
    "os.makedirs(\"tmp/bear_delta_lake\", exist_ok=True)"
   ]
  },
  {
   "cell_type": "code",
   "execution_count": 12,
   "id": "1d66f20d-2c0b-4720-91c1-10324222226d",
   "metadata": {},
   "outputs": [
    {
     "ename": "NameError",
     "evalue": "name 'cwd' is not defined",
     "output_type": "error",
     "traceback": [
      "\u001b[0;31m---------------------------------------------------------------------------\u001b[0m",
      "\u001b[0;31mNameError\u001b[0m                                 Traceback (most recent call last)",
      "Cell \u001b[0;32mIn[14], line 1\u001b[0m\n\u001b[0;32m----> 1\u001b[0m write_deltalake(\u001b[38;5;124mf\u001b[39m\u001b[38;5;124m\"\u001b[39m\u001b[38;5;132;01m{\u001b[39;00m\u001b[43mcwd\u001b[49m\u001b[38;5;132;01m}\u001b[39;00m\u001b[38;5;124m/tmp/bear_delta_lake\u001b[39m\u001b[38;5;124m\"\u001b[39m, df)\n",
      "\u001b[0;31mNameError\u001b[0m: name 'cwd' is not defined"
     ]
    }
   ],
   "source": [
    "write_deltalake(\"tmp/bear_delta_lake\", df)"
   ]
  },
  {
   "cell_type": "code",
   "execution_count": 9,
   "id": "a9811912-1860-46de-a555-f85a28fc92c5",
   "metadata": {},
   "outputs": [
    {
     "ename": "ArrowInvalid",
     "evalue": "URI has empty scheme: 'tmp/bear_delta_lake'",
     "output_type": "error",
     "traceback": [
      "\u001b[0;31m---------------------------------------------------------------------------\u001b[0m",
      "\u001b[0;31mArrowInvalid\u001b[0m                              Traceback (most recent call last)",
      "Cell \u001b[0;32mIn[13], line 1\u001b[0m\n\u001b[0;32m----> 1\u001b[0m df \u001b[38;5;241m=\u001b[39m \u001b[43mpl\u001b[49m\u001b[38;5;241;43m.\u001b[39;49m\u001b[43mread_delta\u001b[49m\u001b[43m(\u001b[49m\u001b[38;5;124;43m\"\u001b[39;49m\u001b[38;5;124;43mtmp/bear_delta_lake\u001b[39;49m\u001b[38;5;124;43m\"\u001b[39;49m\u001b[43m,\u001b[49m\u001b[43m \u001b[49m\u001b[43mversion\u001b[49m\u001b[38;5;241;43m=\u001b[39;49m\u001b[38;5;241;43m0\u001b[39;49m\u001b[43m)\u001b[49m\n",
      "File \u001b[0;32m~/opt/miniconda3/envs/delta-polars/lib/python3.9/site-packages/polars/io.py:1517\u001b[0m, in \u001b[0;36mread_delta\u001b[0;34m(table_uri, version, raw_filesystem, columns, storage_options, delta_table_options, pyarrow_options)\u001b[0m\n\u001b[1;32m   1514\u001b[0m     pyarrow_options \u001b[38;5;241m=\u001b[39m {}\n\u001b[1;32m   1516\u001b[0m \u001b[38;5;28;01mif\u001b[39;00m raw_filesystem \u001b[38;5;129;01mis\u001b[39;00m \u001b[38;5;28;01mNone\u001b[39;00m:\n\u001b[0;32m-> 1517\u001b[0m     raw_filesystem, normalized_path \u001b[38;5;241m=\u001b[39m \u001b[43mpa\u001b[49m\u001b[38;5;241;43m.\u001b[39;49m\u001b[43mfs\u001b[49m\u001b[38;5;241;43m.\u001b[39;49m\u001b[43mFileSystem\u001b[49m\u001b[38;5;241;43m.\u001b[39;49m\u001b[43mfrom_uri\u001b[49m\u001b[43m(\u001b[49m\u001b[43mtable_uri\u001b[49m\u001b[43m)\u001b[49m\n\u001b[1;32m   1518\u001b[0m \u001b[38;5;28;01melse\u001b[39;00m:\n\u001b[1;32m   1519\u001b[0m     raw_filesystem, normalized_path \u001b[38;5;241m=\u001b[39m raw_filesystem\u001b[38;5;241m.\u001b[39mfrom_uri(table_uri)\n",
      "File \u001b[0;32m~/opt/miniconda3/envs/delta-polars/lib/python3.9/site-packages/pyarrow/_fs.pyx:470\u001b[0m, in \u001b[0;36mpyarrow._fs.FileSystem.from_uri\u001b[0;34m()\u001b[0m\n",
      "File \u001b[0;32m~/opt/miniconda3/envs/delta-polars/lib/python3.9/site-packages/pyarrow/error.pxi:144\u001b[0m, in \u001b[0;36mpyarrow.lib.pyarrow_internal_check_status\u001b[0;34m()\u001b[0m\n",
      "File \u001b[0;32m~/opt/miniconda3/envs/delta-polars/lib/python3.9/site-packages/pyarrow/error.pxi:100\u001b[0m, in \u001b[0;36mpyarrow.lib.check_status\u001b[0;34m()\u001b[0m\n",
      "\u001b[0;31mArrowInvalid\u001b[0m: URI has empty scheme: 'tmp/bear_delta_lake'"
     ]
    }
   ],
   "source": [
    "df = pl.read_delta(\"tmp/bear_delta_lake\", version=0)"
   ]
  },
  {
   "cell_type": "code",
   "execution_count": 13,
   "id": "7197ebb3-ff37-49f2-8d1b-7ad24958b188",
   "metadata": {},
   "outputs": [
    {
     "name": "stdout",
     "output_type": "stream",
     "text": [
      "   x\n",
      "0  1\n",
      "1  2\n",
      "2  3\n"
     ]
    }
   ],
   "source": [
    "print(df)"
   ]
  },
  {
   "cell_type": "code",
   "execution_count": 11,
   "id": "8f3b1fc3-7c36-4abf-b549-dbfbc98c8787",
   "metadata": {},
   "outputs": [
    {
     "data": {
      "text/plain": [
       "pandas.core.frame.DataFrame"
      ]
     },
     "execution_count": 11,
     "metadata": {},
     "output_type": "execute_result"
    }
   ],
   "source": [
    "type(df)"
   ]
  },
  {
   "cell_type": "code",
   "execution_count": 15,
   "id": "29629a8e-fc03-426a-b375-68659e36fd74",
   "metadata": {},
   "outputs": [],
   "source": [
    "import pathlib\n",
    "\n",
    "cwd = pathlib.Path().resolve()"
   ]
  },
  {
   "cell_type": "code",
   "execution_count": 16,
   "id": "99e1026d-8338-480f-9c78-68fa1d1861fc",
   "metadata": {},
   "outputs": [],
   "source": [
    "df = pl.read_delta(f\"{cwd}/tmp/bear_delta_lake\")"
   ]
  },
  {
   "cell_type": "code",
   "execution_count": 17,
   "id": "5ec769a2-fee9-4aef-bce3-51b38102d2df",
   "metadata": {},
   "outputs": [
    {
     "name": "stdout",
     "output_type": "stream",
     "text": [
      "shape: (3, 1)\n",
      "+-----+\n",
      "| x   |\n",
      "| --- |\n",
      "| i64 |\n",
      "+=====+\n",
      "| 1   |\n",
      "|-----|\n",
      "| 2   |\n",
      "|-----|\n",
      "| 3   |\n",
      "+-----+\n"
     ]
    }
   ],
   "source": [
    "print(df)"
   ]
  },
  {
   "cell_type": "markdown",
   "id": "5f8d0c48-d64f-4cef-8790-b46fb1e352b3",
   "metadata": {},
   "source": [
    "## Append to Delta table"
   ]
  },
  {
   "cell_type": "code",
   "execution_count": 18,
   "id": "cce7fdc1-88d2-4a28-9d40-911b31538eff",
   "metadata": {},
   "outputs": [],
   "source": [
    "df2 = pd.DataFrame({\"x\": [9, 8, 10]})"
   ]
  },
  {
   "cell_type": "code",
   "execution_count": 19,
   "id": "9a04244e-b4bf-45b6-bac5-48ca5e33eeb5",
   "metadata": {},
   "outputs": [],
   "source": [
    "write_deltalake(\"tmp/bear_delta_lake\", df2, mode=\"append\")"
   ]
  },
  {
   "cell_type": "code",
   "execution_count": 20,
   "id": "e5f21f5a-1881-4db6-93fe-0602fd32b5d2",
   "metadata": {},
   "outputs": [],
   "source": [
    "df = pl.read_delta(f\"{cwd}/tmp/bear_delta_lake\")"
   ]
  },
  {
   "cell_type": "code",
   "execution_count": 21,
   "id": "ec01e1a5-2c93-4578-8bdd-88065cd8437b",
   "metadata": {},
   "outputs": [
    {
     "name": "stdout",
     "output_type": "stream",
     "text": [
      "shape: (6, 1)\n",
      "+-----+\n",
      "| x   |\n",
      "| --- |\n",
      "| i64 |\n",
      "+=====+\n",
      "| 1   |\n",
      "|-----|\n",
      "| 2   |\n",
      "|-----|\n",
      "| 3   |\n",
      "|-----|\n",
      "| 9   |\n",
      "|-----|\n",
      "| 8   |\n",
      "|-----|\n",
      "| 10  |\n",
      "+-----+\n"
     ]
    }
   ],
   "source": [
    "print(df)"
   ]
  },
  {
   "cell_type": "markdown",
   "id": "d89dbcc1-9a2f-4ace-bc72-ce6f144dc21d",
   "metadata": {},
   "source": [
    "## Overwrite Delta table"
   ]
  },
  {
   "cell_type": "code",
   "execution_count": 22,
   "id": "0a1e23ed-762a-4557-916c-e9a03c386bf9",
   "metadata": {},
   "outputs": [],
   "source": [
    "df3 = pd.DataFrame({\"x\": [55, 66, 77]})"
   ]
  },
  {
   "cell_type": "code",
   "execution_count": 23,
   "id": "0f47eea4-dd7c-43ef-9c4a-6d9f007b0f7c",
   "metadata": {},
   "outputs": [],
   "source": [
    "write_deltalake(\"tmp/bear_delta_lake\", df3, mode=\"overwrite\")"
   ]
  },
  {
   "cell_type": "code",
   "execution_count": 24,
   "id": "1c6b28a4-d50d-41e4-a310-f0ff66781437",
   "metadata": {},
   "outputs": [],
   "source": [
    "df = pl.read_delta(f\"{cwd}/tmp/bear_delta_lake\")"
   ]
  },
  {
   "cell_type": "code",
   "execution_count": 25,
   "id": "704fffaa-bd66-4222-a793-75954f48a046",
   "metadata": {},
   "outputs": [
    {
     "name": "stdout",
     "output_type": "stream",
     "text": [
      "shape: (3, 1)\n",
      "+-----+\n",
      "| x   |\n",
      "| --- |\n",
      "| i64 |\n",
      "+=====+\n",
      "| 55  |\n",
      "|-----|\n",
      "| 66  |\n",
      "|-----|\n",
      "| 77  |\n",
      "+-----+\n"
     ]
    }
   ],
   "source": [
    "print(df)"
   ]
  },
  {
   "cell_type": "markdown",
   "id": "911c3bab-693b-48ca-a8da-736e5d893e33",
   "metadata": {},
   "source": [
    "## Lazy read with scan_delta"
   ]
  },
  {
   "cell_type": "code",
   "execution_count": 26,
   "id": "ff7c249a-1133-4456-99e8-5667a8de1d2a",
   "metadata": {},
   "outputs": [],
   "source": [
    "df = pl.scan_delta(f\"{cwd}/tmp/bear_delta_lake\")"
   ]
  },
  {
   "cell_type": "code",
   "execution_count": 27,
   "id": "6100b48a-273e-4fed-ba63-1595c2a6b96b",
   "metadata": {},
   "outputs": [
    {
     "name": "stdout",
     "output_type": "stream",
     "text": [
      "shape: (3, 1)\n",
      "+-----+\n",
      "| x   |\n",
      "| --- |\n",
      "| i64 |\n",
      "+=====+\n",
      "| 55  |\n",
      "|-----|\n",
      "| 66  |\n",
      "|-----|\n",
      "| 77  |\n",
      "+-----+\n"
     ]
    }
   ],
   "source": [
    "print(df.collect())"
   ]
  },
  {
   "cell_type": "markdown",
   "id": "7c1397d6-ea32-4f4b-9112-c71270c53f69",
   "metadata": {},
   "source": [
    "## Confirm other versions are still accessible"
   ]
  },
  {
   "cell_type": "code",
   "execution_count": 28,
   "id": "fee5eb04-1bea-49a2-ac9c-79dc8abd2da9",
   "metadata": {},
   "outputs": [
    {
     "name": "stdout",
     "output_type": "stream",
     "text": [
      "shape: (6, 1)\n",
      "+-----+\n",
      "| x   |\n",
      "| --- |\n",
      "| i64 |\n",
      "+=====+\n",
      "| 1   |\n",
      "|-----|\n",
      "| 2   |\n",
      "|-----|\n",
      "| 3   |\n",
      "|-----|\n",
      "| 9   |\n",
      "|-----|\n",
      "| 8   |\n",
      "|-----|\n",
      "| 10  |\n",
      "+-----+\n"
     ]
    }
   ],
   "source": [
    "print(pl.read_delta(f\"{cwd}/tmp/bear_delta_lake\", version=1))"
   ]
  },
  {
   "cell_type": "code",
   "execution_count": 29,
   "id": "fdca8ca8-c0e0-473a-9f28-f63f074158c3",
   "metadata": {},
   "outputs": [
    {
     "name": "stdout",
     "output_type": "stream",
     "text": [
      "shape: (3, 1)\n",
      "+-----+\n",
      "| x   |\n",
      "| --- |\n",
      "| i64 |\n",
      "+=====+\n",
      "| 1   |\n",
      "|-----|\n",
      "| 2   |\n",
      "|-----|\n",
      "| 3   |\n",
      "+-----+\n"
     ]
    }
   ],
   "source": [
    "print(pl.read_delta(f\"{cwd}/tmp/bear_delta_lake\", version=0))"
   ]
  },
  {
   "cell_type": "markdown",
   "id": "4dd66173-2364-4743-a534-6a5d08062c40",
   "metadata": {},
   "source": [
    "## Text for image"
   ]
  },
  {
   "cell_type": "code",
   "execution_count": 30,
   "id": "16c05e40-9a3d-4262-8b2a-831a016a8312",
   "metadata": {},
   "outputs": [
    {
     "ename": "PyDeltaTableError",
     "evalue": "Failed to read delta log object: Generic DeltaObjectStore error: No such file or directory (os error 2)",
     "output_type": "error",
     "traceback": [
      "\u001b[0;31m---------------------------------------------------------------------------\u001b[0m",
      "\u001b[0;31mPyDeltaTableError\u001b[0m                         Traceback (most recent call last)",
      "Cell \u001b[0;32mIn[30], line 3\u001b[0m\n\u001b[1;32m      1\u001b[0m \u001b[38;5;28;01mimport\u001b[39;00m \u001b[38;5;21;01mpolars\u001b[39;00m \u001b[38;5;28;01mas\u001b[39;00m \u001b[38;5;21;01mpl\u001b[39;00m\n\u001b[0;32m----> 3\u001b[0m \u001b[38;5;28mprint\u001b[39m(\u001b[43mpl\u001b[49m\u001b[38;5;241;43m.\u001b[39;49m\u001b[43mread_delta\u001b[49m\u001b[43m(\u001b[49m\u001b[38;5;124;43m\"\u001b[39;49m\u001b[38;5;124;43m/tmp/bear_delta_lake\u001b[39;49m\u001b[38;5;124;43m\"\u001b[39;49m\u001b[43m,\u001b[49m\u001b[43m \u001b[49m\u001b[43mversion\u001b[49m\u001b[38;5;241;43m=\u001b[39;49m\u001b[38;5;241;43m0\u001b[39;49m\u001b[43m)\u001b[49m)\n",
      "File \u001b[0;32m~/opt/miniconda3/envs/delta-polars/lib/python3.9/site-packages/polars/io.py:1523\u001b[0m, in \u001b[0;36mread_delta\u001b[0;34m(table_uri, version, raw_filesystem, columns, storage_options, delta_table_options, pyarrow_options)\u001b[0m\n\u001b[1;32m   1519\u001b[0m     raw_filesystem, normalized_path \u001b[38;5;241m=\u001b[39m raw_filesystem\u001b[38;5;241m.\u001b[39mfrom_uri(table_uri)\n\u001b[1;32m   1521\u001b[0m filesystem \u001b[38;5;241m=\u001b[39m pa\u001b[38;5;241m.\u001b[39mfs\u001b[38;5;241m.\u001b[39mSubTreeFileSystem(normalized_path, raw_filesystem)\n\u001b[0;32m-> 1523\u001b[0m dl_tbl \u001b[38;5;241m=\u001b[39m \u001b[43m_get_delta_lake_table\u001b[49m\u001b[43m(\u001b[49m\n\u001b[1;32m   1524\u001b[0m \u001b[43m    \u001b[49m\u001b[43mtable_path\u001b[49m\u001b[38;5;241;43m=\u001b[39;49m\u001b[43mtable_uri\u001b[49m\u001b[43m,\u001b[49m\n\u001b[1;32m   1525\u001b[0m \u001b[43m    \u001b[49m\u001b[43mversion\u001b[49m\u001b[38;5;241;43m=\u001b[39;49m\u001b[43mversion\u001b[49m\u001b[43m,\u001b[49m\n\u001b[1;32m   1526\u001b[0m \u001b[43m    \u001b[49m\u001b[43mstorage_options\u001b[49m\u001b[38;5;241;43m=\u001b[39;49m\u001b[43mstorage_options\u001b[49m\u001b[43m,\u001b[49m\n\u001b[1;32m   1527\u001b[0m \u001b[43m    \u001b[49m\u001b[43mdelta_table_options\u001b[49m\u001b[38;5;241;43m=\u001b[39;49m\u001b[43mdelta_table_options\u001b[49m\u001b[43m,\u001b[49m\n\u001b[1;32m   1528\u001b[0m \u001b[43m\u001b[49m\u001b[43m)\u001b[49m\n\u001b[1;32m   1530\u001b[0m \u001b[38;5;28;01mreturn\u001b[39;00m cast(\n\u001b[1;32m   1531\u001b[0m     DataFrame,\n\u001b[1;32m   1532\u001b[0m     from_arrow(\n\u001b[0;32m   (...)\u001b[0m\n\u001b[1;32m   1536\u001b[0m     ),\n\u001b[1;32m   1537\u001b[0m )\n",
      "File \u001b[0;32m~/opt/miniconda3/envs/delta-polars/lib/python3.9/site-packages/polars/io.py:1311\u001b[0m, in \u001b[0;36m_get_delta_lake_table\u001b[0;34m(table_path, version, storage_options, delta_table_options)\u001b[0m\n\u001b[1;32m   1308\u001b[0m \u001b[38;5;28;01mif\u001b[39;00m delta_table_options \u001b[38;5;129;01mis\u001b[39;00m \u001b[38;5;28;01mNone\u001b[39;00m:\n\u001b[1;32m   1309\u001b[0m     delta_table_options \u001b[38;5;241m=\u001b[39m {}\n\u001b[0;32m-> 1311\u001b[0m dl_tbl \u001b[38;5;241m=\u001b[39m \u001b[43mdeltalake\u001b[49m\u001b[38;5;241;43m.\u001b[39;49m\u001b[43mDeltaTable\u001b[49m\u001b[43m(\u001b[49m\n\u001b[1;32m   1312\u001b[0m \u001b[43m    \u001b[49m\u001b[43mtable_uri\u001b[49m\u001b[38;5;241;43m=\u001b[39;49m\u001b[43mtable_path\u001b[49m\u001b[43m,\u001b[49m\n\u001b[1;32m   1313\u001b[0m \u001b[43m    \u001b[49m\u001b[43mversion\u001b[49m\u001b[38;5;241;43m=\u001b[39;49m\u001b[43mversion\u001b[49m\u001b[43m,\u001b[49m\n\u001b[1;32m   1314\u001b[0m \u001b[43m    \u001b[49m\u001b[43mstorage_options\u001b[49m\u001b[38;5;241;43m=\u001b[39;49m\u001b[43mstorage_options\u001b[49m\u001b[43m,\u001b[49m\n\u001b[1;32m   1315\u001b[0m \u001b[43m    \u001b[49m\u001b[38;5;241;43m*\u001b[39;49m\u001b[38;5;241;43m*\u001b[39;49m\u001b[43mdelta_table_options\u001b[49m\u001b[43m,\u001b[49m\n\u001b[1;32m   1316\u001b[0m \u001b[43m\u001b[49m\u001b[43m)\u001b[49m\n\u001b[1;32m   1318\u001b[0m \u001b[38;5;28;01mreturn\u001b[39;00m dl_tbl\n",
      "File \u001b[0;32m~/opt/miniconda3/envs/delta-polars/lib/python3.9/site-packages/deltalake/table.py:103\u001b[0m, in \u001b[0;36mDeltaTable.__init__\u001b[0;34m(self, table_uri, version, storage_options, without_files)\u001b[0m\n\u001b[1;32m     90\u001b[0m \u001b[38;5;124;03m\"\"\"\u001b[39;00m\n\u001b[1;32m     91\u001b[0m \u001b[38;5;124;03mCreate the Delta Table from a path with an optional version.\u001b[39;00m\n\u001b[1;32m     92\u001b[0m \u001b[38;5;124;03mMultiple StorageBackends are currently supported: AWS S3, Azure Data Lake Storage Gen2, Google Cloud Storage (GCS) and local URI.\u001b[39;00m\n\u001b[0;32m   (...)\u001b[0m\n\u001b[1;32m    100\u001b[0m \u001b[38;5;124;03m                      DeltaTable will be loaded with a significant memory reduction.\u001b[39;00m\n\u001b[1;32m    101\u001b[0m \u001b[38;5;124;03m\"\"\"\u001b[39;00m\n\u001b[1;32m    102\u001b[0m \u001b[38;5;28mself\u001b[39m\u001b[38;5;241m.\u001b[39m_storage_options \u001b[38;5;241m=\u001b[39m storage_options\n\u001b[0;32m--> 103\u001b[0m \u001b[38;5;28mself\u001b[39m\u001b[38;5;241m.\u001b[39m_table \u001b[38;5;241m=\u001b[39m \u001b[43mRawDeltaTable\u001b[49m\u001b[43m(\u001b[49m\n\u001b[1;32m    104\u001b[0m \u001b[43m    \u001b[49m\u001b[43mtable_uri\u001b[49m\u001b[43m,\u001b[49m\n\u001b[1;32m    105\u001b[0m \u001b[43m    \u001b[49m\u001b[43mversion\u001b[49m\u001b[38;5;241;43m=\u001b[39;49m\u001b[43mversion\u001b[49m\u001b[43m,\u001b[49m\n\u001b[1;32m    106\u001b[0m \u001b[43m    \u001b[49m\u001b[43mstorage_options\u001b[49m\u001b[38;5;241;43m=\u001b[39;49m\u001b[43mstorage_options\u001b[49m\u001b[43m,\u001b[49m\n\u001b[1;32m    107\u001b[0m \u001b[43m    \u001b[49m\u001b[43mwithout_files\u001b[49m\u001b[38;5;241;43m=\u001b[39;49m\u001b[43mwithout_files\u001b[49m\u001b[43m,\u001b[49m\n\u001b[1;32m    108\u001b[0m \u001b[43m\u001b[49m\u001b[43m)\u001b[49m\n\u001b[1;32m    109\u001b[0m \u001b[38;5;28mself\u001b[39m\u001b[38;5;241m.\u001b[39m_metadata \u001b[38;5;241m=\u001b[39m Metadata(\u001b[38;5;28mself\u001b[39m\u001b[38;5;241m.\u001b[39m_table)\n",
      "\u001b[0;31mPyDeltaTableError\u001b[0m: Failed to read delta log object: Generic DeltaObjectStore error: No such file or directory (os error 2)"
     ]
    }
   ],
   "source": [
    "import polars as pl\n",
    "\n",
    "print(pl.read_delta(\"/tmp/bear_delta_lake\", version=0))"
   ]
  },
  {
   "cell_type": "code",
   "execution_count": null,
   "id": "986c61ca-1e0e-45f7-81a7-55764046a165",
   "metadata": {},
   "outputs": [],
   "source": []
  }
 ],
 "metadata": {
  "kernelspec": {
   "display_name": "Python [conda env:delta-polars] *",
   "language": "python",
   "name": "conda-env-delta-polars-py"
  },
  "language_info": {
   "codemirror_mode": {
    "name": "ipython",
    "version": 3
   },
   "file_extension": ".py",
   "mimetype": "text/x-python",
   "name": "python",
   "nbconvert_exporter": "python",
   "pygments_lexer": "ipython3",
   "version": "3.9.15"
  }
 },
 "nbformat": 4,
 "nbformat_minor": 5
}
