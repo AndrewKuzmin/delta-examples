{
 "cells": [
  {
   "cell_type": "markdown",
   "id": "af6cdd46-f080-4d21-bf1e-358d5bf735ae",
   "metadata": {},
   "source": [
    "# Delta Lake Change Data Feed"
   ]
  },
  {
   "cell_type": "code",
   "execution_count": 1,
   "id": "740ce135-0b97-4719-a28e-9c72fcabae7f",
   "metadata": {
    "tags": []
   },
   "outputs": [
    {
     "name": "stdout",
     "output_type": "stream",
     "text": [
      ":: loading settings :: url = jar:file:/Users/matthew.powers/opt/miniconda3/envs/pyspark-332-delta-230/lib/python3.9/site-packages/pyspark/jars/ivy-2.5.1.jar!/org/apache/ivy/core/settings/ivysettings.xml\n"
     ]
    },
    {
     "name": "stderr",
     "output_type": "stream",
     "text": [
      "Ivy Default Cache set to: /Users/matthew.powers/.ivy2/cache\n",
      "The jars for the packages stored in: /Users/matthew.powers/.ivy2/jars\n",
      "io.delta#delta-core_2.12 added as a dependency\n",
      ":: resolving dependencies :: org.apache.spark#spark-submit-parent-cf749fff-aae0-4b64-b77c-c9c566e41cb9;1.0\n",
      "\tconfs: [default]\n",
      "\tfound io.delta#delta-core_2.12;2.3.0 in central\n",
      "\tfound io.delta#delta-storage;2.3.0 in central\n",
      "\tfound org.antlr#antlr4-runtime;4.8 in central\n",
      ":: resolution report :: resolve 100ms :: artifacts dl 4ms\n",
      "\t:: modules in use:\n",
      "\tio.delta#delta-core_2.12;2.3.0 from central in [default]\n",
      "\tio.delta#delta-storage;2.3.0 from central in [default]\n",
      "\torg.antlr#antlr4-runtime;4.8 from central in [default]\n",
      "\t---------------------------------------------------------------------\n",
      "\t|                  |            modules            ||   artifacts   |\n",
      "\t|       conf       | number| search|dwnlded|evicted|| number|dwnlded|\n",
      "\t---------------------------------------------------------------------\n",
      "\t|      default     |   3   |   0   |   0   |   0   ||   3   |   0   |\n",
      "\t---------------------------------------------------------------------\n",
      ":: retrieving :: org.apache.spark#spark-submit-parent-cf749fff-aae0-4b64-b77c-c9c566e41cb9\n",
      "\tconfs: [default]\n",
      "\t0 artifacts copied, 3 already retrieved (0kB/3ms)\n"
     ]
    },
    {
     "name": "stdout",
     "output_type": "stream",
     "text": [
      "23/04/19 12:05:06 WARN NativeCodeLoader: Unable to load native-hadoop library for your platform... using builtin-java classes where applicable\n"
     ]
    },
    {
     "name": "stderr",
     "output_type": "stream",
     "text": [
      "Setting default log level to \"WARN\".\n",
      "To adjust logging level use sc.setLogLevel(newLevel). For SparkR, use setLogLevel(newLevel).\n"
     ]
    }
   ],
   "source": [
    "import pyspark\n",
    "from delta import *\n",
    "from pyspark.sql import functions as F\n",
    "\n",
    "builder = (\n",
    "    pyspark.sql.SparkSession.builder.appName(\"MyApp\")\n",
    "    .config(\"spark.sql.extensions\", \"io.delta.sql.DeltaSparkSessionExtension\")\n",
    "    .config(\n",
    "        \"spark.sql.catalog.spark_catalog\",\n",
    "        \"org.apache.spark.sql.delta.catalog.DeltaCatalog\",\n",
    "    )\n",
    ")\n",
    "\n",
    "spark = configure_spark_with_delta_pip(builder).getOrCreate()"
   ]
  },
  {
   "cell_type": "markdown",
   "id": "4a3413f7-4c97-43cd-a969-87ff1f048533",
   "metadata": {},
   "source": [
    "## Create Delta table with change data feed enabled"
   ]
  },
  {
   "cell_type": "code",
   "execution_count": 2,
   "id": "0aad8e6f-6519-4c9e-9853-892a40c40a8f",
   "metadata": {
    "tags": []
   },
   "outputs": [],
   "source": [
    "spark.conf.set(\"spark.sql.legacy.createHiveTableByDefault\", \"false\")"
   ]
  },
  {
   "cell_type": "code",
   "execution_count": 3,
   "id": "a6e0a0fa-48a0-4dd5-950e-69938064bd19",
   "metadata": {
    "tags": []
   },
   "outputs": [
    {
     "name": "stdout",
     "output_type": "stream",
     "text": [
      "23/04/19 12:05:49 WARN package: Truncated the string representation of a plan since it was too large. This behavior can be adjusted by setting 'spark.sql.debug.maxToStringFields'.\n"
     ]
    },
    {
     "name": "stderr",
     "output_type": "stream",
     "text": [
      "                                                                                \r"
     ]
    },
    {
     "data": {
      "text/plain": [
       "DataFrame[]"
      ]
     },
     "execution_count": 3,
     "metadata": {},
     "output_type": "execute_result"
    }
   ],
   "source": [
    "spark.sql(\n",
    "    \"CREATE TABLE students (id LONG, name STRING, age LONG) USING delta TBLPROPERTIES (delta.enableChangeDataFeed = true)\"\n",
    ")"
   ]
  },
  {
   "cell_type": "markdown",
   "id": "26600f0d-4b0b-43f1-b518-5afb4fad6cee",
   "metadata": {},
   "source": [
    "### Append data"
   ]
  },
  {
   "cell_type": "code",
   "execution_count": 4,
   "id": "d9714899-773e-4616-9079-c859dcf62ec5",
   "metadata": {
    "tags": []
   },
   "outputs": [],
   "source": [
    "df = spark.createDataFrame([(0, \"Bob\", 23), (1, \"Sue\", 25), (2, \"Jim\", 27)]).toDF(\n",
    "    \"id\", \"name\", \"age\"\n",
    ")"
   ]
  },
  {
   "cell_type": "code",
   "execution_count": 5,
   "id": "d653d13e-5b97-4ca1-80f2-9f8cc81b4fc1",
   "metadata": {
    "tags": []
   },
   "outputs": [
    {
     "name": "stderr",
     "output_type": "stream",
     "text": [
      "                                                                                \r"
     ]
    }
   ],
   "source": [
    "df.repartition(1).write.mode(\"append\").format(\"delta\").saveAsTable(\"students\")"
   ]
  },
  {
   "cell_type": "code",
   "execution_count": 6,
   "id": "4308b32b-d430-4f63-b87f-e901c0de0bb9",
   "metadata": {
    "tags": []
   },
   "outputs": [
    {
     "name": "stdout",
     "output_type": "stream",
     "text": [
      "+---+----+---+\n",
      "| id|name|age|\n",
      "+---+----+---+\n",
      "|  0| Bob| 23|\n",
      "|  1| Sue| 25|\n",
      "|  2| Jim| 27|\n",
      "+---+----+---+\n",
      "\n"
     ]
    }
   ],
   "source": [
    "spark.sql(\"SELECT * FROM students\").show()"
   ]
  },
  {
   "cell_type": "code",
   "execution_count": 7,
   "id": "27bea8d3-8a0c-4da1-8068-2fb50c6c446a",
   "metadata": {
    "tags": []
   },
   "outputs": [
    {
     "name": "stdout",
     "output_type": "stream",
     "text": [
      "+---+----+---+------------+---------------+----------------------+\n",
      "|id |name|age|_change_type|_commit_version|_commit_timestamp     |\n",
      "+---+----+---+------------+---------------+----------------------+\n",
      "|0  |Bob |23 |insert      |1              |2023-04-19 12:05:57.84|\n",
      "|1  |Sue |25 |insert      |1              |2023-04-19 12:05:57.84|\n",
      "|2  |Jim |27 |insert      |1              |2023-04-19 12:05:57.84|\n",
      "+---+----+---+------------+---------------+----------------------+\n",
      "\n"
     ]
    }
   ],
   "source": [
    "spark.sql(\"SELECT * FROM table_changes('students', 0)\").show(truncate=False)"
   ]
  },
  {
   "cell_type": "markdown",
   "id": "ba108cea-2456-4d0a-aaca-6c314bb768ad",
   "metadata": {},
   "source": [
    "### Append more data"
   ]
  },
  {
   "cell_type": "code",
   "execution_count": 8,
   "id": "2c7d74f8-47a6-4e46-be11-8902ba1eab8a",
   "metadata": {},
   "outputs": [],
   "source": [
    "df = spark.createDataFrame([(5, \"Jack\", 18), (6, \"Nora\", 19), (7, \"Clare\", 20)]).toDF(\n",
    "    \"id\", \"name\", \"age\"\n",
    ")"
   ]
  },
  {
   "cell_type": "code",
   "execution_count": 9,
   "id": "284250d9-d397-4597-9b20-fed9fe49df60",
   "metadata": {},
   "outputs": [],
   "source": [
    "df.repartition(1).write.mode(\"append\").format(\"delta\").saveAsTable(\"students\")"
   ]
  },
  {
   "cell_type": "code",
   "execution_count": 10,
   "id": "674e1b2f-657e-461e-8733-521c17671d97",
   "metadata": {
    "tags": []
   },
   "outputs": [
    {
     "name": "stdout",
     "output_type": "stream",
     "text": [
      "+---+-----+---+\n",
      "| id| name|age|\n",
      "+---+-----+---+\n",
      "|  5| Jack| 18|\n",
      "|  6| Nora| 19|\n",
      "|  7|Clare| 20|\n",
      "|  0|  Bob| 23|\n",
      "|  1|  Sue| 25|\n",
      "|  2|  Jim| 27|\n",
      "+---+-----+---+\n",
      "\n"
     ]
    }
   ],
   "source": [
    "spark.sql(\"SELECT * FROM students\").show()"
   ]
  },
  {
   "cell_type": "code",
   "execution_count": 11,
   "id": "99466198-cfbf-4fed-9fc1-d130344f1a71",
   "metadata": {
    "tags": []
   },
   "outputs": [
    {
     "name": "stdout",
     "output_type": "stream",
     "text": [
      "+---+-----+---+------------+---------------+----------------------+\n",
      "|id |name |age|_change_type|_commit_version|_commit_timestamp     |\n",
      "+---+-----+---+------------+---------------+----------------------+\n",
      "|5  |Jack |18 |insert      |2              |2023-04-19 12:06:06.24|\n",
      "|6  |Nora |19 |insert      |2              |2023-04-19 12:06:06.24|\n",
      "|7  |Clare|20 |insert      |2              |2023-04-19 12:06:06.24|\n",
      "|0  |Bob  |23 |insert      |1              |2023-04-19 12:05:57.84|\n",
      "|1  |Sue  |25 |insert      |1              |2023-04-19 12:05:57.84|\n",
      "|2  |Jim  |27 |insert      |1              |2023-04-19 12:05:57.84|\n",
      "+---+-----+---+------------+---------------+----------------------+\n",
      "\n"
     ]
    }
   ],
   "source": [
    "spark.sql(\"SELECT * FROM table_changes('students', 0)\").show(truncate=False)"
   ]
  },
  {
   "cell_type": "markdown",
   "id": "de360cbb-d5b6-4d7c-b230-85216d57a53d",
   "metadata": {},
   "source": [
    "### Delete rows of data"
   ]
  },
  {
   "cell_type": "code",
   "execution_count": 12,
   "id": "a4171b06-3cdb-4c7c-936e-96873a18a48d",
   "metadata": {},
   "outputs": [],
   "source": [
    "delta_table = DeltaTable.forName(spark, \"students\")"
   ]
  },
  {
   "cell_type": "code",
   "execution_count": 13,
   "id": "9cd08013-50fd-42f9-85c2-deba1e4d772e",
   "metadata": {},
   "outputs": [],
   "source": [
    "delta_table.delete(F.col(\"age\") > 20)"
   ]
  },
  {
   "cell_type": "code",
   "execution_count": 14,
   "id": "656ac4b6-01a7-4380-b92a-d8620dc4f2c5",
   "metadata": {
    "tags": []
   },
   "outputs": [
    {
     "name": "stdout",
     "output_type": "stream",
     "text": [
      "+---+-----+---+\n",
      "| id| name|age|\n",
      "+---+-----+---+\n",
      "|  5| Jack| 18|\n",
      "|  6| Nora| 19|\n",
      "|  7|Clare| 20|\n",
      "+---+-----+---+\n",
      "\n"
     ]
    }
   ],
   "source": [
    "spark.sql(\"SELECT * FROM students\").show()"
   ]
  },
  {
   "cell_type": "code",
   "execution_count": 15,
   "id": "1cfdb148-a5e1-44c0-b03a-169f466c13e0",
   "metadata": {},
   "outputs": [
    {
     "name": "stdout",
     "output_type": "stream",
     "text": [
      "+---+-----+---+------------+---------------+----------------------+\n",
      "|id |name |age|_change_type|_commit_version|_commit_timestamp     |\n",
      "+---+-----+---+------------+---------------+----------------------+\n",
      "|0  |Bob  |23 |delete      |3              |2023-04-19 12:06:11.5 |\n",
      "|1  |Sue  |25 |delete      |3              |2023-04-19 12:06:11.5 |\n",
      "|2  |Jim  |27 |delete      |3              |2023-04-19 12:06:11.5 |\n",
      "|5  |Jack |18 |insert      |2              |2023-04-19 12:06:06.24|\n",
      "|6  |Nora |19 |insert      |2              |2023-04-19 12:06:06.24|\n",
      "|7  |Clare|20 |insert      |2              |2023-04-19 12:06:06.24|\n",
      "|0  |Bob  |23 |insert      |1              |2023-04-19 12:05:57.84|\n",
      "|1  |Sue  |25 |insert      |1              |2023-04-19 12:05:57.84|\n",
      "|2  |Jim  |27 |insert      |1              |2023-04-19 12:05:57.84|\n",
      "+---+-----+---+------------+---------------+----------------------+\n",
      "\n"
     ]
    }
   ],
   "source": [
    "spark.sql(\"SELECT * FROM table_changes('students', 0)\").show(truncate=False)"
   ]
  },
  {
   "cell_type": "markdown",
   "id": "069411f9-fa0c-4dc1-90ef-292d69cc9483",
   "metadata": {},
   "source": [
    "## Query change data feed"
   ]
  },
  {
   "cell_type": "code",
   "execution_count": 16,
   "id": "53a55e92-5fea-42e0-8117-771be49dc3dc",
   "metadata": {},
   "outputs": [
    {
     "name": "stdout",
     "output_type": "stream",
     "text": [
      "+---+-----+---+------------+---------------+----------------------+\n",
      "|id |name |age|_change_type|_commit_version|_commit_timestamp     |\n",
      "+---+-----+---+------------+---------------+----------------------+\n",
      "|0  |Bob  |23 |delete      |3              |2023-04-19 12:06:11.5 |\n",
      "|1  |Sue  |25 |delete      |3              |2023-04-19 12:06:11.5 |\n",
      "|2  |Jim  |27 |delete      |3              |2023-04-19 12:06:11.5 |\n",
      "|5  |Jack |18 |insert      |2              |2023-04-19 12:06:06.24|\n",
      "|6  |Nora |19 |insert      |2              |2023-04-19 12:06:06.24|\n",
      "|7  |Clare|20 |insert      |2              |2023-04-19 12:06:06.24|\n",
      "|0  |Bob  |23 |insert      |1              |2023-04-19 12:05:57.84|\n",
      "|1  |Sue  |25 |insert      |1              |2023-04-19 12:05:57.84|\n",
      "|2  |Jim  |27 |insert      |1              |2023-04-19 12:05:57.84|\n",
      "+---+-----+---+------------+---------------+----------------------+\n",
      "\n"
     ]
    }
   ],
   "source": [
    "spark.sql(\"SELECT * FROM table_changes('students', 0)\").show(truncate=False)"
   ]
  },
  {
   "cell_type": "code",
   "execution_count": 18,
   "id": "cf91cb84-963e-4139-824e-b1af47c661b5",
   "metadata": {
    "tags": []
   },
   "outputs": [
    {
     "name": "stdout",
     "output_type": "stream",
     "text": [
      "+---+-----+---+------------+---------------+----------------------+\n",
      "|id |name |age|_change_type|_commit_version|_commit_timestamp     |\n",
      "+---+-----+---+------------+---------------+----------------------+\n",
      "|0  |Bob  |23 |delete      |3              |2023-04-19 12:06:11.5 |\n",
      "|1  |Sue  |25 |delete      |3              |2023-04-19 12:06:11.5 |\n",
      "|2  |Jim  |27 |delete      |3              |2023-04-19 12:06:11.5 |\n",
      "|5  |Jack |18 |insert      |2              |2023-04-19 12:06:06.24|\n",
      "|6  |Nora |19 |insert      |2              |2023-04-19 12:06:06.24|\n",
      "|7  |Clare|20 |insert      |2              |2023-04-19 12:06:06.24|\n",
      "+---+-----+---+------------+---------------+----------------------+\n",
      "\n"
     ]
    }
   ],
   "source": [
    "spark.sql(\"SELECT * FROM table_changes('students', 2, 3)\").show(truncate=False)"
   ]
  },
  {
   "cell_type": "markdown",
   "id": "4c22a2c3-9e8b-4a31-a391-8793f02cc9f9",
   "metadata": {},
   "source": [
    "## Cleanup"
   ]
  },
  {
   "cell_type": "code",
   "execution_count": 19,
   "id": "7ffc5d51-f592-4965-956b-4b0ccaa65566",
   "metadata": {
    "tags": []
   },
   "outputs": [
    {
     "data": {
      "text/plain": [
       "DataFrame[]"
      ]
     },
     "execution_count": 19,
     "metadata": {},
     "output_type": "execute_result"
    }
   ],
   "source": [
    "spark.sql(\"DROP TABLE IF EXISTS students\")"
   ]
  },
  {
   "cell_type": "code",
   "execution_count": null,
   "id": "c36490fb-ed4a-47f7-aa34-3a4dc9fe404f",
   "metadata": {},
   "outputs": [],
   "source": []
  }
 ],
 "metadata": {
  "kernelspec": {
   "display_name": "Python [conda env:pyspark-332-delta-230]",
   "language": "python",
   "name": "conda-env-pyspark-332-delta-230-py"
  },
  "language_info": {
   "codemirror_mode": {
    "name": "ipython",
    "version": 3
   },
   "file_extension": ".py",
   "mimetype": "text/x-python",
   "name": "python",
   "nbconvert_exporter": "python",
   "pygments_lexer": "ipython3",
   "version": "3.9.16"
  }
 },
 "nbformat": 4,
 "nbformat_minor": 5
}
