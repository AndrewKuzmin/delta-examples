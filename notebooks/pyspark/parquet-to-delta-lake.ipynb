{
 "cells": [
  {
   "cell_type": "markdown",
   "id": "fa23952e-1680-49f8-9968-3196f86156f4",
   "metadata": {},
   "source": [
    "# Convert Parquet to Delta Lake"
   ]
  },
  {
   "cell_type": "code",
   "execution_count": 41,
   "id": "fe4d7c2c-361b-4893-8be1-e2c78689ee6b",
   "metadata": {},
   "outputs": [],
   "source": [
    "import pyspark\n",
    "from delta import *"
   ]
  },
  {
   "cell_type": "code",
   "execution_count": 42,
   "id": "0f9ec9cc-743e-448d-a8b9-3ed4d17586aa",
   "metadata": {},
   "outputs": [],
   "source": [
    "builder = (\n",
    "    pyspark.sql.SparkSession.builder.appName(\"MyApp\")\n",
    "    .config(\"spark.sql.extensions\", \"io.delta.sql.DeltaSparkSessionExtension\")\n",
    "    .config(\n",
    "        \"spark.sql.catalog.spark_catalog\",\n",
    "        \"org.apache.spark.sql.delta.catalog.DeltaCatalog\",\n",
    "    )\n",
    ")"
   ]
  },
  {
   "cell_type": "code",
   "execution_count": 43,
   "id": "87047914-fe45-4d2f-a14e-21597ac08eda",
   "metadata": {},
   "outputs": [],
   "source": [
    "spark = configure_spark_with_delta_pip(builder).getOrCreate()"
   ]
  },
  {
   "cell_type": "code",
   "execution_count": 44,
   "id": "0dc93e18-48a8-48de-813e-b60febef7894",
   "metadata": {},
   "outputs": [],
   "source": [
    "columns = [\"language\", \"num_speakers\"]\n",
    "data = [(\"English\", \"1.5\"), (\"Mandarin\", \"1.1\"), (\"Hindi\", \"0.6\")]\n",
    "rdd = spark.sparkContext.parallelize(data)\n",
    "df = rdd.toDF(columns)"
   ]
  },
  {
   "cell_type": "markdown",
   "id": "77cd3a01-7491-4088-83f4-23ba5b9b7a66",
   "metadata": {},
   "source": [
    "## Unpartitioned Parquet to Delta Lake"
   ]
  },
  {
   "cell_type": "code",
   "execution_count": 5,
   "id": "971d94db-c7fb-4670-ad72-a536c677f5dc",
   "metadata": {},
   "outputs": [
    {
     "name": "stderr",
     "output_type": "stream",
     "text": [
      "                                                                                \r"
     ]
    }
   ],
   "source": [
    "df.write.format(\"parquet\").save(\"tmp/lake1\")"
   ]
  },
  {
   "cell_type": "code",
   "execution_count": 8,
   "id": "3c534f75-61b9-4c3b-958d-1e650ec8af0c",
   "metadata": {},
   "outputs": [
    {
     "name": "stdout",
     "output_type": "stream",
     "text": [
      "\u001b[01;34mtmp/lake1\u001b[0m\n",
      "├── \u001b[00m_SUCCESS\u001b[0m\n",
      "├── \u001b[00mpart-00000-b84573b6-b805-4162-9143-9c598b80c289-c000.snappy.parquet\u001b[0m\n",
      "├── \u001b[00mpart-00003-b84573b6-b805-4162-9143-9c598b80c289-c000.snappy.parquet\u001b[0m\n",
      "├── \u001b[00mpart-00006-b84573b6-b805-4162-9143-9c598b80c289-c000.snappy.parquet\u001b[0m\n",
      "└── \u001b[00mpart-00009-b84573b6-b805-4162-9143-9c598b80c289-c000.snappy.parquet\u001b[0m\n",
      "\n",
      "0 directories, 5 files\n"
     ]
    }
   ],
   "source": [
    "!tree tmp/lake1"
   ]
  },
  {
   "cell_type": "code",
   "execution_count": 10,
   "id": "edb9898a-dc4e-4a19-88da-9f8adcfc36d1",
   "metadata": {},
   "outputs": [
    {
     "name": "stderr",
     "output_type": "stream",
     "text": [
      "                                                                                \r"
     ]
    }
   ],
   "source": [
    "deltaTable = DeltaTable.convertToDelta(spark, \"parquet.`tmp/lake1`\")"
   ]
  },
  {
   "cell_type": "code",
   "execution_count": 11,
   "id": "660b1bcb-93a4-4ba5-8d24-2875d21d2c7f",
   "metadata": {},
   "outputs": [
    {
     "name": "stdout",
     "output_type": "stream",
     "text": [
      "\u001b[01;34mtmp/lake1\u001b[0m\n",
      "├── \u001b[00m_SUCCESS\u001b[0m\n",
      "├── \u001b[01;34m_delta_log\u001b[0m\n",
      "│   ├── \u001b[00m00000000000000000000.checkpoint.parquet\u001b[0m\n",
      "│   ├── \u001b[00m00000000000000000000.json\u001b[0m\n",
      "│   └── \u001b[00m_last_checkpoint\u001b[0m\n",
      "├── \u001b[00mpart-00000-b84573b6-b805-4162-9143-9c598b80c289-c000.snappy.parquet\u001b[0m\n",
      "├── \u001b[00mpart-00003-b84573b6-b805-4162-9143-9c598b80c289-c000.snappy.parquet\u001b[0m\n",
      "├── \u001b[00mpart-00006-b84573b6-b805-4162-9143-9c598b80c289-c000.snappy.parquet\u001b[0m\n",
      "└── \u001b[00mpart-00009-b84573b6-b805-4162-9143-9c598b80c289-c000.snappy.parquet\u001b[0m\n",
      "\n",
      "1 directory, 8 files\n"
     ]
    }
   ],
   "source": [
    "!tree tmp/lake1"
   ]
  },
  {
   "cell_type": "markdown",
   "id": "dffa224e-f5ee-4035-bc27-a1c214576b46",
   "metadata": {},
   "source": [
    "## Partitioned Parquet to Delta Lake"
   ]
  },
  {
   "cell_type": "code",
   "execution_count": 45,
   "id": "bee10cf3-4869-43aa-b8f8-f0837a6f7ca5",
   "metadata": {},
   "outputs": [
    {
     "name": "stderr",
     "output_type": "stream",
     "text": [
      "                                                                                \r"
     ]
    }
   ],
   "source": [
    "df.write.partitionBy(\"language\").format(\"parquet\").save(\"tmp/lake2\")"
   ]
  },
  {
   "cell_type": "code",
   "execution_count": 46,
   "id": "ff634c58-ebf0-491f-8820-c7cec0647371",
   "metadata": {},
   "outputs": [
    {
     "name": "stdout",
     "output_type": "stream",
     "text": [
      "\u001b[01;34mtmp/lake2\u001b[0m\n",
      "├── \u001b[00m_SUCCESS\u001b[0m\n",
      "├── \u001b[01;34mlanguage=English\u001b[0m\n",
      "│   └── \u001b[00mpart-00003-fa662100-1eff-4609-a0dd-794b5eec991a.c000.snappy.parquet\u001b[0m\n",
      "├── \u001b[01;34mlanguage=Hindi\u001b[0m\n",
      "│   └── \u001b[00mpart-00009-fa662100-1eff-4609-a0dd-794b5eec991a.c000.snappy.parquet\u001b[0m\n",
      "└── \u001b[01;34mlanguage=Mandarin\u001b[0m\n",
      "    └── \u001b[00mpart-00006-fa662100-1eff-4609-a0dd-794b5eec991a.c000.snappy.parquet\u001b[0m\n",
      "\n",
      "3 directories, 4 files\n"
     ]
    }
   ],
   "source": [
    "!tree tmp/lake2"
   ]
  },
  {
   "cell_type": "code",
   "execution_count": 47,
   "id": "cb8f725b-eed9-42f2-9d3b-8d53e6dfc45b",
   "metadata": {},
   "outputs": [
    {
     "ename": "AnalysisException",
     "evalue": "Expecting 0 partition column(s): [], but found 1 partition column(s): [`language`] from parsing the file name: file:/Users/matthew.powers/Documents/code/my_apps/delta-examples/notebooks/pyspark/tmp/lake2/language=English/part-00003-fa662100-1eff-4609-a0dd-794b5eec991a.c000.snappy.parquet",
     "output_type": "error",
     "traceback": [
      "\u001b[0;31m---------------------------------------------------------------------------\u001b[0m",
      "\u001b[0;31mAnalysisException\u001b[0m                         Traceback (most recent call last)",
      "Input \u001b[0;32mIn [47]\u001b[0m, in \u001b[0;36m<cell line: 1>\u001b[0;34m()\u001b[0m\n\u001b[0;32m----> 1\u001b[0m deltaTable \u001b[38;5;241m=\u001b[39m \u001b[43mDeltaTable\u001b[49m\u001b[38;5;241;43m.\u001b[39;49m\u001b[43mconvertToDelta\u001b[49m\u001b[43m(\u001b[49m\u001b[43mspark\u001b[49m\u001b[43m,\u001b[49m\u001b[43m \u001b[49m\u001b[38;5;124;43m\"\u001b[39;49m\u001b[38;5;124;43mparquet.`tmp/lake2`\u001b[39;49m\u001b[38;5;124;43m\"\u001b[39;49m\u001b[43m)\u001b[49m\n",
      "File \u001b[0;32m~/opt/miniconda3/envs/pyspark-322-delta-200/lib/python3.9/site-packages/delta/tables.py:321\u001b[0m, in \u001b[0;36mDeltaTable.convertToDelta\u001b[0;34m(cls, sparkSession, identifier, partitionSchema)\u001b[0m\n\u001b[1;32m    318\u001b[0m jsparkSession: \u001b[38;5;124m\"\u001b[39m\u001b[38;5;124mJavaObject\u001b[39m\u001b[38;5;124m\"\u001b[39m \u001b[38;5;241m=\u001b[39m sparkSession\u001b[38;5;241m.\u001b[39m_jsparkSession  \u001b[38;5;66;03m# type: ignore[attr-defined]\u001b[39;00m\n\u001b[1;32m    320\u001b[0m \u001b[38;5;28;01mif\u001b[39;00m partitionSchema \u001b[38;5;129;01mis\u001b[39;00m \u001b[38;5;28;01mNone\u001b[39;00m:\n\u001b[0;32m--> 321\u001b[0m     jdt \u001b[38;5;241m=\u001b[39m \u001b[43mjvm\u001b[49m\u001b[38;5;241;43m.\u001b[39;49m\u001b[43mio\u001b[49m\u001b[38;5;241;43m.\u001b[39;49m\u001b[43mdelta\u001b[49m\u001b[38;5;241;43m.\u001b[39;49m\u001b[43mtables\u001b[49m\u001b[38;5;241;43m.\u001b[39;49m\u001b[43mDeltaTable\u001b[49m\u001b[38;5;241;43m.\u001b[39;49m\u001b[43mconvertToDelta\u001b[49m\u001b[43m(\u001b[49m\n\u001b[1;32m    322\u001b[0m \u001b[43m        \u001b[49m\u001b[43mjsparkSession\u001b[49m\u001b[43m,\u001b[49m\u001b[43m \u001b[49m\u001b[43midentifier\u001b[49m\n\u001b[1;32m    323\u001b[0m \u001b[43m    \u001b[49m\u001b[43m)\u001b[49m\n\u001b[1;32m    324\u001b[0m \u001b[38;5;28;01melse\u001b[39;00m:\n\u001b[1;32m    325\u001b[0m     \u001b[38;5;28;01mif\u001b[39;00m \u001b[38;5;129;01mnot\u001b[39;00m \u001b[38;5;28misinstance\u001b[39m(partitionSchema, \u001b[38;5;28mstr\u001b[39m):\n",
      "File \u001b[0;32m~/opt/miniconda3/envs/pyspark-322-delta-200/lib/python3.9/site-packages/py4j/java_gateway.py:1321\u001b[0m, in \u001b[0;36mJavaMember.__call__\u001b[0;34m(self, *args)\u001b[0m\n\u001b[1;32m   1315\u001b[0m command \u001b[38;5;241m=\u001b[39m proto\u001b[38;5;241m.\u001b[39mCALL_COMMAND_NAME \u001b[38;5;241m+\u001b[39m\\\n\u001b[1;32m   1316\u001b[0m     \u001b[38;5;28mself\u001b[39m\u001b[38;5;241m.\u001b[39mcommand_header \u001b[38;5;241m+\u001b[39m\\\n\u001b[1;32m   1317\u001b[0m     args_command \u001b[38;5;241m+\u001b[39m\\\n\u001b[1;32m   1318\u001b[0m     proto\u001b[38;5;241m.\u001b[39mEND_COMMAND_PART\n\u001b[1;32m   1320\u001b[0m answer \u001b[38;5;241m=\u001b[39m \u001b[38;5;28mself\u001b[39m\u001b[38;5;241m.\u001b[39mgateway_client\u001b[38;5;241m.\u001b[39msend_command(command)\n\u001b[0;32m-> 1321\u001b[0m return_value \u001b[38;5;241m=\u001b[39m \u001b[43mget_return_value\u001b[49m\u001b[43m(\u001b[49m\n\u001b[1;32m   1322\u001b[0m \u001b[43m    \u001b[49m\u001b[43manswer\u001b[49m\u001b[43m,\u001b[49m\u001b[43m \u001b[49m\u001b[38;5;28;43mself\u001b[39;49m\u001b[38;5;241;43m.\u001b[39;49m\u001b[43mgateway_client\u001b[49m\u001b[43m,\u001b[49m\u001b[43m \u001b[49m\u001b[38;5;28;43mself\u001b[39;49m\u001b[38;5;241;43m.\u001b[39;49m\u001b[43mtarget_id\u001b[49m\u001b[43m,\u001b[49m\u001b[43m \u001b[49m\u001b[38;5;28;43mself\u001b[39;49m\u001b[38;5;241;43m.\u001b[39;49m\u001b[43mname\u001b[49m\u001b[43m)\u001b[49m\n\u001b[1;32m   1324\u001b[0m \u001b[38;5;28;01mfor\u001b[39;00m temp_arg \u001b[38;5;129;01min\u001b[39;00m temp_args:\n\u001b[1;32m   1325\u001b[0m     temp_arg\u001b[38;5;241m.\u001b[39m_detach()\n",
      "File \u001b[0;32m~/opt/miniconda3/envs/pyspark-322-delta-200/lib/python3.9/site-packages/pyspark/sql/utils.py:117\u001b[0m, in \u001b[0;36mcapture_sql_exception.<locals>.deco\u001b[0;34m(*a, **kw)\u001b[0m\n\u001b[1;32m    113\u001b[0m converted \u001b[38;5;241m=\u001b[39m convert_exception(e\u001b[38;5;241m.\u001b[39mjava_exception)\n\u001b[1;32m    114\u001b[0m \u001b[38;5;28;01mif\u001b[39;00m \u001b[38;5;129;01mnot\u001b[39;00m \u001b[38;5;28misinstance\u001b[39m(converted, UnknownException):\n\u001b[1;32m    115\u001b[0m     \u001b[38;5;66;03m# Hide where the exception came from that shows a non-Pythonic\u001b[39;00m\n\u001b[1;32m    116\u001b[0m     \u001b[38;5;66;03m# JVM exception message.\u001b[39;00m\n\u001b[0;32m--> 117\u001b[0m     \u001b[38;5;28;01mraise\u001b[39;00m converted \u001b[38;5;28;01mfrom\u001b[39;00m \u001b[38;5;28mNone\u001b[39m\n\u001b[1;32m    118\u001b[0m \u001b[38;5;28;01melse\u001b[39;00m:\n\u001b[1;32m    119\u001b[0m     \u001b[38;5;28;01mraise\u001b[39;00m\n",
      "\u001b[0;31mAnalysisException\u001b[0m: Expecting 0 partition column(s): [], but found 1 partition column(s): [`language`] from parsing the file name: file:/Users/matthew.powers/Documents/code/my_apps/delta-examples/notebooks/pyspark/tmp/lake2/language=English/part-00003-fa662100-1eff-4609-a0dd-794b5eec991a.c000.snappy.parquet"
     ]
    }
   ],
   "source": [
    "deltaTable = DeltaTable.convertToDelta(spark, \"parquet.`tmp/lake2`\")"
   ]
  },
  {
   "cell_type": "code",
   "execution_count": 48,
   "id": "a0d2e3e8-d0aa-41d4-89db-d62ad9140122",
   "metadata": {},
   "outputs": [
    {
     "name": "stdout",
     "output_type": "stream",
     "text": [
      "\u001b[01;34mtmp/lake2\u001b[0m\n",
      "├── \u001b[00m_SUCCESS\u001b[0m\n",
      "├── \u001b[01;34m_delta_log\u001b[0m\n",
      "├── \u001b[01;34mlanguage=English\u001b[0m\n",
      "│   └── \u001b[00mpart-00003-fa662100-1eff-4609-a0dd-794b5eec991a.c000.snappy.parquet\u001b[0m\n",
      "├── \u001b[01;34mlanguage=Hindi\u001b[0m\n",
      "│   └── \u001b[00mpart-00009-fa662100-1eff-4609-a0dd-794b5eec991a.c000.snappy.parquet\u001b[0m\n",
      "└── \u001b[01;34mlanguage=Mandarin\u001b[0m\n",
      "    └── \u001b[00mpart-00006-fa662100-1eff-4609-a0dd-794b5eec991a.c000.snappy.parquet\u001b[0m\n",
      "\n",
      "4 directories, 4 files\n"
     ]
    }
   ],
   "source": [
    "!tree tmp/lake2"
   ]
  },
  {
   "cell_type": "code",
   "execution_count": 49,
   "id": "78b755ce-11ad-4d63-8a51-0fe63bfae619",
   "metadata": {},
   "outputs": [
    {
     "name": "stderr",
     "output_type": "stream",
     "text": [
      "                                                                                \r"
     ]
    }
   ],
   "source": [
    "deltaTable = DeltaTable.convertToDelta(spark, \"parquet.`tmp/lake2`\", \"language STRING\")"
   ]
  },
  {
   "cell_type": "code",
   "execution_count": 50,
   "id": "ed58d5f7-f130-4e4c-8165-b194aedeb4de",
   "metadata": {},
   "outputs": [
    {
     "name": "stdout",
     "output_type": "stream",
     "text": [
      "\u001b[01;34mtmp/lake2\u001b[0m\n",
      "├── \u001b[00m_SUCCESS\u001b[0m\n",
      "├── \u001b[01;34m_delta_log\u001b[0m\n",
      "│   ├── \u001b[00m00000000000000000000.checkpoint.parquet\u001b[0m\n",
      "│   ├── \u001b[00m00000000000000000000.json\u001b[0m\n",
      "│   └── \u001b[00m_last_checkpoint\u001b[0m\n",
      "├── \u001b[01;34mlanguage=English\u001b[0m\n",
      "│   └── \u001b[00mpart-00003-fa662100-1eff-4609-a0dd-794b5eec991a.c000.snappy.parquet\u001b[0m\n",
      "├── \u001b[01;34mlanguage=Hindi\u001b[0m\n",
      "│   └── \u001b[00mpart-00009-fa662100-1eff-4609-a0dd-794b5eec991a.c000.snappy.parquet\u001b[0m\n",
      "└── \u001b[01;34mlanguage=Mandarin\u001b[0m\n",
      "    └── \u001b[00mpart-00006-fa662100-1eff-4609-a0dd-794b5eec991a.c000.snappy.parquet\u001b[0m\n",
      "\n",
      "4 directories, 7 files\n"
     ]
    }
   ],
   "source": [
    "!tree tmp/lake2"
   ]
  },
  {
   "cell_type": "markdown",
   "id": "b6ce281a-8cbc-40bf-9c73-8107aca0d40c",
   "metadata": {},
   "source": [
    "## Convert Parquet Lake with Multiple Appends"
   ]
  },
  {
   "cell_type": "code",
   "execution_count": null,
   "id": "9c04c720-6683-4adf-b166-2e0ef88f68c8",
   "metadata": {},
   "outputs": [],
   "source": [
    "df.write.format(\"parquet\").save(\"tmp/lake3\")"
   ]
  },
  {
   "cell_type": "code",
   "execution_count": 51,
   "id": "2e46e246-5cbf-4933-ae42-5f4f95c72a3a",
   "metadata": {},
   "outputs": [],
   "source": [
    "columns = [\"language\", \"num_speakers\"]\n",
    "data = [(\"Spanish\", \"0.5\"), (\"French\", \"0.3\"), (\"Arabic\", \"0.3\")]\n",
    "rdd = spark.sparkContext.parallelize(data)\n",
    "df = rdd.toDF(columns)"
   ]
  },
  {
   "cell_type": "code",
   "execution_count": 52,
   "id": "e41489c6-fd47-4d8f-8fe2-4a7dd17b4794",
   "metadata": {},
   "outputs": [
    {
     "name": "stderr",
     "output_type": "stream",
     "text": [
      "                                                                                \r"
     ]
    }
   ],
   "source": [
    "df.write.mode(\"append\").format(\"parquet\").save(\"tmp/lake3\")"
   ]
  },
  {
   "cell_type": "code",
   "execution_count": 53,
   "id": "5c9939f4-c355-4c73-8d75-067bbad771ac",
   "metadata": {},
   "outputs": [
    {
     "name": "stderr",
     "output_type": "stream",
     "text": [
      "                                                                                \r"
     ]
    }
   ],
   "source": [
    "deltaTable = DeltaTable.convertToDelta(spark, \"parquet.`tmp/lake3`\")"
   ]
  },
  {
   "cell_type": "code",
   "execution_count": 56,
   "id": "0ba394c7-62f6-407c-8911-457dc3c20ccf",
   "metadata": {},
   "outputs": [
    {
     "ename": "AttributeError",
     "evalue": "'DeltaTable' object has no attribute 'version'",
     "output_type": "error",
     "traceback": [
      "\u001b[0;31m---------------------------------------------------------------------------\u001b[0m",
      "\u001b[0;31mAttributeError\u001b[0m                            Traceback (most recent call last)",
      "Input \u001b[0;32mIn [56]\u001b[0m, in \u001b[0;36m<cell line: 1>\u001b[0;34m()\u001b[0m\n\u001b[0;32m----> 1\u001b[0m \u001b[43mdeltaTable\u001b[49m\u001b[38;5;241;43m.\u001b[39;49m\u001b[43mversion\u001b[49m(\u001b[38;5;241m0\u001b[39m)\u001b[38;5;241m.\u001b[39mshow()\n",
      "\u001b[0;31mAttributeError\u001b[0m: 'DeltaTable' object has no attribute 'version'"
     ]
    }
   ],
   "source": [
    "deltaTable.version(0).show()"
   ]
  },
  {
   "cell_type": "markdown",
   "id": "5698e34e-7915-4df7-b216-a98a83156e63",
   "metadata": {},
   "source": [
    "## Cleanup"
   ]
  },
  {
   "cell_type": "code",
   "execution_count": null,
   "id": "635fa740-2f0b-42b5-bdd8-4ae1974bf92d",
   "metadata": {},
   "outputs": [],
   "source": []
  },
  {
   "cell_type": "code",
   "execution_count": 40,
   "id": "d9064fa0-8d9b-4c0d-8984-71e4b3cc4a65",
   "metadata": {},
   "outputs": [],
   "source": [
    "%rm -rf tmp"
   ]
  },
  {
   "cell_type": "code",
   "execution_count": null,
   "id": "c87c4322-0f76-4ccc-a9f4-57409f2cbe9b",
   "metadata": {},
   "outputs": [],
   "source": []
  }
 ],
 "metadata": {
  "kernelspec": {
   "display_name": "Python [conda env:pyspark-322-delta-200] *",
   "language": "python",
   "name": "conda-env-pyspark-322-delta-200-py"
  },
  "language_info": {
   "codemirror_mode": {
    "name": "ipython",
    "version": 3
   },
   "file_extension": ".py",
   "mimetype": "text/x-python",
   "name": "python",
   "nbconvert_exporter": "python",
   "pygments_lexer": "ipython3",
   "version": "3.9.13"
  }
 },
 "nbformat": 4,
 "nbformat_minor": 5
}
