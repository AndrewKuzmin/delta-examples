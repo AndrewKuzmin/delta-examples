{
 "cells": [
  {
   "cell_type": "markdown",
   "id": "c0dabf1f-038a-4642-ac2d-73bc4b1a6726",
   "metadata": {},
   "source": [
    "# Convert Iceberg to Delta Lake"
   ]
  },
  {
   "cell_type": "code",
   "execution_count": 8,
   "id": "8a1a40f3-0bd6-4eda-b1e7-f92e24cce3df",
   "metadata": {
    "tags": []
   },
   "outputs": [],
   "source": [
    "from pyspark.sql import SparkSession\n",
    "from pyspark.sql.functions import col\n",
    "from delta.tables import DeltaTable\n",
    "import shutil\n",
    "import random\n",
    "\n",
    "testRoot = \"/tmp/delta-iceberg-converter/\"\n",
    "warehousePath = testRoot + \"iceberg_tables\"\n",
    "shutil.rmtree(testRoot, ignore_errors=True)\n",
    "\n",
    "# we need to set the following configs\n",
    "spark = SparkSession.builder \\\n",
    "    .appName(\"delta-iceberg-converter\") \\\n",
    "    .master(\"local[*]\") \\\n",
    "    .config(\"spark.sql.extensions\", \"io.delta.sql.DeltaSparkSessionExtension\") \\\n",
    "    .config(\"spark.sql.catalog.spark_catalog\", \"org.apache.spark.sql.delta.catalog.DeltaCatalog\") \\\n",
    "    .config(\"spark.sql.catalog.local\", \"org.apache.iceberg.spark.SparkCatalog\") \\\n",
    "    .config(\"spark.sql.catalog.local.type\", \"hadoop\") \\\n",
    "    .config(\"spark.sql.catalog.local.warehouse\", warehousePath) \\\n",
    "    .getOrCreate()\n",
    "\n",
    "table = \"local.db.table\"\n",
    "tablePath = \"file://\" + warehousePath + \"/db/table\""
   ]
  },
  {
   "cell_type": "code",
   "execution_count": 10,
   "id": "45cb9065-f48f-4804-a79a-69020f46cf6f",
   "metadata": {
    "tags": []
   },
   "outputs": [],
   "source": [
    "print(\"Creating Iceberg table with partitions...\")\n",
    "spark.sql(\n",
    "    \"CREATE TABLE {} (id BIGINT, data STRING) USING ICEBERG PARTITIONED BY (data)\".format(table))\n",
    "spark.sql(\"INSERT INTO {} VALUES (1, 'a'), (2, 'b')\".format(table))\n",
    "spark.sql(\"INSERT INTO {} VALUES (3, 'c')\".format(table))"
   ]
  }
 ],
 "metadata": {
  "kernelspec": {
   "display_name": "Python [conda env:pyspark-332-delta-230] *",
   "language": "python",
   "name": "conda-env-pyspark-332-delta-230-py"
  },
  "language_info": {
   "codemirror_mode": {
    "name": "ipython",
    "version": 3
   },
   "file_extension": ".py",
   "mimetype": "text/x-python",
   "name": "python",
   "nbconvert_exporter": "python",
   "pygments_lexer": "ipython3",
   "version": "3.9.16"
  }
 },
 "nbformat": 4,
 "nbformat_minor": 5
}
