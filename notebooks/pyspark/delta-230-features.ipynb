{
 "cells": [
  {
   "cell_type": "markdown",
   "id": "f2710a07-a7bd-4b26-835a-add65d77f5d4",
   "metadata": {},
   "source": [
    "# Delta Lake 2.3.0 Release"
   ]
  },
  {
   "cell_type": "code",
   "execution_count": 1,
   "id": "ff42fa93-ff77-4941-a9c3-532783237190",
   "metadata": {
    "tags": []
   },
   "outputs": [
    {
     "name": "stdout",
     "output_type": "stream",
     "text": [
      ":: loading settings :: url = jar:file:/Users/matthew.powers/opt/miniconda3/envs/pyspark-332-delta-230/lib/python3.9/site-packages/pyspark/jars/ivy-2.5.1.jar!/org/apache/ivy/core/settings/ivysettings.xml\n"
     ]
    },
    {
     "name": "stderr",
     "output_type": "stream",
     "text": [
      "Ivy Default Cache set to: /Users/matthew.powers/.ivy2/cache\n",
      "The jars for the packages stored in: /Users/matthew.powers/.ivy2/jars\n",
      "io.delta#delta-core_2.12 added as a dependency\n",
      ":: resolving dependencies :: org.apache.spark#spark-submit-parent-e4c7e6fa-948b-4695-9392-af98ccb0dc79;1.0\n",
      "\tconfs: [default]\n",
      "\tfound io.delta#delta-core_2.12;2.3.0 in central\n",
      "\tfound io.delta#delta-storage;2.3.0 in central\n",
      "\tfound org.antlr#antlr4-runtime;4.8 in central\n",
      ":: resolution report :: resolve 102ms :: artifacts dl 4ms\n",
      "\t:: modules in use:\n",
      "\tio.delta#delta-core_2.12;2.3.0 from central in [default]\n",
      "\tio.delta#delta-storage;2.3.0 from central in [default]\n",
      "\torg.antlr#antlr4-runtime;4.8 from central in [default]\n",
      "\t---------------------------------------------------------------------\n",
      "\t|                  |            modules            ||   artifacts   |\n",
      "\t|       conf       | number| search|dwnlded|evicted|| number|dwnlded|\n",
      "\t---------------------------------------------------------------------\n",
      "\t|      default     |   3   |   0   |   0   |   0   ||   3   |   0   |\n",
      "\t---------------------------------------------------------------------\n",
      ":: retrieving :: org.apache.spark#spark-submit-parent-e4c7e6fa-948b-4695-9392-af98ccb0dc79\n",
      "\tconfs: [default]\n",
      "\t0 artifacts copied, 3 already retrieved (0kB/3ms)\n"
     ]
    },
    {
     "name": "stdout",
     "output_type": "stream",
     "text": [
      "23/04/10 13:27:46 WARN NativeCodeLoader: Unable to load native-hadoop library for your platform... using builtin-java classes where applicable\n"
     ]
    },
    {
     "name": "stderr",
     "output_type": "stream",
     "text": [
      "Setting default log level to \"WARN\".\n",
      "To adjust logging level use sc.setLogLevel(newLevel). For SparkR, use setLogLevel(newLevel).\n"
     ]
    }
   ],
   "source": [
    "import pyspark\n",
    "from delta import *\n",
    "from pyspark.sql import functions as F\n",
    "\n",
    "import pathlib\n",
    "\n",
    "builder = (\n",
    "    pyspark.sql.SparkSession.builder.appName(\"MyApp\")\n",
    "    .config(\"spark.sql.extensions\", \"io.delta.sql.DeltaSparkSessionExtension\")\n",
    "    .config(\n",
    "        \"spark.sql.catalog.spark_catalog\",\n",
    "        \"org.apache.spark.sql.delta.catalog.DeltaCatalog\",\n",
    "    )\n",
    ")\n",
    "\n",
    "spark = configure_spark_with_delta_pip(builder).getOrCreate()"
   ]
  },
  {
   "cell_type": "code",
   "execution_count": 2,
   "id": "e874cdc5-b41d-4cbb-9af4-97bc19d9e7b3",
   "metadata": {},
   "outputs": [],
   "source": [
    "cwd = pathlib.Path().resolve()"
   ]
  },
  {
   "cell_type": "markdown",
   "id": "46c2cb73-1343-496b-a977-417862ae51f1",
   "metadata": {},
   "source": [
    "## Convert Iceberg to Delta Lake"
   ]
  },
  {
   "cell_type": "markdown",
   "id": "b39bcbfe-aa27-443a-9998-99ec53e28190",
   "metadata": {},
   "source": [
    "TODO: Figure out how to create an Iceberg table"
   ]
  },
  {
   "cell_type": "markdown",
   "id": "b4001454-5989-4d80-9f67-f1df2f2f5c44",
   "metadata": {
    "tags": []
   },
   "source": [
    "## Delta Lake Shallow Clone"
   ]
  },
  {
   "cell_type": "code",
   "execution_count": 3,
   "id": "78586418-17ac-4739-88ea-03e9ad370d79",
   "metadata": {
    "tags": []
   },
   "outputs": [],
   "source": [
    "data = [(0, \"Bob\", 23), (1, \"Sue\", 25), (2, \"Jim\", 27)]"
   ]
  },
  {
   "cell_type": "code",
   "execution_count": 4,
   "id": "80d05bba-fb45-4fe4-a3df-dbce1ccdd34a",
   "metadata": {
    "tags": []
   },
   "outputs": [],
   "source": [
    "df = spark.createDataFrame(data).toDF(\"id\", \"name\", \"age\")"
   ]
  },
  {
   "cell_type": "code",
   "execution_count": 6,
   "id": "93be5def-aead-4af0-b782-14c6467d3a0a",
   "metadata": {
    "tags": []
   },
   "outputs": [
    {
     "name": "stderr",
     "output_type": "stream",
     "text": [
      "                                                                                \r"
     ]
    },
    {
     "name": "stdout",
     "output_type": "stream",
     "text": [
      "23/04/10 13:28:17 WARN package: Truncated the string representation of a plan since it was too large. This behavior can be adjusted by setting 'spark.sql.debug.maxToStringFields'.\n"
     ]
    },
    {
     "name": "stderr",
     "output_type": "stream",
     "text": [
      "                                                                                \r"
     ]
    }
   ],
   "source": [
    "df.write.format(\"delta\").save(\"tmp/my_people\")"
   ]
  },
  {
   "cell_type": "code",
   "execution_count": 7,
   "id": "b779e6b3-1769-4702-91ad-050adb853b8e",
   "metadata": {
    "tags": []
   },
   "outputs": [
    {
     "data": {
      "text/plain": [
       "DataFrame[source_table_size: bigint, source_num_of_files: bigint, num_removed_files: bigint, num_copied_files: bigint, removed_files_size: bigint, copied_files_size: bigint]"
      ]
     },
     "execution_count": 7,
     "metadata": {},
     "output_type": "execute_result"
    }
   ],
   "source": [
    "spark.sql(f\"CREATE TABLE delta.`{cwd}/tmp/my_cloned_people` SHALLOW CLONE delta.`{cwd}/tmp/my_people`\")"
   ]
  },
  {
   "cell_type": "code",
   "execution_count": 9,
   "id": "175f8a25-170b-46c5-8aff-0f41b829d1bc",
   "metadata": {
    "tags": []
   },
   "outputs": [
    {
     "name": "stdout",
     "output_type": "stream",
     "text": [
      "+---+----+---+\n",
      "| id|name|age|\n",
      "+---+----+---+\n",
      "|  2| Jim| 27|\n",
      "|  1| Sue| 25|\n",
      "|  0| Bob| 23|\n",
      "+---+----+---+\n",
      "\n"
     ]
    }
   ],
   "source": [
    "spark.read.format(\"delta\").load(\"tmp/my_cloned_people\").show()"
   ]
  },
  {
   "cell_type": "code",
   "execution_count": 10,
   "id": "cf9124cd-60f3-4af7-a9bc-ced9fea7e075",
   "metadata": {
    "tags": []
   },
   "outputs": [
    {
     "name": "stdout",
     "output_type": "stream",
     "text": [
      "\u001b[01;34mtmp/my_cloned_people\u001b[0m\n",
      "└── \u001b[01;34m_delta_log\u001b[0m\n",
      "    ├── \u001b[00m00000000000000000000.checkpoint.parquet\u001b[0m\n",
      "    ├── \u001b[00m00000000000000000000.json\u001b[0m\n",
      "    └── \u001b[00m_last_checkpoint\u001b[0m\n",
      "\n",
      "1 directory, 3 files\n"
     ]
    }
   ],
   "source": [
    "!tree tmp/my_cloned_people"
   ]
  },
  {
   "cell_type": "code",
   "execution_count": 11,
   "id": "41091b62-e753-403b-9508-e48d89d3ea50",
   "metadata": {
    "tags": []
   },
   "outputs": [
    {
     "name": "stdout",
     "output_type": "stream",
     "text": [
      "\u001b[01;34mtmp/my_people\u001b[0m\n",
      "├── \u001b[01;34m_delta_log\u001b[0m\n",
      "│   └── \u001b[00m00000000000000000000.json\u001b[0m\n",
      "├── \u001b[00mpart-00000-61eded6b-5480-41b3-834b-e481e52b06bf-c000.snappy.parquet\u001b[0m\n",
      "├── \u001b[00mpart-00003-962d94a2-b9fa-4253-aaf5-5968eefd540c-c000.snappy.parquet\u001b[0m\n",
      "├── \u001b[00mpart-00006-8442af38-8b11-47fd-9a55-fa72f36d02b2-c000.snappy.parquet\u001b[0m\n",
      "└── \u001b[00mpart-00009-b5aa702a-d6fb-406e-97bf-f8f18b864f0a-c000.snappy.parquet\u001b[0m\n",
      "\n",
      "1 directory, 5 files\n"
     ]
    }
   ],
   "source": [
    "!tree tmp/my_people"
   ]
  },
  {
   "cell_type": "code",
   "execution_count": 12,
   "id": "0d9fe8c9-116e-4fec-b40e-6f36404dc892",
   "metadata": {
    "tags": []
   },
   "outputs": [],
   "source": [
    "data = [(0, \"Clare\", 5),]"
   ]
  },
  {
   "cell_type": "code",
   "execution_count": 13,
   "id": "2b776043-5d94-4b8e-a101-6746aa8578a0",
   "metadata": {
    "tags": []
   },
   "outputs": [],
   "source": [
    "df = spark.createDataFrame(data).toDF(\"id\", \"name\", \"age\")"
   ]
  },
  {
   "cell_type": "code",
   "execution_count": 14,
   "id": "e5468ce9-8e81-4352-b9cb-850b0c92e142",
   "metadata": {
    "tags": []
   },
   "outputs": [],
   "source": [
    "df.write.format(\"delta\").mode(\"append\").save(\"tmp/my_people\")"
   ]
  },
  {
   "cell_type": "code",
   "execution_count": 15,
   "id": "307810c6-1639-4f77-b097-17f022e8b97f",
   "metadata": {
    "tags": []
   },
   "outputs": [
    {
     "name": "stdout",
     "output_type": "stream",
     "text": [
      "+---+-----+---+\n",
      "| id| name|age|\n",
      "+---+-----+---+\n",
      "|  0|Clare|  5|\n",
      "|  1|  Sue| 25|\n",
      "|  0|  Bob| 23|\n",
      "|  2|  Jim| 27|\n",
      "+---+-----+---+\n",
      "\n"
     ]
    }
   ],
   "source": [
    "spark.read.format(\"delta\").load(\"tmp/my_people\").show()"
   ]
  },
  {
   "cell_type": "code",
   "execution_count": 16,
   "id": "ee5cb825-0e8a-4867-a1b0-ff6e3ef24eb3",
   "metadata": {
    "tags": []
   },
   "outputs": [
    {
     "name": "stdout",
     "output_type": "stream",
     "text": [
      "+---+----+---+\n",
      "| id|name|age|\n",
      "+---+----+---+\n",
      "|  2| Jim| 27|\n",
      "|  1| Sue| 25|\n",
      "|  0| Bob| 23|\n",
      "+---+----+---+\n",
      "\n"
     ]
    }
   ],
   "source": [
    "spark.read.format(\"delta\").load(\"tmp/my_cloned_people\").show()"
   ]
  },
  {
   "cell_type": "code",
   "execution_count": 17,
   "id": "676670fb-d863-46ad-93f2-2c2f706b67be",
   "metadata": {
    "tags": []
   },
   "outputs": [],
   "source": [
    "data = [(0, \"Linda\", 32),]"
   ]
  },
  {
   "cell_type": "code",
   "execution_count": 18,
   "id": "9bf2b985-7930-4324-afdf-71a797e15917",
   "metadata": {
    "tags": []
   },
   "outputs": [],
   "source": [
    "df = spark.createDataFrame(data).toDF(\"id\", \"name\", \"age\")"
   ]
  },
  {
   "cell_type": "code",
   "execution_count": 19,
   "id": "dd6cd094-1cc5-4225-813c-bac76ce705ff",
   "metadata": {
    "tags": []
   },
   "outputs": [],
   "source": [
    "df.write.format(\"delta\").mode(\"append\").save(\"tmp/my_cloned_people\")"
   ]
  },
  {
   "cell_type": "code",
   "execution_count": 20,
   "id": "657e9e25-924c-44f1-b44a-47c21db3e0c7",
   "metadata": {
    "tags": []
   },
   "outputs": [
    {
     "name": "stdout",
     "output_type": "stream",
     "text": [
      "+---+-----+---+\n",
      "| id| name|age|\n",
      "+---+-----+---+\n",
      "|  0|Linda| 32|\n",
      "|  2|  Jim| 27|\n",
      "|  1|  Sue| 25|\n",
      "|  0|  Bob| 23|\n",
      "+---+-----+---+\n",
      "\n"
     ]
    }
   ],
   "source": [
    "spark.read.format(\"delta\").load(\"tmp/my_cloned_people\").show()"
   ]
  },
  {
   "cell_type": "markdown",
   "id": "af68ae92-7aa4-4a38-ad60-eba32beeb754",
   "metadata": {},
   "source": [
    "## When not matched by source"
   ]
  },
  {
   "cell_type": "code",
   "execution_count": null,
   "id": "267803db-507d-490c-b226-452b5e392448",
   "metadata": {},
   "outputs": [],
   "source": []
  },
  {
   "cell_type": "markdown",
   "id": "715a82ff-0d87-4f8b-a774-a7e179ef7b50",
   "metadata": {},
   "source": [
    "## CREATE TABLE LIKE"
   ]
  },
  {
   "cell_type": "code",
   "execution_count": 10,
   "id": "7cbebe46-82d5-498f-9e42-dacafdb971c8",
   "metadata": {},
   "outputs": [],
   "source": [
    "df = spark.createDataFrame(\n",
    "    [(0, \"Bob\", \"Loblaw\", 23), (1, \"Sue\", \"Grafton\", None), (2, \"Jim\", \"Carrey\", 61)]\n",
    ").toDF(\"id\", \"first_name\", \"last_name\", \"age\")"
   ]
  },
  {
   "cell_type": "code",
   "execution_count": 11,
   "id": "61f85f14-093f-4f62-9940-91d8ed2e3404",
   "metadata": {
    "tags": []
   },
   "outputs": [],
   "source": [
    "df.write.format(\"delta\").saveAsTable(\n",
    "    \"default.famous_people\"\n",
    ")"
   ]
  },
  {
   "cell_type": "code",
   "execution_count": 12,
   "id": "dc4c1570-b020-4403-8043-5939eb6ac354",
   "metadata": {
    "tags": []
   },
   "outputs": [
    {
     "name": "stdout",
     "output_type": "stream",
     "text": [
      "+---+----------+---------+----+\n",
      "| id|first_name|last_name| age|\n",
      "+---+----------+---------+----+\n",
      "|  2|       Jim|   Carrey|  61|\n",
      "|  0|       Bob|   Loblaw|  23|\n",
      "|  1|       Sue|  Grafton|null|\n",
      "+---+----------+---------+----+\n",
      "\n"
     ]
    }
   ],
   "source": [
    "spark.sql(\"select * from famous_people\").show()"
   ]
  },
  {
   "cell_type": "code",
   "execution_count": 13,
   "id": "f1e14c66-ed31-41ab-95d9-2946fbe3749a",
   "metadata": {
    "tags": []
   },
   "outputs": [
    {
     "data": {
      "text/plain": [
       "DataFrame[]"
      ]
     },
     "execution_count": 13,
     "metadata": {},
     "output_type": "execute_result"
    }
   ],
   "source": [
    "spark.sql(\"CREATE TABLE famous_people_duplicate like famous_people\")"
   ]
  },
  {
   "cell_type": "code",
   "execution_count": 14,
   "id": "763a4990-8dac-4be9-a288-8509e3bc2438",
   "metadata": {
    "tags": []
   },
   "outputs": [
    {
     "name": "stdout",
     "output_type": "stream",
     "text": [
      "+---+----------+---------+---+\n",
      "| id|first_name|last_name|age|\n",
      "+---+----------+---------+---+\n",
      "+---+----------+---------+---+\n",
      "\n"
     ]
    }
   ],
   "source": [
    "spark.sql(\"select * from famous_people_duplicate\").show()"
   ]
  },
  {
   "cell_type": "markdown",
   "id": "f2f98081-7fe7-48ac-9678-26cf98318052",
   "metadata": {},
   "source": [
    "## Reading change data feed in SQL queries"
   ]
  },
  {
   "cell_type": "code",
   "execution_count": null,
   "id": "a3c6d577-0b59-458b-bc5e-b48a3a837e45",
   "metadata": {},
   "outputs": [],
   "source": []
  },
  {
   "cell_type": "markdown",
   "id": "ba737836-2308-4501-b479-ee94530fe4d3",
   "metadata": {},
   "source": [
    "## Cleanup"
   ]
  },
  {
   "cell_type": "code",
   "execution_count": null,
   "id": "12eca18b-226b-42c4-becc-48c97b6b7d9d",
   "metadata": {},
   "outputs": [],
   "source": []
  }
 ],
 "metadata": {
  "kernelspec": {
   "display_name": "Python [conda env:pyspark-332-delta-230] *",
   "language": "python",
   "name": "conda-env-pyspark-332-delta-230-py"
  },
  "language_info": {
   "codemirror_mode": {
    "name": "ipython",
    "version": 3
   },
   "file_extension": ".py",
   "mimetype": "text/x-python",
   "name": "python",
   "nbconvert_exporter": "python",
   "pygments_lexer": "ipython3",
   "version": "3.9.16"
  }
 },
 "nbformat": 4,
 "nbformat_minor": 5
}
