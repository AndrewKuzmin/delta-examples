{
 "cells": [
  {
   "cell_type": "markdown",
   "id": "6bf077cc-2711-4f2a-a92c-4667615a775e",
   "metadata": {},
   "source": [
    "# Speed up Spark with Delta"
   ]
  },
  {
   "cell_type": "code",
   "execution_count": 1,
   "id": "e25079f8-fc48-48b6-a1ce-f833eedf665a",
   "metadata": {},
   "outputs": [],
   "source": [
    "import pyspark\n",
    "import pyspark.sql.functions as F\n",
    "from delta import *"
   ]
  },
  {
   "cell_type": "code",
   "execution_count": 2,
   "id": "69d1561a-964b-4678-aeb0-18b28dfdea3f",
   "metadata": {},
   "outputs": [],
   "source": [
    "builder = (\n",
    "    pyspark.sql.SparkSession.builder.appName(\"MyApp\")\n",
    "    .config(\"spark.sql.extensions\", \"io.delta.sql.DeltaSparkSessionExtension\")\n",
    "    .config(\n",
    "        \"spark.sql.catalog.spark_catalog\",\n",
    "        \"org.apache.spark.sql.delta.catalog.DeltaCatalog\",\n",
    "    )\n",
    ")"
   ]
  },
  {
   "cell_type": "code",
   "execution_count": 3,
   "id": "dec54f94-b107-46d1-9b4b-f5388b3034cc",
   "metadata": {},
   "outputs": [
    {
     "name": "stdout",
     "output_type": "stream",
     "text": [
      ":: loading settings :: url = jar:file:/Users/matthew.powers/opt/miniconda3/envs/pyspark-300-delta-200/lib/python3.9/site-packages/pyspark/jars/ivy-2.5.0.jar!/org/apache/ivy/core/settings/ivysettings.xml\n"
     ]
    },
    {
     "name": "stderr",
     "output_type": "stream",
     "text": [
      "Ivy Default Cache set to: /Users/matthew.powers/.ivy2/cache\n",
      "The jars for the packages stored in: /Users/matthew.powers/.ivy2/jars\n",
      "io.delta#delta-core_2.12 added as a dependency\n",
      ":: resolving dependencies :: org.apache.spark#spark-submit-parent-66faaf5a-862d-4c56-ae0c-7494e4d58d08;1.0\n",
      "\tconfs: [default]\n",
      "\tfound io.delta#delta-core_2.12;2.0.0 in central\n",
      "\tfound io.delta#delta-storage;2.0.0 in central\n",
      "\tfound org.antlr#antlr4-runtime;4.8 in central\n",
      "\tfound org.codehaus.jackson#jackson-core-asl;1.9.13 in central\n",
      ":: resolution report :: resolve 306ms :: artifacts dl 23ms\n",
      "\t:: modules in use:\n",
      "\tio.delta#delta-core_2.12;2.0.0 from central in [default]\n",
      "\tio.delta#delta-storage;2.0.0 from central in [default]\n",
      "\torg.antlr#antlr4-runtime;4.8 from central in [default]\n",
      "\torg.codehaus.jackson#jackson-core-asl;1.9.13 from central in [default]\n",
      "\t---------------------------------------------------------------------\n",
      "\t|                  |            modules            ||   artifacts   |\n",
      "\t|       conf       | number| search|dwnlded|evicted|| number|dwnlded|\n",
      "\t---------------------------------------------------------------------\n",
      "\t|      default     |   4   |   0   |   0   |   0   ||   4   |   0   |\n",
      "\t---------------------------------------------------------------------\n",
      ":: retrieving :: org.apache.spark#spark-submit-parent-66faaf5a-862d-4c56-ae0c-7494e4d58d08\n",
      "\tconfs: [default]\n",
      "\t0 artifacts copied, 4 already retrieved (0kB/10ms)\n",
      "22/08/10 10:50:30 WARN NativeCodeLoader: Unable to load native-hadoop library for your platform... using builtin-java classes where applicable\n",
      "Using Spark's default log4j profile: org/apache/spark/log4j-defaults.properties\n",
      "Setting default log level to \"WARN\".\n",
      "To adjust logging level use sc.setLogLevel(newLevel). For SparkR, use setLogLevel(newLevel).\n"
     ]
    }
   ],
   "source": [
    "spark = configure_spark_with_delta_pip(builder).getOrCreate()\n",
    "spark.sparkContext.setLogLevel(\"ERROR\")"
   ]
  },
  {
   "cell_type": "code",
   "execution_count": 4,
   "id": "b29e20e3-2c22-49e5-b88d-0e43a4772109",
   "metadata": {},
   "outputs": [
    {
     "name": "stderr",
     "output_type": "stream",
     "text": [
      "                                                                                \r"
     ]
    }
   ],
   "source": [
    "single_csv_df = spark.read.option(\"header\", True).csv(\"../../tmp/G1_1e7_1e2_0_0.csv\")"
   ]
  },
  {
   "cell_type": "code",
   "execution_count": 5,
   "id": "89058194-db14-40d4-8c86-8479407d3506",
   "metadata": {},
   "outputs": [
    {
     "name": "stderr",
     "output_type": "stream",
     "text": [
      "[Stage 3:==================================>                       (6 + 4) / 10]\r"
     ]
    },
    {
     "name": "stdout",
     "output_type": "stream",
     "text": [
      "+------------+-------+-----------------+\n",
      "|         id3|sum(v1)|          avg(v3)|\n",
      "+------------+-------+-----------------+\n",
      "|id0000023873|  264.0|49.88283578947368|\n",
      "|id0000043072|  320.0| 53.3955363106796|\n",
      "|id0000032560|  270.0|        50.261636|\n",
      "|id0000080944|  296.0|47.64060392783505|\n",
      "|id0000098376|  304.0|49.43126506060605|\n",
      "+------------+-------+-----------------+\n",
      "\n"
     ]
    },
    {
     "name": "stderr",
     "output_type": "stream",
     "text": [
      "                                                                                \r"
     ]
    }
   ],
   "source": [
    "single_csv_df.groupby(\"id3\").agg(F.sum(\"v1\"), F.mean(\"v3\")).limit(5).show()"
   ]
  },
  {
   "cell_type": "markdown",
   "id": "89cb78f4-e3b6-4e1d-8907-d326d7064fce",
   "metadata": {},
   "source": [
    "## Single uncompressed CSV file"
   ]
  },
  {
   "cell_type": "code",
   "execution_count": 6,
   "id": "579bd236-96cc-4b61-9a28-ea3298b7d7ff",
   "metadata": {},
   "outputs": [
    {
     "name": "stderr",
     "output_type": "stream",
     "text": [
      "[Stage 7:==================================>                       (6 + 4) / 10]\r"
     ]
    },
    {
     "name": "stdout",
     "output_type": "stream",
     "text": [
      "+------------+-------+------------------+\n",
      "|         id3|sum(v1)|           avg(v3)|\n",
      "+------------+-------+------------------+\n",
      "|id0000069985|  323.0|62.673885595744686|\n",
      "|id0000061798|  276.0| 61.72031902173914|\n",
      "|id0000061604|  270.0| 61.42980177777777|\n",
      "|id0000042330|  219.0| 61.34167918421052|\n",
      "|id0000040861|  283.0| 61.27588561538461|\n",
      "+------------+-------+------------------+\n",
      "\n",
      "CPU times: user 5.24 ms, sys: 3.05 ms, total: 8.29 ms\n",
      "Wall time: 4.73 s\n"
     ]
    },
    {
     "name": "stderr",
     "output_type": "stream",
     "text": [
      "                                                                                \r"
     ]
    }
   ],
   "source": [
    "%%time\n",
    "\n",
    "single_csv_df.groupby(\"id3\").agg(F.sum(\"v1\"), F.mean(\"v3\")).orderBy(F.col(\"avg(v3)\").desc()).limit(5).show()"
   ]
  },
  {
   "cell_type": "markdown",
   "id": "bb2af676-0770-4fbf-bc7b-5e036c82d978",
   "metadata": {},
   "source": [
    "## Multiple CSV files"
   ]
  },
  {
   "cell_type": "code",
   "execution_count": 7,
   "id": "a1df4342-207e-4e59-b39c-ab1e3d2ef8d7",
   "metadata": {},
   "outputs": [
    {
     "data": {
      "text/plain": [
       "10"
      ]
     },
     "execution_count": 7,
     "metadata": {},
     "output_type": "execute_result"
    }
   ],
   "source": [
    "single_csv_df.rdd.getNumPartitions()"
   ]
  },
  {
   "cell_type": "code",
   "execution_count": 8,
   "id": "1744532c-0cab-438b-9894-17757810e611",
   "metadata": {},
   "outputs": [
    {
     "name": "stderr",
     "output_type": "stream",
     "text": [
      "                                                                                \r"
     ]
    }
   ],
   "source": [
    "single_csv_df.write.option(\"header\", True).csv(\"tmp/csvs\")"
   ]
  },
  {
   "cell_type": "code",
   "execution_count": 9,
   "id": "0ca0fc7c-0599-4460-800a-b16c1b4aed2f",
   "metadata": {},
   "outputs": [],
   "source": [
    "csv_df = spark.read.option(\"header\", True).csv(\"tmp/csvs\")"
   ]
  },
  {
   "cell_type": "code",
   "execution_count": 10,
   "id": "61ba0e59-fd62-421d-b2c1-69f0a403b2e5",
   "metadata": {},
   "outputs": [
    {
     "name": "stderr",
     "output_type": "stream",
     "text": [
      "[Stage 13:>                                                       (0 + 10) / 10]\r"
     ]
    },
    {
     "name": "stdout",
     "output_type": "stream",
     "text": [
      "+------------+-------+-----------------+\n",
      "|         id3|sum(v1)|          avg(v3)|\n",
      "+------------+-------+-----------------+\n",
      "|id0000069985|  323.0|62.67388559574468|\n",
      "|id0000061798|  276.0|61.72031902173912|\n",
      "|id0000061604|  270.0|61.42980177777779|\n",
      "|id0000042330|  219.0|61.34167918421052|\n",
      "|id0000040861|  283.0|61.27588561538461|\n",
      "+------------+-------+-----------------+\n",
      "\n",
      "CPU times: user 4.2 ms, sys: 2.33 ms, total: 6.54 ms\n",
      "Wall time: 3.99 s\n"
     ]
    },
    {
     "name": "stderr",
     "output_type": "stream",
     "text": [
      "                                                                                \r"
     ]
    }
   ],
   "source": [
    "%%time\n",
    "\n",
    "csv_df.groupby(\"id3\").agg(F.sum(\"v1\"), F.mean(\"v3\")).orderBy(F.col(\"avg(v3)\").desc()).limit(5).show()"
   ]
  },
  {
   "cell_type": "markdown",
   "id": "e1bea0f2-d44c-46fa-b4fa-b2775c001ddf",
   "metadata": {},
   "source": [
    "## Multiple Parquet files"
   ]
  },
  {
   "cell_type": "code",
   "execution_count": 11,
   "id": "b83ebd55-c412-4740-9a35-04bec32d8dc0",
   "metadata": {},
   "outputs": [
    {
     "name": "stderr",
     "output_type": "stream",
     "text": [
      "                                                                                \r"
     ]
    }
   ],
   "source": [
    "csv_df.write.parquet(\"tmp/parquet\")"
   ]
  },
  {
   "cell_type": "code",
   "execution_count": 12,
   "id": "02ded113-047d-4728-b906-a38a585c6a37",
   "metadata": {},
   "outputs": [],
   "source": [
    "parquet_df = spark.read.parquet(\"tmp/parquet\")"
   ]
  },
  {
   "cell_type": "code",
   "execution_count": 13,
   "id": "beb9dbd2-f618-4089-a30c-e9c564c2f80f",
   "metadata": {},
   "outputs": [
    {
     "name": "stderr",
     "output_type": "stream",
     "text": [
      "[Stage 19:=====>                                                   (1 + 9) / 10]\r"
     ]
    },
    {
     "name": "stdout",
     "output_type": "stream",
     "text": [
      "+------------+-------+------------------+\n",
      "|         id3|sum(v1)|           avg(v3)|\n",
      "+------------+-------+------------------+\n",
      "|id0000069985|  323.0| 62.67388559574468|\n",
      "|id0000061798|  276.0| 61.72031902173914|\n",
      "|id0000061604|  270.0|61.429801777777776|\n",
      "|id0000042330|  219.0| 61.34167918421052|\n",
      "|id0000040861|  283.0| 61.27588561538461|\n",
      "+------------+-------+------------------+\n",
      "\n",
      "CPU times: user 3.25 ms, sys: 2 ms, total: 5.24 ms\n",
      "Wall time: 3.54 s\n"
     ]
    },
    {
     "name": "stderr",
     "output_type": "stream",
     "text": [
      "                                                                                \r"
     ]
    }
   ],
   "source": [
    "%%time\n",
    "\n",
    "parquet_df.groupby(\"id3\").agg(F.sum(\"v1\"), F.mean(\"v3\")).orderBy(F.col(\"avg(v3)\").desc()).limit(5).show()"
   ]
  },
  {
   "cell_type": "markdown",
   "id": "08253519-3bdb-4be7-a1a4-46f2258a219d",
   "metadata": {},
   "source": [
    "## Delta Lake"
   ]
  },
  {
   "cell_type": "code",
   "execution_count": 14,
   "id": "9261f509-dc9a-4feb-babf-f263998106bc",
   "metadata": {},
   "outputs": [
    {
     "name": "stderr",
     "output_type": "stream",
     "text": [
      "                                                                                \r"
     ]
    }
   ],
   "source": [
    "parquet_df.write.format(\"delta\").save(\"tmp/delta\")"
   ]
  },
  {
   "cell_type": "code",
   "execution_count": 15,
   "id": "8439a27c-7ab2-4b0a-9251-982a924e0506",
   "metadata": {},
   "outputs": [],
   "source": [
    "delta_df = spark.read.format(\"delta\").load(\"tmp/delta\")"
   ]
  },
  {
   "cell_type": "code",
   "execution_count": 16,
   "id": "67f05931-0e6a-4535-9698-9c168901c66e",
   "metadata": {},
   "outputs": [
    {
     "name": "stderr",
     "output_type": "stream",
     "text": [
      "[Stage 32:>                                                       (0 + 10) / 10]\r"
     ]
    },
    {
     "name": "stdout",
     "output_type": "stream",
     "text": [
      "+------------+-------+------------------+\n",
      "|         id3|sum(v1)|           avg(v3)|\n",
      "+------------+-------+------------------+\n",
      "|id0000069985|  323.0| 62.67388559574468|\n",
      "|id0000061798|  276.0| 61.72031902173914|\n",
      "|id0000061604|  270.0|61.429801777777776|\n",
      "|id0000042330|  219.0| 61.34167918421052|\n",
      "|id0000040861|  283.0| 61.27588561538461|\n",
      "+------------+-------+------------------+\n",
      "\n",
      "CPU times: user 2.92 ms, sys: 1.82 ms, total: 4.74 ms\n",
      "Wall time: 3.99 s\n"
     ]
    },
    {
     "name": "stderr",
     "output_type": "stream",
     "text": [
      "                                                                                \r"
     ]
    }
   ],
   "source": [
    "%%time\n",
    "\n",
    "delta_df.groupby(\"id3\").agg(F.sum(\"v1\"), F.mean(\"v3\")).orderBy(F.col(\"avg(v3)\").desc()).limit(5).show()"
   ]
  },
  {
   "cell_type": "markdown",
   "id": "2592f9d6-c2ab-4c1b-ab8e-15786e29122f",
   "metadata": {},
   "source": [
    "## Delta Lake with ZORDER"
   ]
  },
  {
   "cell_type": "code",
   "execution_count": 17,
   "id": "195e3e1a-83dd-46c7-a6e1-cbd9c8fde2e1",
   "metadata": {},
   "outputs": [],
   "source": [
    "deltaTable = DeltaTable.forPath(spark, \"tmp/delta\")"
   ]
  },
  {
   "cell_type": "code",
   "execution_count": 18,
   "id": "b56081ce-7c98-4296-9f52-5b639d76c3d8",
   "metadata": {},
   "outputs": [
    {
     "name": "stderr",
     "output_type": "stream",
     "text": [
      "                                                                                \r"
     ]
    },
    {
     "data": {
      "text/plain": [
       "DataFrame[path: string, metrics: struct<numFilesAdded:bigint,numFilesRemoved:bigint,filesAdded:struct<min:bigint,max:bigint,avg:double,totalFiles:bigint,totalSize:bigint>,filesRemoved:struct<min:bigint,max:bigint,avg:double,totalFiles:bigint,totalSize:bigint>,partitionsOptimized:bigint,zOrderStats:struct<strategyName:string,inputCubeFiles:struct<num:bigint,size:bigint>,inputOtherFiles:struct<num:bigint,size:bigint>,inputNumCubes:bigint,mergedFiles:struct<num:bigint,size:bigint>,numOutputCubes:bigint,mergedNumCubes:bigint>,numBatches:bigint,totalConsideredFiles:bigint,totalFilesSkipped:bigint,preserveInsertionOrder:boolean,numFilesSkippedToReduceWriteAmplification:bigint,numBytesSkippedToReduceWriteAmplification:bigint,startTimeMs:bigint,endTimeMs:bigint>]"
      ]
     },
     "execution_count": 18,
     "metadata": {},
     "output_type": "execute_result"
    }
   ],
   "source": [
    "deltaTable.optimize().executeZOrderBy(\"id3\")"
   ]
  },
  {
   "cell_type": "code",
   "execution_count": 19,
   "id": "6abc284d-75c2-445c-8abd-7dc7ec97711f",
   "metadata": {},
   "outputs": [],
   "source": [
    "optimized_df = spark.read.format(\"delta\").load(\"tmp/delta\")"
   ]
  },
  {
   "cell_type": "code",
   "execution_count": 20,
   "id": "85619f03-52a1-46e0-89f1-9fc053ec8045",
   "metadata": {},
   "outputs": [
    {
     "name": "stderr",
     "output_type": "stream",
     "text": [
      "[Stage 50:===================================================>     (9 + 1) / 10]\r"
     ]
    },
    {
     "name": "stdout",
     "output_type": "stream",
     "text": [
      "+------------+-------+-----------------+\n",
      "|         id3|sum(v1)|          avg(v3)|\n",
      "+------------+-------+-----------------+\n",
      "|id0000069985|  323.0|62.67388559574467|\n",
      "|id0000061798|  276.0|61.72031902173916|\n",
      "|id0000061604|  270.0|61.42980177777777|\n",
      "|id0000042330|  219.0|61.34167918421052|\n",
      "|id0000040861|  283.0|61.27588561538461|\n",
      "+------------+-------+-----------------+\n",
      "\n",
      "CPU times: user 3.88 ms, sys: 2.6 ms, total: 6.48 ms\n",
      "Wall time: 4.65 s\n"
     ]
    },
    {
     "name": "stderr",
     "output_type": "stream",
     "text": [
      "                                                                                \r"
     ]
    }
   ],
   "source": [
    "%%time\n",
    "\n",
    "optimized_df.groupby(\"id3\").agg(F.sum(\"v1\"), F.mean(\"v3\")).orderBy(F.col(\"avg(v3)\").desc()).limit(5).show()"
   ]
  },
  {
   "cell_type": "code",
   "execution_count": 21,
   "id": "7ccfac78-5b61-4c53-9399-7bcedb4b46e2",
   "metadata": {},
   "outputs": [
    {
     "data": {
      "text/plain": [
       "2"
      ]
     },
     "execution_count": 21,
     "metadata": {},
     "output_type": "execute_result"
    }
   ],
   "source": [
    "1+1"
   ]
  },
  {
   "cell_type": "markdown",
   "id": "cbb88b17-9902-4f7c-a55c-acaac8c0b9c8",
   "metadata": {},
   "source": [
    "## Cleanup"
   ]
  },
  {
   "cell_type": "code",
   "execution_count": 22,
   "id": "bb6243ac-d5cb-4c6d-a443-c263fed9101d",
   "metadata": {},
   "outputs": [],
   "source": [
    "%rm -rf tmp"
   ]
  },
  {
   "cell_type": "code",
   "execution_count": 23,
   "id": "c3945a49-2fb1-457d-bc7d-fa1b92fbb38a",
   "metadata": {},
   "outputs": [],
   "source": [
    "%rm -rf spark-warehouse"
   ]
  },
  {
   "cell_type": "code",
   "execution_count": null,
   "id": "a6b78ea3-965a-4c17-b060-a021193323cb",
   "metadata": {},
   "outputs": [],
   "source": []
  }
 ],
 "metadata": {
  "kernelspec": {
   "display_name": "Python [conda env:pyspark-300-delta-200] *",
   "language": "python",
   "name": "conda-env-pyspark-300-delta-200-py"
  },
  "language_info": {
   "codemirror_mode": {
    "name": "ipython",
    "version": 3
   },
   "file_extension": ".py",
   "mimetype": "text/x-python",
   "name": "python",
   "nbconvert_exporter": "python",
   "pygments_lexer": "ipython3",
   "version": "3.9.13"
  }
 },
 "nbformat": 4,
 "nbformat_minor": 5
}
