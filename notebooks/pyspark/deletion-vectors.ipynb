{
 "cells": [
  {
   "cell_type": "code",
   "execution_count": 2,
   "id": "35d5f629-c5f0-44c5-85b1-04a8c7e8dfcb",
   "metadata": {},
   "outputs": [
    {
     "name": "stdout",
     "output_type": "stream",
     "text": [
      ":: loading settings :: file = ../../ivy/2.4.0rc1.xml\n",
      ":: loading settings :: url = jar:file:/Users/nick.karpov/miniconda3/envs/pyspark-340-delta-240rc1/lib/python3.9/site-packages/pyspark/jars/ivy-2.5.1.jar!/org/apache/ivy/core/settings/ivysettings.xml\n"
     ]
    },
    {
     "name": "stderr",
     "output_type": "stream",
     "text": [
      "Ivy Default Cache set to: /Users/nick.karpov/.ivy2/cache\n",
      "The jars for the packages stored in: /Users/nick.karpov/.ivy2/jars\n",
      "io.delta#delta-core_2.12 added as a dependency\n",
      ":: resolving dependencies :: org.apache.spark#spark-submit-parent-fd79acad-55b2-4e23-846a-f8be49b631bb;1.0\n",
      "\tconfs: [default]\n",
      "\tfound io.delta#delta-core_2.12;2.4.0rc1 in custom\n",
      "\tfound io.delta#delta-storage;2.4.0rc1 in custom\n",
      "\tfound org.antlr#antlr4-runtime;4.9.3 in central\n",
      ":: resolution report :: resolve 86ms :: artifacts dl 3ms\n",
      "\t---------------------------------------------------------------------\n",
      "\t|                  |            modules            ||   artifacts   |\n",
      "\t|       conf       | number| search|dwnlded|evicted|| number|dwnlded|\n",
      "\t---------------------------------------------------------------------\n",
      "\t|      default     |   3   |   0   |   0   |   0   ||   3   |   0   |\n",
      "\t---------------------------------------------------------------------\n",
      ":: retrieving :: org.apache.spark#spark-submit-parent-fd79acad-55b2-4e23-846a-f8be49b631bb\n",
      "\tconfs: [default]\n",
      "\t0 artifacts copied, 3 already retrieved (0kB/3ms)\n",
      "23/05/25 12:10:18 WARN NativeCodeLoader: Unable to load native-hadoop library for your platform... using builtin-java classes where applicable\n",
      "Setting default log level to \"WARN\".\n",
      "To adjust logging level use sc.setLogLevel(newLevel). For SparkR, use setLogLevel(newLevel).\n"
     ]
    }
   ],
   "source": [
    "import pyspark\n",
    "from delta import *\n",
    "from pyspark.sql import functions as F\n",
    "\n",
    "builder = (\n",
    "    pyspark.sql.SparkSession.builder.appName(\"MyApp\")\n",
    "    .master(\"local[*]\")\n",
    "    .config(\"spark.sql.extensions\", \"io.delta.sql.DeltaSparkSessionExtension\")\n",
    "    .config(\"spark.driver.memory\", \"5g\")\n",
    "    .config(\"spark.executor.memory\", \"5g\")\n",
    "    .config(\n",
    "        \"spark.sql.catalog.spark_catalog\",\n",
    "        \"org.apache.spark.sql.delta.catalog.DeltaCatalog\",\n",
    "    )\n",
    "    .config(\n",
    "        \"spark.jars.ivySettings\",\n",
    "        \"../../ivy/2.4.0rc1.xml\"\n",
    "    )\n",
    ")\n",
    "\n",
    "spark = configure_spark_with_delta_pip(builder).getOrCreate()"
   ]
  },
  {
   "cell_type": "markdown",
   "id": "afd924f3-b7a2-4051-b255-1b9b74090d4c",
   "metadata": {},
   "source": [
    "### MiniBench: DV vs. CoW as % of files touched increases"
   ]
  },
  {
   "cell_type": "markdown",
   "id": "8f121df9-f791-4f0a-972f-dbfabb6af922",
   "metadata": {},
   "source": [
    "This example will show Delete w/ Deletion Vectors vs. traditional CoW as the number of files to rewrite increases progressively to a full table rewrite"
   ]
  },
  {
   "cell_type": "code",
   "execution_count": 3,
   "id": "75281325-217e-4570-add2-c30cb778fd83",
   "metadata": {},
   "outputs": [],
   "source": [
    "from pyspark.sql.functions import expr, max, col\n",
    "from dataclasses import dataclass\n",
    "import time"
   ]
  },
  {
   "cell_type": "code",
   "execution_count": 4,
   "id": "9af584d1-cc52-4312-81b3-5db92ce9c55c",
   "metadata": {
    "scrolled": true
   },
   "outputs": [
    {
     "name": "stderr",
     "output_type": "stream",
     "text": [
      "23/05/25 12:11:14 WARN package: Truncated the string representation of a plan since it was too large. This behavior can be adjusted by setting 'spark.sql.debug.maxToStringFields'.\n",
      "                                                                                \r"
     ]
    }
   ],
   "source": [
    "table_path = \"/tmp/tables/dvbench\"\n",
    "\n",
    "# write a 100m rows, evenly distributed into 100 files\n",
    "# add a UUID column to beef up scan time\n",
    "(spark.range(0,100000000, 1, 100)\n",
    "     .withColumn(\"data\", expr(\"uuid()\"))\n",
    "     .write\n",
    "     .format(\"delta\")\n",
    "     .save(table_path))"
   ]
  },
  {
   "cell_type": "code",
   "execution_count": 5,
   "id": "59d4da22-b624-48b7-9d4d-38d0bc7e0b47",
   "metadata": {},
   "outputs": [
    {
     "data": {
      "text/plain": [
       "DataFrame[]"
      ]
     },
     "execution_count": 5,
     "metadata": {},
     "output_type": "execute_result"
    }
   ],
   "source": [
    "# enable Deletion Vectors table feature\n",
    "spark.sql(\"ALTER TABLE delta.`%s` SET TBLPROPERTIES ('delta.enableDeletionVectors' = true)\" % table_path)"
   ]
  },
  {
   "cell_type": "code",
   "execution_count": 6,
   "id": "d3bfe484-f36f-4f64-9b8d-45acda6bdfb8",
   "metadata": {},
   "outputs": [],
   "source": [
    "@dataclass\n",
    "class TestResult:\n",
    "    files_touched: int\n",
    "    run: str\n",
    "    elapsed: float\n",
    "\n",
    "def get_max_id_for_files(dt, numFiles):\n",
    "    return list(map(lambda x: x.id, dt.toDF().groupBy(expr(\"input_file_name()\").alias(\"file\"))\n",
    "        .agg(max(\"id\").alias(\"id\"))\n",
    "        .limit(numFiles).select(\"id\")\n",
    "        .collect()))"
   ]
  },
  {
   "cell_type": "code",
   "execution_count": 7,
   "id": "2c492471-5d50-4b12-a70f-c3e4d0852bca",
   "metadata": {},
   "outputs": [],
   "source": [
    "dt = DeltaTable.forPath(spark, table_path)\n",
    "files_to_touch = [1, 15, 30, 45, 60, 75, 90, 100]\n",
    "num_runs_per_scenario = 3\n",
    "results = []"
   ]
  },
  {
   "cell_type": "code",
   "execution_count": 11,
   "id": "1f3a091e-3ed8-4740-a0f3-c3ef5b39ef15",
   "metadata": {},
   "outputs": [
    {
     "name": "stdout",
     "output_type": "stream",
     "text": [
      "Touching 1 files, run 0\n"
     ]
    },
    {
     "name": "stderr",
     "output_type": "stream",
     "text": [
      "                                                                                \r"
     ]
    },
    {
     "name": "stdout",
     "output_type": "stream",
     "text": [
      "Took: 2036234000\n",
      "Touching 1 files, run 1\n"
     ]
    },
    {
     "name": "stderr",
     "output_type": "stream",
     "text": [
      "                                                                                \r"
     ]
    },
    {
     "name": "stdout",
     "output_type": "stream",
     "text": [
      "Took: 1356911000\n",
      "Touching 1 files, run 2\n"
     ]
    },
    {
     "name": "stderr",
     "output_type": "stream",
     "text": [
      "                                                                                \r"
     ]
    },
    {
     "name": "stdout",
     "output_type": "stream",
     "text": [
      "Took: 1148696000\n",
      "Touching 15 files, run 0\n"
     ]
    },
    {
     "name": "stderr",
     "output_type": "stream",
     "text": [
      "                                                                                \r"
     ]
    },
    {
     "name": "stdout",
     "output_type": "stream",
     "text": [
      "Took: 3149326000\n",
      "Touching 15 files, run 1\n"
     ]
    },
    {
     "name": "stderr",
     "output_type": "stream",
     "text": [
      "                                                                                \r"
     ]
    },
    {
     "name": "stdout",
     "output_type": "stream",
     "text": [
      "Took: 3003812000\n",
      "Touching 15 files, run 2\n"
     ]
    },
    {
     "name": "stderr",
     "output_type": "stream",
     "text": [
      "                                                                                \r"
     ]
    },
    {
     "name": "stdout",
     "output_type": "stream",
     "text": [
      "Took: 2902168000\n",
      "Touching 30 files, run 0\n"
     ]
    },
    {
     "name": "stderr",
     "output_type": "stream",
     "text": [
      "                                                                                \r"
     ]
    },
    {
     "name": "stdout",
     "output_type": "stream",
     "text": [
      "Took: 2929830000\n",
      "Touching 30 files, run 1\n"
     ]
    },
    {
     "name": "stderr",
     "output_type": "stream",
     "text": [
      "                                                                                \r"
     ]
    },
    {
     "name": "stdout",
     "output_type": "stream",
     "text": [
      "Took: 2875466000\n",
      "Touching 30 files, run 2\n"
     ]
    },
    {
     "name": "stderr",
     "output_type": "stream",
     "text": [
      "                                                                                \r"
     ]
    },
    {
     "name": "stdout",
     "output_type": "stream",
     "text": [
      "Took: 2769846000\n",
      "Touching 45 files, run 0\n"
     ]
    },
    {
     "name": "stderr",
     "output_type": "stream",
     "text": [
      "                                                                                \r"
     ]
    },
    {
     "name": "stdout",
     "output_type": "stream",
     "text": [
      "Took: 3342670000\n",
      "Touching 45 files, run 1\n"
     ]
    },
    {
     "name": "stderr",
     "output_type": "stream",
     "text": [
      "                                                                                \r"
     ]
    },
    {
     "name": "stdout",
     "output_type": "stream",
     "text": [
      "Took: 3103026000\n",
      "Touching 45 files, run 2\n"
     ]
    },
    {
     "name": "stderr",
     "output_type": "stream",
     "text": [
      "                                                                                \r"
     ]
    },
    {
     "name": "stdout",
     "output_type": "stream",
     "text": [
      "Took: 2942694000\n",
      "Touching 60 files, run 0\n"
     ]
    },
    {
     "name": "stderr",
     "output_type": "stream",
     "text": [
      "                                                                                \r"
     ]
    },
    {
     "name": "stdout",
     "output_type": "stream",
     "text": [
      "Took: 2895487000\n",
      "Touching 60 files, run 1\n"
     ]
    },
    {
     "name": "stderr",
     "output_type": "stream",
     "text": [
      "                                                                                \r"
     ]
    },
    {
     "name": "stdout",
     "output_type": "stream",
     "text": [
      "Took: 2834765000\n",
      "Touching 60 files, run 2\n"
     ]
    },
    {
     "name": "stderr",
     "output_type": "stream",
     "text": [
      "                                                                                \r"
     ]
    },
    {
     "name": "stdout",
     "output_type": "stream",
     "text": [
      "Took: 3189980000\n",
      "Touching 75 files, run 0\n"
     ]
    },
    {
     "name": "stderr",
     "output_type": "stream",
     "text": [
      "                                                                                \r"
     ]
    },
    {
     "name": "stdout",
     "output_type": "stream",
     "text": [
      "Took: 2919213000\n",
      "Touching 75 files, run 1\n"
     ]
    },
    {
     "name": "stderr",
     "output_type": "stream",
     "text": [
      "                                                                                \r"
     ]
    },
    {
     "name": "stdout",
     "output_type": "stream",
     "text": [
      "Took: 3109613000\n",
      "Touching 75 files, run 2\n"
     ]
    },
    {
     "name": "stderr",
     "output_type": "stream",
     "text": [
      "                                                                                \r"
     ]
    },
    {
     "name": "stdout",
     "output_type": "stream",
     "text": [
      "Took: 2721463000\n",
      "Touching 90 files, run 0\n"
     ]
    },
    {
     "name": "stderr",
     "output_type": "stream",
     "text": [
      "                                                                                \r"
     ]
    },
    {
     "name": "stdout",
     "output_type": "stream",
     "text": [
      "Took: 2698260000\n",
      "Touching 90 files, run 1\n"
     ]
    },
    {
     "name": "stderr",
     "output_type": "stream",
     "text": [
      "                                                                                \r"
     ]
    },
    {
     "name": "stdout",
     "output_type": "stream",
     "text": [
      "Took: 3023621000\n",
      "Touching 90 files, run 2\n"
     ]
    },
    {
     "name": "stderr",
     "output_type": "stream",
     "text": [
      "                                                                                \r"
     ]
    },
    {
     "name": "stdout",
     "output_type": "stream",
     "text": [
      "Took: 2772167000\n",
      "Touching 100 files, run 0\n"
     ]
    },
    {
     "name": "stderr",
     "output_type": "stream",
     "text": [
      "                                                                                \r"
     ]
    },
    {
     "name": "stdout",
     "output_type": "stream",
     "text": [
      "Took: 2639544000\n",
      "Touching 100 files, run 1\n"
     ]
    },
    {
     "name": "stderr",
     "output_type": "stream",
     "text": [
      "                                                                                \r"
     ]
    },
    {
     "name": "stdout",
     "output_type": "stream",
     "text": [
      "Took: 2464915000\n",
      "Touching 100 files, run 2\n"
     ]
    },
    {
     "name": "stderr",
     "output_type": "stream",
     "text": [
      "                                                                                \r"
     ]
    },
    {
     "name": "stdout",
     "output_type": "stream",
     "text": [
      "Took: 2635821000\n"
     ]
    }
   ],
   "source": [
    "for num_files in files_to_touch:\n",
    "    for run in range(0, num_runs_per_scenario):\n",
    "        print(\"Touching {} files, run {}\".format(num_files, run))\n",
    "        ids = get_max_id_for_files(dt, num_files) # get id's to delete\n",
    "        \n",
    "        start_time = time.time_ns()\n",
    "        dt.delete(\n",
    "            col(\"id\").isin(ids)\n",
    "        )\n",
    "        end_time = time.time_ns()\n",
    "        \n",
    "        elapsed = end_time - start_time\n",
    "        print(\"Took: {}\".format(elapsed))\n",
    "        results.append(TestResult(files_touched=num_files, run=run, elapsed=elapsed))\n",
    "\n",
    "        dt.restoreToVersion(1)"
   ]
  },
  {
   "cell_type": "code",
   "execution_count": 12,
   "id": "5f9c5705-d1ee-48a3-a2ae-6d5abdd5a2dc",
   "metadata": {},
   "outputs": [
    {
     "data": {
      "text/plain": [
       "[TestResult(files_touched=1, run=0, elapsed=2036234000),\n",
       " TestResult(files_touched=1, run=1, elapsed=1356911000),\n",
       " TestResult(files_touched=1, run=2, elapsed=1148696000),\n",
       " TestResult(files_touched=15, run=0, elapsed=3149326000),\n",
       " TestResult(files_touched=15, run=1, elapsed=3003812000),\n",
       " TestResult(files_touched=15, run=2, elapsed=2902168000),\n",
       " TestResult(files_touched=30, run=0, elapsed=2929830000),\n",
       " TestResult(files_touched=30, run=1, elapsed=2875466000),\n",
       " TestResult(files_touched=30, run=2, elapsed=2769846000),\n",
       " TestResult(files_touched=45, run=0, elapsed=3342670000),\n",
       " TestResult(files_touched=45, run=1, elapsed=3103026000),\n",
       " TestResult(files_touched=45, run=2, elapsed=2942694000),\n",
       " TestResult(files_touched=60, run=0, elapsed=2895487000),\n",
       " TestResult(files_touched=60, run=1, elapsed=2834765000),\n",
       " TestResult(files_touched=60, run=2, elapsed=3189980000),\n",
       " TestResult(files_touched=75, run=0, elapsed=2919213000),\n",
       " TestResult(files_touched=75, run=1, elapsed=3109613000),\n",
       " TestResult(files_touched=75, run=2, elapsed=2721463000),\n",
       " TestResult(files_touched=90, run=0, elapsed=2698260000),\n",
       " TestResult(files_touched=90, run=1, elapsed=3023621000),\n",
       " TestResult(files_touched=90, run=2, elapsed=2772167000),\n",
       " TestResult(files_touched=100, run=0, elapsed=2639544000),\n",
       " TestResult(files_touched=100, run=1, elapsed=2464915000),\n",
       " TestResult(files_touched=100, run=2, elapsed=2635821000)]"
      ]
     },
     "execution_count": 12,
     "metadata": {},
     "output_type": "execute_result"
    }
   ],
   "source": [
    "results"
   ]
  },
  {
   "cell_type": "code",
   "execution_count": 13,
   "id": "6e87d35b-7e5f-4f72-a73a-a3aa56adb013",
   "metadata": {},
   "outputs": [
    {
     "name": "stderr",
     "output_type": "stream",
     "text": [
      "                                                                                \r"
     ]
    }
   ],
   "source": [
    "table_path = \"/tmp/tables/dvbench_nodv\"\n",
    "\n",
    "# write a 100m rows, evenly distributed into 100 files\n",
    "# add a UUID column to beef up scan time\n",
    "(spark.range(0,100000000, 1, 100)\n",
    "     .withColumn(\"data\", expr(\"uuid()\"))\n",
    "     .write\n",
    "     .format(\"delta\")\n",
    "     .save(table_path))"
   ]
  },
  {
   "cell_type": "code",
   "execution_count": 14,
   "id": "5c842bc6-af2d-44e2-b4ff-38873e7f5945",
   "metadata": {},
   "outputs": [],
   "source": [
    "dt = DeltaTable.forPath(spark, table_path)\n",
    "files_to_touch = [1, 15, 30, 45, 60, 75, 90, 100]\n",
    "num_runs_per_scenario = 3\n",
    "results_nondv = []"
   ]
  },
  {
   "cell_type": "code",
   "execution_count": 15,
   "id": "9bd999d9-3936-4324-8081-d5dedbd278c0",
   "metadata": {},
   "outputs": [
    {
     "name": "stdout",
     "output_type": "stream",
     "text": [
      "Touching 1 files, run 0\n"
     ]
    },
    {
     "name": "stderr",
     "output_type": "stream",
     "text": [
      "                                                                                \r"
     ]
    },
    {
     "name": "stdout",
     "output_type": "stream",
     "text": [
      "Took: 1535278000\n",
      "Touching 1 files, run 1\n"
     ]
    },
    {
     "name": "stderr",
     "output_type": "stream",
     "text": [
      "                                                                                \r"
     ]
    },
    {
     "name": "stdout",
     "output_type": "stream",
     "text": [
      "Took: 1326972000\n",
      "Touching 1 files, run 2\n"
     ]
    },
    {
     "name": "stderr",
     "output_type": "stream",
     "text": [
      "                                                                                \r"
     ]
    },
    {
     "name": "stdout",
     "output_type": "stream",
     "text": [
      "Took: 1234699000\n",
      "Touching 15 files, run 0\n"
     ]
    },
    {
     "name": "stderr",
     "output_type": "stream",
     "text": [
      "                                                                                \r"
     ]
    },
    {
     "name": "stdout",
     "output_type": "stream",
     "text": [
      "Took: 3408348000\n",
      "Touching 15 files, run 1\n"
     ]
    },
    {
     "name": "stderr",
     "output_type": "stream",
     "text": [
      "                                                                                \r"
     ]
    },
    {
     "name": "stdout",
     "output_type": "stream",
     "text": [
      "Took: 3096041000\n",
      "Touching 15 files, run 2\n"
     ]
    },
    {
     "name": "stderr",
     "output_type": "stream",
     "text": [
      "                                                                                \r"
     ]
    },
    {
     "name": "stdout",
     "output_type": "stream",
     "text": [
      "Took: 3148148000\n",
      "Touching 30 files, run 0\n"
     ]
    },
    {
     "name": "stderr",
     "output_type": "stream",
     "text": [
      "                                                                                \r"
     ]
    },
    {
     "name": "stdout",
     "output_type": "stream",
     "text": [
      "Took: 4350453000\n",
      "Touching 30 files, run 1\n"
     ]
    },
    {
     "name": "stderr",
     "output_type": "stream",
     "text": [
      "                                                                                \r"
     ]
    },
    {
     "name": "stdout",
     "output_type": "stream",
     "text": [
      "Took: 4148554000\n",
      "Touching 30 files, run 2\n"
     ]
    },
    {
     "name": "stderr",
     "output_type": "stream",
     "text": [
      "                                                                                \r"
     ]
    },
    {
     "name": "stdout",
     "output_type": "stream",
     "text": [
      "Took: 4023096000\n",
      "Touching 45 files, run 0\n"
     ]
    },
    {
     "name": "stderr",
     "output_type": "stream",
     "text": [
      "                                                                                \r"
     ]
    },
    {
     "name": "stdout",
     "output_type": "stream",
     "text": [
      "Took: 5583987000\n",
      "Touching 45 files, run 1\n"
     ]
    },
    {
     "name": "stderr",
     "output_type": "stream",
     "text": [
      "                                                                                \r"
     ]
    },
    {
     "name": "stdout",
     "output_type": "stream",
     "text": [
      "Took: 5452527000\n",
      "Touching 45 files, run 2\n"
     ]
    },
    {
     "name": "stderr",
     "output_type": "stream",
     "text": [
      "                                                                                \r"
     ]
    },
    {
     "name": "stdout",
     "output_type": "stream",
     "text": [
      "Took: 5582010000\n",
      "Touching 60 files, run 0\n"
     ]
    },
    {
     "name": "stderr",
     "output_type": "stream",
     "text": [
      "                                                                                \r"
     ]
    },
    {
     "name": "stdout",
     "output_type": "stream",
     "text": [
      "Took: 6323857000\n",
      "Touching 60 files, run 1\n"
     ]
    },
    {
     "name": "stderr",
     "output_type": "stream",
     "text": [
      "                                                                                \r"
     ]
    },
    {
     "name": "stdout",
     "output_type": "stream",
     "text": [
      "Took: 6245850000\n",
      "Touching 60 files, run 2\n"
     ]
    },
    {
     "name": "stderr",
     "output_type": "stream",
     "text": [
      "                                                                                \r"
     ]
    },
    {
     "name": "stdout",
     "output_type": "stream",
     "text": [
      "Took: 6342403000\n",
      "Touching 75 files, run 0\n"
     ]
    },
    {
     "name": "stderr",
     "output_type": "stream",
     "text": [
      "                                                                                \r"
     ]
    },
    {
     "name": "stdout",
     "output_type": "stream",
     "text": [
      "Took: 7728462000\n",
      "Touching 75 files, run 1\n"
     ]
    },
    {
     "name": "stderr",
     "output_type": "stream",
     "text": [
      "                                                                                \r"
     ]
    },
    {
     "name": "stdout",
     "output_type": "stream",
     "text": [
      "Took: 7787085000\n",
      "Touching 75 files, run 2\n"
     ]
    },
    {
     "name": "stderr",
     "output_type": "stream",
     "text": [
      "                                                                                \r"
     ]
    },
    {
     "name": "stdout",
     "output_type": "stream",
     "text": [
      "Took: 7628192000\n",
      "Touching 90 files, run 0\n"
     ]
    },
    {
     "name": "stderr",
     "output_type": "stream",
     "text": [
      "                                                                                \r"
     ]
    },
    {
     "name": "stdout",
     "output_type": "stream",
     "text": [
      "Took: 8422210000\n",
      "Touching 90 files, run 1\n"
     ]
    },
    {
     "name": "stderr",
     "output_type": "stream",
     "text": [
      "                                                                                \r"
     ]
    },
    {
     "name": "stdout",
     "output_type": "stream",
     "text": [
      "Took: 8540764000\n",
      "Touching 90 files, run 2\n"
     ]
    },
    {
     "name": "stderr",
     "output_type": "stream",
     "text": [
      "                                                                                \r"
     ]
    },
    {
     "name": "stdout",
     "output_type": "stream",
     "text": [
      "Took: 8222059000\n",
      "Touching 100 files, run 0\n"
     ]
    },
    {
     "name": "stderr",
     "output_type": "stream",
     "text": [
      "                                                                                \r"
     ]
    },
    {
     "name": "stdout",
     "output_type": "stream",
     "text": [
      "Took: 9277964000\n",
      "Touching 100 files, run 1\n"
     ]
    },
    {
     "name": "stderr",
     "output_type": "stream",
     "text": [
      "                                                                                \r"
     ]
    },
    {
     "name": "stdout",
     "output_type": "stream",
     "text": [
      "Took: 9342659000\n",
      "Touching 100 files, run 2\n"
     ]
    },
    {
     "name": "stderr",
     "output_type": "stream",
     "text": [
      "                                                                                \r"
     ]
    },
    {
     "name": "stdout",
     "output_type": "stream",
     "text": [
      "Took: 9454552000\n"
     ]
    }
   ],
   "source": [
    "for num_files in files_to_touch:\n",
    "    for run in range(0, num_runs_per_scenario):\n",
    "        print(\"Touching {} files, run {}\".format(num_files, run))\n",
    "        ids = get_max_id_for_files(dt, num_files) # get id's to delete\n",
    "        \n",
    "        start_time = time.time_ns()\n",
    "        dt.delete(\n",
    "            col(\"id\").isin(ids)\n",
    "        )\n",
    "        end_time = time.time_ns()\n",
    "        \n",
    "        elapsed = end_time - start_time\n",
    "        print(\"Took: {}\".format(elapsed))\n",
    "        results_nondv.append(TestResult(files_touched=num_files, run=run, elapsed=elapsed))\n",
    "\n",
    "        dt.restoreToVersion(0)"
   ]
  },
  {
   "cell_type": "code",
   "execution_count": 53,
   "id": "4818dd17-eb1e-4b32-ae32-4fd7f43ad867",
   "metadata": {},
   "outputs": [],
   "source": [
    "import pandas as pd\n",
    "\n",
    "# Convert to DataFrame\n",
    "df_dv = pd.DataFrame([vars(result) for result in results])\n",
    "df_nondv = pd.DataFrame([vars(result) for result in results_nondv])\n",
    "\n",
    "grouped = df_dv.groupby(['files_touched'])['elapsed'].mean()\n",
    "values_dv = grouped / 1e9\n",
    "\n",
    "grouped = df_nondv.groupby(['files_touched'])['elapsed'].mean()\n",
    "values_nondv = grouped / 1e9"
   ]
  },
  {
   "cell_type": "code",
   "execution_count": 60,
   "id": "be47ab83-04a9-4d49-962f-5bf45f7ff15f",
   "metadata": {},
   "outputs": [
    {
     "data": {
      "image/png": "[encoded data removed]",
      "text/plain": [
       "<Figure size 640x480 with 1 Axes>"
      ]
     },
     "metadata": {},
     "output_type": "display_data"
    }
   ],
   "source": [
    "import numpy as np\n",
    "import matplotlib.pyplot as plt\n",
    "from scipy.interpolate import make_interp_spline\n",
    "\n",
    "import pandas as pd\n",
    "\n",
    "# use pandas to munge the results\n",
    "df_dv = pd.DataFrame([vars(result) for result in results])\n",
    "df_nondv = pd.DataFrame([vars(result) for result in results_nondv])\n",
    "\n",
    "# get the average of the runs\n",
    "grouped = df_dv.groupby(['files_touched'])['elapsed'].mean()\n",
    "values_dv = grouped / 1e9\n",
    "\n",
    "grouped = df_nondv.groupby(['files_touched'])['elapsed'].mean()\n",
    "values_nondv = grouped / 1e9\n",
    "\n",
    "# set up the data for matplotlib\n",
    "number_of_files = np.array(files_to_touch)\n",
    "elapsed_time_deletion_vectors = np.array(values_dv)\n",
    "elapsed_time_no_deletion_vectors = np.array(values_nondv)\n",
    "\n",
    "# smooth the data\n",
    "xnew = np.linspace(number_of_files.min(), number_of_files.max(), 15)\n",
    "spline_deletion_vectors = make_interp_spline(number_of_files, elapsed_time_deletion_vectors, k=3)(xnew)\n",
    "spline_no_deletion_vectors = make_interp_spline(number_of_files, elapsed_time_no_deletion_vectors, k=3)(xnew)\n",
    "\n",
    "# plot the data\n",
    "plt.plot(xnew, spline_deletion_vectors, label=\"Deletion Vectors (MoR)\")\n",
    "plt.plot(xnew, spline_no_deletion_vectors, label=\"Copy-on-Write (CoW)\")\n",
    "\n",
    "# make it prettier and labels\n",
    "plt.xlabel(\"% of files touched\")\n",
    "plt.ylabel(\"Elapsed time (s)\")\n",
    "plt.suptitle(\"Time taken to DELETE\", fontsize=16, y=1.0)\n",
    "plt.title(\"Deletion Vectors vs. Copy and Write\\n(lower is better)\", fontsize=10)\n",
    "plt.legend()\n",
    "\n",
    "# Show the chart\n",
    "plt.show()"
   ]
  },
  {
   "cell_type": "markdown",
   "id": "dbac73d1-5514-4946-92c6-73b3490b2c50",
   "metadata": {},
   "source": [
    "### MiniBench: Total time DV vs. CoW as % of file deleted"
   ]
  },
  {
   "cell_type": "code",
   "execution_count": 174,
   "id": "7ceac130-0d41-4bd2-8111-19dccde7acc6",
   "metadata": {},
   "outputs": [],
   "source": [
    "table_path = \"/tmp/tables/total\"\n",
    "\n",
    "# write 10m rows to 1 file\n",
    "# add a UUID column to beef up scan time\n",
    "(spark.range(0,1000000, 1, 1)\n",
    "     .withColumn(\"data\", expr(\"uuid()\"))\n",
    "     .write\n",
    "     .format(\"delta\")\n",
    "     .save(table_path))"
   ]
  },
  {
   "cell_type": "code",
   "execution_count": 175,
   "id": "78774959-3192-48e4-9d79-f2f05817c731",
   "metadata": {},
   "outputs": [
    {
     "data": {
      "text/plain": [
       "DataFrame[]"
      ]
     },
     "execution_count": 175,
     "metadata": {},
     "output_type": "execute_result"
    }
   ],
   "source": [
    "# enable Deletion Vectors table feature\n",
    "spark.sql(\"ALTER TABLE delta.`%s` SET TBLPROPERTIES ('delta.enableDeletionVectors' = true)\" % table_path)"
   ]
  },
  {
   "cell_type": "code",
   "execution_count": 176,
   "id": "6ab187cd-d5f6-4ff6-b809-e72158fbcbb0",
   "metadata": {},
   "outputs": [],
   "source": [
    "@dataclass\n",
    "class TestResult:\n",
    "    percent_file_deleted: int\n",
    "    run: str\n",
    "    time_to_delete: float\n",
    "    time_to_read: float"
   ]
  },
  {
   "cell_type": "code",
   "execution_count": 177,
   "id": "ca538920-d7c9-4194-9686-dcafc37822c3",
   "metadata": {},
   "outputs": [],
   "source": [
    "iterations = list(range(1, 30, 2))\n",
    "dt = DeltaTable.forPath(spark, table_path)\n",
    "num_runs_per_scenario = 3\n",
    "results = []"
   ]
  },
  {
   "cell_type": "code",
   "execution_count": 178,
   "id": "edcdd4fa-e863-41a4-a55f-b227116b8362",
   "metadata": {},
   "outputs": [
    {
     "name": "stdout",
     "output_type": "stream",
     "text": [
      "+-------+--------------------+------+--------+-----------------+--------------------+----+--------+---------+-----------+--------------+-------------+--------------------+------------+--------------------+\n",
      "|version|           timestamp|userId|userName|        operation| operationParameters| job|notebook|clusterId|readVersion|isolationLevel|isBlindAppend|    operationMetrics|userMetadata|          engineInfo|\n",
      "+-------+--------------------+------+--------+-----------------+--------------------+----+--------+---------+-----------+--------------+-------------+--------------------+------------+--------------------+\n",
      "|      1|2023-05-25 14:38:...|  null|    null|SET TBLPROPERTIES|{properties -> {\"...|null|    null|     null|          0|  Serializable|         true|                  {}|        null|Apache-Spark/3.4....|\n",
      "|      0|2023-05-25 14:38:...|  null|    null|            WRITE|{mode -> ErrorIfE...|null|    null|     null|       null|  Serializable|         true|{numFiles -> 1, n...|        null|Apache-Spark/3.4....|\n",
      "+-------+--------------------+------+--------+-----------------+--------------------+----+--------+---------+-----------+--------------+-------------+--------------------+------------+--------------------+\n",
      "\n"
     ]
    }
   ],
   "source": [
    "dt.history().show()"
   ]
  },
  {
   "cell_type": "code",
   "execution_count": 179,
   "id": "07a306ed-fe06-4f46-90a5-5013ad8f9f2b",
   "metadata": {},
   "outputs": [
    {
     "name": "stdout",
     "output_type": "stream",
     "text": [
      "Delete 1% of file\n",
      "Took 1029464000 to delete\n",
      "Read file when 1% deleted\n",
      "Took 229375000 to read\n",
      "Delete 1% of file\n",
      "Took 1507421000 to delete\n",
      "Read file when 1% deleted\n",
      "Took 214438000 to read\n",
      "Delete 1% of file\n",
      "Took 1332893000 to delete\n",
      "Read file when 1% deleted\n",
      "Took 249012000 to read\n",
      "Delete 3% of file\n",
      "Took 1498064000 to delete\n",
      "Read file when 3% deleted\n",
      "Took 197498000 to read\n",
      "Delete 3% of file\n",
      "Took 1735530000 to delete\n",
      "Read file when 3% deleted\n",
      "Took 507189000 to read\n",
      "Delete 3% of file\n",
      "Took 1331641000 to delete\n",
      "Read file when 3% deleted\n",
      "Took 236737000 to read\n",
      "Delete 5% of file\n",
      "Took 1659024000 to delete\n",
      "Read file when 5% deleted\n",
      "Took 215311000 to read\n",
      "Delete 5% of file\n",
      "Took 1669184000 to delete\n",
      "Read file when 5% deleted\n",
      "Took 219057000 to read\n",
      "Delete 5% of file\n",
      "Took 1896491000 to delete\n",
      "Read file when 5% deleted\n",
      "Took 240900000 to read\n",
      "Delete 7% of file\n",
      "Took 2346096000 to delete\n",
      "Read file when 7% deleted\n",
      "Took 719660000 to read\n",
      "Delete 7% of file\n",
      "Took 1815074000 to delete\n",
      "Read file when 7% deleted\n",
      "Took 252384000 to read\n",
      "Delete 7% of file\n",
      "Took 1655777000 to delete\n",
      "Read file when 7% deleted\n",
      "Took 291290000 to read\n",
      "Delete 9% of file\n",
      "Took 1938474000 to delete\n",
      "Read file when 9% deleted\n",
      "Took 197746000 to read\n",
      "Delete 9% of file\n",
      "Took 1860945000 to delete\n",
      "Read file when 9% deleted\n",
      "Took 246154000 to read\n",
      "Delete 9% of file\n",
      "Took 2094352000 to delete\n",
      "Read file when 9% deleted\n",
      "Took 743481000 to read\n",
      "Delete 11% of file\n",
      "Took 2324246000 to delete\n",
      "Read file when 11% deleted\n",
      "Took 306981000 to read\n",
      "Delete 11% of file\n",
      "Took 2240607000 to delete\n",
      "Read file when 11% deleted\n",
      "Took 315221000 to read\n",
      "Delete 11% of file\n",
      "Took 2083442000 to delete\n",
      "Read file when 11% deleted\n",
      "Took 262604000 to read\n",
      "Delete 13% of file\n",
      "Took 2321180000 to delete\n",
      "Read file when 13% deleted\n",
      "Took 299390000 to read\n",
      "Delete 13% of file\n",
      "Took 2549711000 to delete\n",
      "Read file when 13% deleted\n",
      "Took 616247000 to read\n",
      "Delete 13% of file\n",
      "Took 2179404000 to delete\n",
      "Read file when 13% deleted\n",
      "Took 265281000 to read\n",
      "Delete 15% of file\n",
      "Took 2536978000 to delete\n",
      "Read file when 15% deleted\n",
      "Took 278322000 to read\n",
      "Delete 15% of file\n",
      "Took 2314880000 to delete\n",
      "Read file when 15% deleted\n",
      "Took 253511000 to read\n",
      "Delete 15% of file\n",
      "Took 2276644000 to delete\n",
      "Read file when 15% deleted\n",
      "Took 263368000 to read\n",
      "Delete 17% of file\n"
     ]
    },
    {
     "name": "stderr",
     "output_type": "stream",
     "text": [
      "                                                                                \r"
     ]
    },
    {
     "name": "stdout",
     "output_type": "stream",
     "text": [
      "Took 2825635000 to delete\n",
      "Read file when 17% deleted\n",
      "Took 519900000 to read\n",
      "Delete 17% of file\n",
      "Took 2323158000 to delete\n",
      "Read file when 17% deleted\n",
      "Took 222302000 to read\n",
      "Delete 17% of file\n"
     ]
    },
    {
     "name": "stderr",
     "output_type": "stream",
     "text": [
      "                                                                                \r"
     ]
    },
    {
     "name": "stdout",
     "output_type": "stream",
     "text": [
      "Took 2208350000 to delete\n",
      "Read file when 17% deleted\n",
      "Took 367840000 to read\n",
      "Delete 19% of file\n",
      "Took 2902003000 to delete\n",
      "Read file when 19% deleted\n",
      "Took 315441000 to read\n",
      "Delete 19% of file\n"
     ]
    },
    {
     "name": "stderr",
     "output_type": "stream",
     "text": [
      "                                                                                \r"
     ]
    },
    {
     "name": "stdout",
     "output_type": "stream",
     "text": [
      "Took 2898809000 to delete\n",
      "Read file when 19% deleted\n",
      "Took 256664000 to read\n",
      "Delete 19% of file\n"
     ]
    },
    {
     "name": "stderr",
     "output_type": "stream",
     "text": [
      "                                                                                \r"
     ]
    },
    {
     "name": "stdout",
     "output_type": "stream",
     "text": [
      "Took 3257174000 to delete\n",
      "Read file when 19% deleted\n",
      "Took 695803000 to read\n",
      "Delete 21% of file\n"
     ]
    },
    {
     "name": "stderr",
     "output_type": "stream",
     "text": [
      "                                                                                \r"
     ]
    },
    {
     "name": "stdout",
     "output_type": "stream",
     "text": [
      "Took 2993738000 to delete\n",
      "Read file when 21% deleted\n",
      "Took 336133000 to read\n",
      "Delete 21% of file\n"
     ]
    },
    {
     "name": "stderr",
     "output_type": "stream",
     "text": [
      "                                                                                \r"
     ]
    },
    {
     "name": "stdout",
     "output_type": "stream",
     "text": [
      "Took 2653563000 to delete\n",
      "Read file when 21% deleted\n",
      "Took 295310000 to read\n",
      "Delete 21% of file\n"
     ]
    },
    {
     "name": "stderr",
     "output_type": "stream",
     "text": [
      "                                                                                \r"
     ]
    },
    {
     "name": "stdout",
     "output_type": "stream",
     "text": [
      "Took 2929393000 to delete\n",
      "Read file when 21% deleted\n",
      "Took 306895000 to read\n",
      "Delete 23% of file\n"
     ]
    },
    {
     "name": "stderr",
     "output_type": "stream",
     "text": [
      "                                                                                \r"
     ]
    },
    {
     "name": "stdout",
     "output_type": "stream",
     "text": [
      "Took 3068266000 to delete\n",
      "Read file when 23% deleted\n",
      "Took 305816000 to read\n",
      "Delete 23% of file\n"
     ]
    },
    {
     "name": "stderr",
     "output_type": "stream",
     "text": [
      "                                                                                \r"
     ]
    },
    {
     "name": "stdout",
     "output_type": "stream",
     "text": [
      "Took 3270426000 to delete\n",
      "Read file when 23% deleted\n",
      "Took 686931000 to read\n",
      "Delete 23% of file\n"
     ]
    },
    {
     "name": "stderr",
     "output_type": "stream",
     "text": [
      "                                                                                \r"
     ]
    },
    {
     "name": "stdout",
     "output_type": "stream",
     "text": [
      "Took 2816156000 to delete\n",
      "Read file when 23% deleted\n",
      "Took 323382000 to read\n",
      "Delete 25% of file\n"
     ]
    },
    {
     "name": "stderr",
     "output_type": "stream",
     "text": [
      "                                                                                \r"
     ]
    },
    {
     "name": "stdout",
     "output_type": "stream",
     "text": [
      "Took 3075987000 to delete\n",
      "Read file when 25% deleted\n",
      "Took 215513000 to read\n",
      "Delete 25% of file\n"
     ]
    },
    {
     "name": "stderr",
     "output_type": "stream",
     "text": [
      "                                                                                \r"
     ]
    },
    {
     "name": "stdout",
     "output_type": "stream",
     "text": [
      "Took 2983177000 to delete\n",
      "Read file when 25% deleted\n",
      "Took 220815000 to read\n",
      "Delete 25% of file\n"
     ]
    },
    {
     "name": "stderr",
     "output_type": "stream",
     "text": [
      "                                                                                \r"
     ]
    },
    {
     "name": "stdout",
     "output_type": "stream",
     "text": [
      "Took 2958840000 to delete\n",
      "Read file when 25% deleted\n",
      "Took 271002000 to read\n",
      "Delete 27% of file\n"
     ]
    },
    {
     "name": "stderr",
     "output_type": "stream",
     "text": [
      "                                                                                \r"
     ]
    },
    {
     "name": "stdout",
     "output_type": "stream",
     "text": [
      "Took 3375432000 to delete\n",
      "Read file when 27% deleted\n",
      "Took 634538000 to read\n",
      "Delete 27% of file\n"
     ]
    },
    {
     "name": "stderr",
     "output_type": "stream",
     "text": [
      "                                                                                \r"
     ]
    },
    {
     "name": "stdout",
     "output_type": "stream",
     "text": [
      "Took 2958197000 to delete\n",
      "Read file when 27% deleted\n",
      "Took 224952000 to read\n",
      "Delete 27% of file\n"
     ]
    },
    {
     "name": "stderr",
     "output_type": "stream",
     "text": [
      "                                                                                \r"
     ]
    },
    {
     "name": "stdout",
     "output_type": "stream",
     "text": [
      "Took 2943569000 to delete\n",
      "Read file when 27% deleted\n",
      "Took 298423000 to read\n",
      "Delete 29% of file\n"
     ]
    },
    {
     "name": "stderr",
     "output_type": "stream",
     "text": [
      "                                                                                \r"
     ]
    },
    {
     "name": "stdout",
     "output_type": "stream",
     "text": [
      "Took 3377972000 to delete\n",
      "Read file when 29% deleted\n",
      "Took 244220000 to read\n",
      "Delete 29% of file\n"
     ]
    },
    {
     "name": "stderr",
     "output_type": "stream",
     "text": [
      "                                                                                \r"
     ]
    },
    {
     "name": "stdout",
     "output_type": "stream",
     "text": [
      "Took 3190873000 to delete\n",
      "Read file when 29% deleted\n",
      "Took 254124000 to read\n",
      "Delete 29% of file\n"
     ]
    },
    {
     "name": "stderr",
     "output_type": "stream",
     "text": [
      "                                                                                \r"
     ]
    },
    {
     "name": "stdout",
     "output_type": "stream",
     "text": [
      "Took 3483354000 to delete\n",
      "Read file when 29% deleted\n",
      "Took 572624000 to read\n"
     ]
    }
   ],
   "source": [
    "for i in iterations:\n",
    "    for run in range(0, num_runs_per_scenario):\n",
    "        print(\"Delete {}% of file\".format(i))\n",
    "        start_time = time.time_ns()\n",
    "        dt.delete(col(\"id\") < ((i*10000) - 1))\n",
    "        time_to_delete = time.time_ns() - start_time\n",
    "        print(\"Took {} to delete\".format(time_to_delete))\n",
    "\n",
    "        print(\"Read file when {}% deleted\".format(i))\n",
    "        start_time = time.time_ns()\n",
    "        dt.toDF().selectExpr(\"sum(id)\").collect()\n",
    "        time_to_read = time.time_ns() - start_time\n",
    "        print(\"Took {} to read\".format(time_to_read))\n",
    "\n",
    "        results.append(TestResult(percent_file_deleted=i, run=run, time_to_delete=time_to_delete, time_to_read=time_to_read))\n",
    "\n",
    "        dt.restoreToVersion(1)"
   ]
  },
  {
   "cell_type": "code",
   "execution_count": 163,
   "id": "d5146aa1-07ab-4ded-bfac-e8911547d7b9",
   "metadata": {},
   "outputs": [],
   "source": [
    "table_path = \"/tmp/tables/total_nondv\"\n",
    "\n",
    "# write 10m rows to 1 file\n",
    "# add a UUID column to beef up scan time\n",
    "(spark.range(0,1000000, 1, 1)\n",
    "     .withColumn(\"data\", expr(\"uuid()\"))\n",
    "     .write\n",
    "     .format(\"delta\")\n",
    "     .save(table_path))"
   ]
  },
  {
   "cell_type": "code",
   "execution_count": 167,
   "id": "2b9ff0ff-7dd9-40da-ba52-2aeb19ee2103",
   "metadata": {},
   "outputs": [],
   "source": [
    "iterations = list(range(1, 30, 2))\n",
    "dt = DeltaTable.forPath(spark, table_path)\n",
    "num_runs_per_scenario = 3\n",
    "results_nondv = []"
   ]
  },
  {
   "cell_type": "code",
   "execution_count": 168,
   "id": "250a8a13-f239-4413-bf33-c23134e2f6a9",
   "metadata": {},
   "outputs": [
    {
     "name": "stdout",
     "output_type": "stream",
     "text": [
      "+-------+--------------------+------+--------+---------+--------------------+----+--------+---------+-----------+--------------+-------------+--------------------+------------+--------------------+\n",
      "|version|           timestamp|userId|userName|operation| operationParameters| job|notebook|clusterId|readVersion|isolationLevel|isBlindAppend|    operationMetrics|userMetadata|          engineInfo|\n",
      "+-------+--------------------+------+--------+---------+--------------------+----+--------+---------+-----------+--------------+-------------+--------------------+------------+--------------------+\n",
      "|      0|2023-05-25 14:31:...|  null|    null|    WRITE|{mode -> ErrorIfE...|null|    null|     null|       null|  Serializable|         true|{numFiles -> 1, n...|        null|Apache-Spark/3.4....|\n",
      "+-------+--------------------+------+--------+---------+--------------------+----+--------+---------+-----------+--------------+-------------+--------------------+------------+--------------------+\n",
      "\n"
     ]
    }
   ],
   "source": [
    "dt.history().show()"
   ]
  },
  {
   "cell_type": "code",
   "execution_count": 169,
   "id": "40a3d275-d6e0-4198-a871-6bb475dc25e0",
   "metadata": {},
   "outputs": [
    {
     "name": "stdout",
     "output_type": "stream",
     "text": [
      "Delete 1% of file\n",
      "Took 1219284000 to delete\n",
      "Read file when 1% deleted\n",
      "Took 146524000 to read\n",
      "Delete 1% of file\n",
      "Took 1546597000 to delete\n",
      "Read file when 1% deleted\n",
      "Took 134920000 to read\n",
      "Delete 1% of file\n",
      "Took 1480617000 to delete\n",
      "Read file when 1% deleted\n",
      "Took 136590000 to read\n",
      "Delete 3% of file\n"
     ]
    },
    {
     "name": "stderr",
     "output_type": "stream",
     "text": [
      "                                                                                \r"
     ]
    },
    {
     "name": "stdout",
     "output_type": "stream",
     "text": [
      "Took 1481246000 to delete\n",
      "Read file when 3% deleted\n",
      "Took 143579000 to read\n",
      "Delete 3% of file\n",
      "Took 1603124000 to delete\n",
      "Read file when 3% deleted\n",
      "Took 145551000 to read\n",
      "Delete 3% of file\n",
      "Took 1445261000 to delete\n",
      "Read file when 3% deleted\n",
      "Took 132740000 to read\n",
      "Delete 5% of file\n",
      "Took 1562970000 to delete\n",
      "Read file when 5% deleted\n",
      "Took 149311000 to read\n",
      "Delete 5% of file\n",
      "Took 1612951000 to delete\n",
      "Read file when 5% deleted\n",
      "Took 145656000 to read\n",
      "Delete 5% of file\n",
      "Took 1422104000 to delete\n",
      "Read file when 5% deleted\n",
      "Took 135838000 to read\n",
      "Delete 7% of file\n",
      "Took 1602485000 to delete\n",
      "Read file when 7% deleted\n",
      "Took 145436000 to read\n",
      "Delete 7% of file\n",
      "Took 1448045000 to delete\n",
      "Read file when 7% deleted\n",
      "Took 139069000 to read\n",
      "Delete 7% of file\n",
      "Took 1567618000 to delete\n",
      "Read file when 7% deleted\n",
      "Took 143380000 to read\n",
      "Delete 9% of file\n"
     ]
    },
    {
     "name": "stderr",
     "output_type": "stream",
     "text": [
      "                                                                                \r"
     ]
    },
    {
     "name": "stdout",
     "output_type": "stream",
     "text": [
      "Took 1542399000 to delete\n",
      "Read file when 9% deleted\n",
      "Took 143492000 to read\n",
      "Delete 9% of file\n",
      "Took 1486564000 to delete\n",
      "Read file when 9% deleted\n",
      "Took 159841000 to read\n",
      "Delete 9% of file\n",
      "Took 1598045000 to delete\n",
      "Read file when 9% deleted\n",
      "Took 143305000 to read\n",
      "Delete 11% of file\n",
      "Took 1502374000 to delete\n",
      "Read file when 11% deleted\n",
      "Took 131682000 to read\n",
      "Delete 11% of file\n",
      "Took 1448910000 to delete\n",
      "Read file when 11% deleted\n",
      "Took 148068000 to read\n",
      "Delete 11% of file\n",
      "Took 1594153000 to delete\n",
      "Read file when 11% deleted\n",
      "Took 135334000 to read\n",
      "Delete 13% of file\n",
      "Took 1487380000 to delete\n",
      "Read file when 13% deleted\n",
      "Took 141205000 to read\n",
      "Delete 13% of file\n",
      "Took 1437768000 to delete\n",
      "Read file when 13% deleted\n",
      "Took 151482000 to read\n",
      "Delete 13% of file\n",
      "Took 1565533000 to delete\n",
      "Read file when 13% deleted\n",
      "Took 153477000 to read\n",
      "Delete 15% of file\n",
      "Took 1522489000 to delete\n",
      "Read file when 15% deleted\n",
      "Took 139365000 to read\n",
      "Delete 15% of file\n",
      "Took 1525978000 to delete\n",
      "Read file when 15% deleted\n",
      "Took 155344000 to read\n",
      "Delete 15% of file\n",
      "Took 1533514000 to delete\n",
      "Read file when 15% deleted\n",
      "Took 146221000 to read\n",
      "Delete 17% of file\n",
      "Took 1582497000 to delete\n",
      "Read file when 17% deleted\n",
      "Took 182345000 to read\n",
      "Delete 17% of file\n",
      "Took 1470983000 to delete\n",
      "Read file when 17% deleted\n",
      "Took 154139000 to read\n",
      "Delete 17% of file\n",
      "Took 1491459000 to delete\n",
      "Read file when 17% deleted\n",
      "Took 139219000 to read\n",
      "Delete 19% of file\n",
      "Took 1600988000 to delete\n",
      "Read file when 19% deleted\n",
      "Took 161495000 to read\n",
      "Delete 19% of file\n",
      "Took 1580357000 to delete\n",
      "Read file when 19% deleted\n",
      "Took 163422000 to read\n",
      "Delete 19% of file\n",
      "Took 1598162000 to delete\n",
      "Read file when 19% deleted\n",
      "Took 156952000 to read\n",
      "Delete 21% of file\n",
      "Took 1526747000 to delete\n",
      "Read file when 21% deleted\n",
      "Took 143833000 to read\n",
      "Delete 21% of file\n",
      "Took 1499501000 to delete\n",
      "Read file when 21% deleted\n",
      "Took 148512000 to read\n",
      "Delete 21% of file\n",
      "Took 1527885000 to delete\n",
      "Read file when 21% deleted\n",
      "Took 198505000 to read\n",
      "Delete 23% of file\n",
      "Took 1535089000 to delete\n",
      "Read file when 23% deleted\n",
      "Took 146648000 to read\n",
      "Delete 23% of file\n",
      "Took 1438178000 to delete\n",
      "Read file when 23% deleted\n",
      "Took 152042000 to read\n",
      "Delete 23% of file\n",
      "Took 1429583000 to delete\n",
      "Read file when 23% deleted\n",
      "Took 144878000 to read\n",
      "Delete 25% of file\n",
      "Took 1726863000 to delete\n",
      "Read file when 25% deleted\n",
      "Took 171355000 to read\n",
      "Delete 25% of file\n",
      "Took 1537321000 to delete\n",
      "Read file when 25% deleted\n",
      "Took 159687000 to read\n",
      "Delete 25% of file\n",
      "Took 1479703000 to delete\n",
      "Read file when 25% deleted\n",
      "Took 146302000 to read\n",
      "Delete 27% of file\n",
      "Took 1485921000 to delete\n",
      "Read file when 27% deleted\n",
      "Took 141197000 to read\n",
      "Delete 27% of file\n",
      "Took 1463244000 to delete\n",
      "Read file when 27% deleted\n",
      "Took 161856000 to read\n",
      "Delete 27% of file\n",
      "Took 1483048000 to delete\n",
      "Read file when 27% deleted\n",
      "Took 146310000 to read\n",
      "Delete 29% of file\n",
      "Took 1556129000 to delete\n",
      "Read file when 29% deleted\n",
      "Took 137731000 to read\n",
      "Delete 29% of file\n",
      "Took 1507871000 to delete\n",
      "Read file when 29% deleted\n",
      "Took 163020000 to read\n",
      "Delete 29% of file\n",
      "Took 1532914000 to delete\n",
      "Read file when 29% deleted\n",
      "Took 170822000 to read\n"
     ]
    }
   ],
   "source": [
    "for i in iterations:\n",
    "    for run in range(0, num_runs_per_scenario):\n",
    "        print(\"Delete {}% of file\".format(i))\n",
    "        start_time = time.time_ns()\n",
    "        dt.delete(col(\"id\") < ((i*10000) - 1))\n",
    "        time_to_delete = time.time_ns() - start_time\n",
    "        print(\"Took {} to delete\".format(time_to_delete))\n",
    "\n",
    "        print(\"Read file when {}% deleted\".format(i))\n",
    "        start_time = time.time_ns()\n",
    "        dt.toDF().selectExpr(\"sum(id)\").collect()\n",
    "        time_to_read = time.time_ns() - start_time\n",
    "        print(\"Took {} to read\".format(time_to_read))\n",
    "\n",
    "        results_nondv.append(TestResult(percent_file_deleted=i, run=run, time_to_delete=time_to_delete, time_to_read=time_to_read))\n",
    "\n",
    "        dt.restoreToVersion(0)"
   ]
  },
  {
   "cell_type": "code",
   "execution_count": 180,
   "id": "4b972759-aa3e-45de-9cb7-363e4c1b15d3",
   "metadata": {},
   "outputs": [],
   "source": [
    "import pandas as pd\n",
    "\n",
    "# Convert to DataFrame\n",
    "df_dv = pd.DataFrame([vars(result) for result in results])\n",
    "grouped = df_dv.groupby(['percent_file_deleted'])['time_to_delete'].mean()\n",
    "time_to_delete = grouped / 1e9\n",
    "\n",
    "grouped = df_dv.groupby(['percent_file_deleted'])['time_to_read'].mean()\n",
    "time_to_read = grouped / 1e9\n",
    "\n",
    "# Convert to DataFrame\n",
    "df = pd.DataFrame([vars(result) for result in results_nondv])\n",
    "grouped = df.groupby(['percent_file_deleted'])['time_to_delete'].mean()\n",
    "time_to_delete_nondv = grouped / 1e9\n",
    "\n",
    "grouped = df.groupby(['percent_file_deleted'])['time_to_read'].mean()\n",
    "time_to_read_nondv = grouped / 1e9"
   ]
  },
  {
   "cell_type": "code",
   "execution_count": 184,
   "id": "17bf6af9-c79c-4a4e-a64b-dffefda8d660",
   "metadata": {},
   "outputs": [
    {
     "data": {
      "image/png": "[encoded data removed]",
      "text/plain": [
       "<Figure size 640x480 with 1 Axes>"
      ]
     },
     "metadata": {},
     "output_type": "display_data"
    }
   ],
   "source": [
    "import matplotlib.pyplot as plt\n",
    "import numpy as np\n",
    "\n",
    "# Assume you have the following data\n",
    "categories = iterations\n",
    "group_A1 = time_to_delete.to_list()\n",
    "group_A2 = time_to_read.to_list()\n",
    "group_B1 = time_to_delete_nondv.to_list()\n",
    "group_B2 = time_to_read_nondv.to_list()\n",
    "\n",
    "# The position of the bars on the x-axis\n",
    "ind = np.arange(len(categories))\n",
    "\n",
    "# Bar width\n",
    "width = 0.35       \n",
    "\n",
    "# Creating the figure and a single subplot\n",
    "fig, ax = plt.subplots()\n",
    "\n",
    "# Creating the bars\n",
    "bar1 = ax.bar(ind - width/2, group_A1, width, color='b', label='Time to Delete (DV)')\n",
    "bar2 = ax.bar(ind - width/2, group_A2, width, bottom=group_A1, color='c', label='Time to Read (DV)')\n",
    "bar3 = ax.bar(ind + width/2, group_B1, width, color='r', label='Time to Delete (CoW)')\n",
    "bar4 = ax.bar(ind + width/2, group_B2, width, bottom=group_B1, color='m', label='Time to Delete (CoW)')\n",
    "\n",
    "# Adding some text for labels, title and axes ticks\n",
    "ax.set_xlabel('% of file deleted')\n",
    "ax.set_ylabel('Time (s)')\n",
    "ax.set_title('DV vs CoW Total W+R time for single file with % deleted')\n",
    "ax.set_xticks(ind)\n",
    "ax.set_xticklabels(categories)\n",
    "ax.legend()\n",
    "\n",
    "plt.show()"
   ]
  },
  {
   "cell_type": "code",
   "execution_count": null,
   "id": "01891a34-7bf7-4d51-8d67-b0d77e4d401c",
   "metadata": {},
   "outputs": [],
   "source": []
  }
 ],
 "metadata": {
  "kernelspec": {
   "display_name": "Python [conda env:pyspark-340-delta-240rc1]",
   "language": "python",
   "name": "conda-env-pyspark-340-delta-240rc1-py"
  },
  "language_info": {
   "codemirror_mode": {
    "name": "ipython",
    "version": 3
   },
   "file_extension": ".py",
   "mimetype": "text/x-python",
   "name": "python",
   "nbconvert_exporter": "python",
   "pygments_lexer": "ipython3",
   "version": "3.9.16"
  }
 },
 "nbformat": 4,
 "nbformat_minor": 5
}
