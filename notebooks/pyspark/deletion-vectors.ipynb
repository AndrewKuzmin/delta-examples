{
 "cells": [
  {
   "cell_type": "code",
   "execution_count": 1,
   "id": "35d5f629-c5f0-44c5-85b1-04a8c7e8dfcb",
   "metadata": {},
   "outputs": [
    {
     "name": "stdout",
     "output_type": "stream",
     "text": [
      ":: loading settings :: file = ../../ivy/2.4.0rc1.xml\n",
      ":: loading settings :: url = jar:file:/Users/nick.karpov/miniconda3/envs/pyspark-340-delta-240rc1/lib/python3.9/site-packages/pyspark/jars/ivy-2.5.1.jar!/org/apache/ivy/core/settings/ivysettings.xml\n"
     ]
    },
    {
     "name": "stderr",
     "output_type": "stream",
     "text": [
      "Ivy Default Cache set to: /Users/nick.karpov/.ivy2/cache\n",
      "The jars for the packages stored in: /Users/nick.karpov/.ivy2/jars\n",
      "io.delta#delta-core_2.12 added as a dependency\n",
      ":: resolving dependencies :: org.apache.spark#spark-submit-parent-b0f3fdf8-a851-4828-ac80-29faff2d61fd;1.0\n",
      "\tconfs: [default]\n",
      "\tfound io.delta#delta-core_2.12;2.4.0rc1 in custom\n",
      "\tfound io.delta#delta-storage;2.4.0rc1 in custom\n",
      "\tfound org.antlr#antlr4-runtime;4.9.3 in central\n",
      ":: resolution report :: resolve 78ms :: artifacts dl 4ms\n",
      "\t---------------------------------------------------------------------\n",
      "\t|                  |            modules            ||   artifacts   |\n",
      "\t|       conf       | number| search|dwnlded|evicted|| number|dwnlded|\n",
      "\t---------------------------------------------------------------------\n",
      "\t|      default     |   3   |   0   |   0   |   0   ||   3   |   0   |\n",
      "\t---------------------------------------------------------------------\n",
      ":: retrieving :: org.apache.spark#spark-submit-parent-b0f3fdf8-a851-4828-ac80-29faff2d61fd\n",
      "\tconfs: [default]\n",
      "\t0 artifacts copied, 3 already retrieved (0kB/2ms)\n",
      "23/05/26 11:53:42 WARN NativeCodeLoader: Unable to load native-hadoop library for your platform... using builtin-java classes where applicable\n",
      "Setting default log level to \"WARN\".\n",
      "To adjust logging level use sc.setLogLevel(newLevel). For SparkR, use setLogLevel(newLevel).\n"
     ]
    }
   ],
   "source": [
    "import pyspark\n",
    "from delta import *\n",
    "from pyspark.sql import functions as F\n",
    "\n",
    "builder = (\n",
    "    pyspark.sql.SparkSession.builder.appName(\"MyApp\")\n",
    "    .master(\"local[1]\")\n",
    "    .config(\"spark.sql.extensions\", \"io.delta.sql.DeltaSparkSessionExtension\")\n",
    "    .config(\"spark.driver.memory\", \"5g\")\n",
    "    .config(\"spark.executor.memory\", \"5g\")\n",
    "    .config(\n",
    "        \"spark.sql.catalog.spark_catalog\",\n",
    "        \"org.apache.spark.sql.delta.catalog.DeltaCatalog\",\n",
    "    )\n",
    "    .config(\n",
    "        \"spark.jars.ivySettings\",\n",
    "        \"../../ivy/2.4.0rc1.xml\"\n",
    "    )\n",
    ")\n",
    "\n",
    "spark = configure_spark_with_delta_pip(builder).getOrCreate()"
   ]
  },
  {
   "cell_type": "markdown",
   "id": "afd924f3-b7a2-4051-b255-1b9b74090d4c",
   "metadata": {},
   "source": [
    "### MiniBench: DV vs. CoW as % of files touched increases"
   ]
  },
  {
   "cell_type": "markdown",
   "id": "8f121df9-f791-4f0a-972f-dbfabb6af922",
   "metadata": {},
   "source": [
    "This example will show Delete w/ Deletion Vectors vs. traditional CoW as the number of files to rewrite increases progressively to a full table rewrite"
   ]
  },
  {
   "cell_type": "code",
   "execution_count": 3,
   "id": "75281325-217e-4570-add2-c30cb778fd83",
   "metadata": {},
   "outputs": [],
   "source": [
    "from pyspark.sql.functions import expr, max, col\n",
    "from dataclasses import dataclass\n",
    "import time"
   ]
  },
  {
   "cell_type": "code",
   "execution_count": 4,
   "id": "9af584d1-cc52-4312-81b3-5db92ce9c55c",
   "metadata": {
    "scrolled": true
   },
   "outputs": [
    {
     "name": "stderr",
     "output_type": "stream",
     "text": [
      "23/05/25 12:11:14 WARN package: Truncated the string representation of a plan since it was too large. This behavior can be adjusted by setting 'spark.sql.debug.maxToStringFields'.\n",
      "                                                                                \r"
     ]
    }
   ],
   "source": [
    "table_path = \"/tmp/tables/dvbench\"\n",
    "\n",
    "# write a 100m rows, evenly distributed into 100 files\n",
    "# add a UUID column to beef up scan time\n",
    "(spark.range(0,100000000, 1, 100)\n",
    "     .withColumn(\"data\", expr(\"uuid()\"))\n",
    "     .write\n",
    "     .format(\"delta\")\n",
    "     .save(table_path))"
   ]
  },
  {
   "cell_type": "code",
   "execution_count": 5,
   "id": "59d4da22-b624-48b7-9d4d-38d0bc7e0b47",
   "metadata": {},
   "outputs": [
    {
     "data": {
      "text/plain": [
       "DataFrame[]"
      ]
     },
     "execution_count": 5,
     "metadata": {},
     "output_type": "execute_result"
    }
   ],
   "source": [
    "# enable Deletion Vectors table feature\n",
    "spark.sql(\"ALTER TABLE delta.`%s` SET TBLPROPERTIES ('delta.enableDeletionVectors' = true)\" % table_path)"
   ]
  },
  {
   "cell_type": "code",
   "execution_count": 6,
   "id": "d3bfe484-f36f-4f64-9b8d-45acda6bdfb8",
   "metadata": {},
   "outputs": [],
   "source": [
    "@dataclass\n",
    "class TestResult:\n",
    "    files_touched: int\n",
    "    run: str\n",
    "    elapsed: float\n",
    "\n",
    "def get_max_id_for_files(dt, numFiles):\n",
    "    return list(map(lambda x: x.id, dt.toDF().groupBy(expr(\"input_file_name()\").alias(\"file\"))\n",
    "        .agg(max(\"id\").alias(\"id\"))\n",
    "        .limit(numFiles).select(\"id\")\n",
    "        .collect()))"
   ]
  },
  {
   "cell_type": "code",
   "execution_count": 7,
   "id": "2c492471-5d50-4b12-a70f-c3e4d0852bca",
   "metadata": {},
   "outputs": [],
   "source": [
    "dt = DeltaTable.forPath(spark, table_path)\n",
    "files_to_touch = [1, 15, 30, 45, 60, 75, 90, 100]\n",
    "num_runs_per_scenario = 3\n",
    "results = []"
   ]
  },
  {
   "cell_type": "code",
   "execution_count": 11,
   "id": "1f3a091e-3ed8-4740-a0f3-c3ef5b39ef15",
   "metadata": {},
   "outputs": [
    {
     "name": "stdout",
     "output_type": "stream",
     "text": [
      "Touching 1 files, run 0\n"
     ]
    },
    {
     "name": "stderr",
     "output_type": "stream",
     "text": [
      "                                                                                \r"
     ]
    },
    {
     "name": "stdout",
     "output_type": "stream",
     "text": [
      "Took: 2036234000\n",
      "Touching 1 files, run 1\n"
     ]
    },
    {
     "name": "stderr",
     "output_type": "stream",
     "text": [
      "                                                                                \r"
     ]
    },
    {
     "name": "stdout",
     "output_type": "stream",
     "text": [
      "Took: 1356911000\n",
      "Touching 1 files, run 2\n"
     ]
    },
    {
     "name": "stderr",
     "output_type": "stream",
     "text": [
      "                                                                                \r"
     ]
    },
    {
     "name": "stdout",
     "output_type": "stream",
     "text": [
      "Took: 1148696000\n",
      "Touching 15 files, run 0\n"
     ]
    },
    {
     "name": "stderr",
     "output_type": "stream",
     "text": [
      "                                                                                \r"
     ]
    },
    {
     "name": "stdout",
     "output_type": "stream",
     "text": [
      "Took: 3149326000\n",
      "Touching 15 files, run 1\n"
     ]
    },
    {
     "name": "stderr",
     "output_type": "stream",
     "text": [
      "                                                                                \r"
     ]
    },
    {
     "name": "stdout",
     "output_type": "stream",
     "text": [
      "Took: 3003812000\n",
      "Touching 15 files, run 2\n"
     ]
    },
    {
     "name": "stderr",
     "output_type": "stream",
     "text": [
      "                                                                                \r"
     ]
    },
    {
     "name": "stdout",
     "output_type": "stream",
     "text": [
      "Took: 2902168000\n",
      "Touching 30 files, run 0\n"
     ]
    },
    {
     "name": "stderr",
     "output_type": "stream",
     "text": [
      "                                                                                \r"
     ]
    },
    {
     "name": "stdout",
     "output_type": "stream",
     "text": [
      "Took: 2929830000\n",
      "Touching 30 files, run 1\n"
     ]
    },
    {
     "name": "stderr",
     "output_type": "stream",
     "text": [
      "                                                                                \r"
     ]
    },
    {
     "name": "stdout",
     "output_type": "stream",
     "text": [
      "Took: 2875466000\n",
      "Touching 30 files, run 2\n"
     ]
    },
    {
     "name": "stderr",
     "output_type": "stream",
     "text": [
      "                                                                                \r"
     ]
    },
    {
     "name": "stdout",
     "output_type": "stream",
     "text": [
      "Took: 2769846000\n",
      "Touching 45 files, run 0\n"
     ]
    },
    {
     "name": "stderr",
     "output_type": "stream",
     "text": [
      "                                                                                \r"
     ]
    },
    {
     "name": "stdout",
     "output_type": "stream",
     "text": [
      "Took: 3342670000\n",
      "Touching 45 files, run 1\n"
     ]
    },
    {
     "name": "stderr",
     "output_type": "stream",
     "text": [
      "                                                                                \r"
     ]
    },
    {
     "name": "stdout",
     "output_type": "stream",
     "text": [
      "Took: 3103026000\n",
      "Touching 45 files, run 2\n"
     ]
    },
    {
     "name": "stderr",
     "output_type": "stream",
     "text": [
      "                                                                                \r"
     ]
    },
    {
     "name": "stdout",
     "output_type": "stream",
     "text": [
      "Took: 2942694000\n",
      "Touching 60 files, run 0\n"
     ]
    },
    {
     "name": "stderr",
     "output_type": "stream",
     "text": [
      "                                                                                \r"
     ]
    },
    {
     "name": "stdout",
     "output_type": "stream",
     "text": [
      "Took: 2895487000\n",
      "Touching 60 files, run 1\n"
     ]
    },
    {
     "name": "stderr",
     "output_type": "stream",
     "text": [
      "                                                                                \r"
     ]
    },
    {
     "name": "stdout",
     "output_type": "stream",
     "text": [
      "Took: 2834765000\n",
      "Touching 60 files, run 2\n"
     ]
    },
    {
     "name": "stderr",
     "output_type": "stream",
     "text": [
      "                                                                                \r"
     ]
    },
    {
     "name": "stdout",
     "output_type": "stream",
     "text": [
      "Took: 3189980000\n",
      "Touching 75 files, run 0\n"
     ]
    },
    {
     "name": "stderr",
     "output_type": "stream",
     "text": [
      "                                                                                \r"
     ]
    },
    {
     "name": "stdout",
     "output_type": "stream",
     "text": [
      "Took: 2919213000\n",
      "Touching 75 files, run 1\n"
     ]
    },
    {
     "name": "stderr",
     "output_type": "stream",
     "text": [
      "                                                                                \r"
     ]
    },
    {
     "name": "stdout",
     "output_type": "stream",
     "text": [
      "Took: 3109613000\n",
      "Touching 75 files, run 2\n"
     ]
    },
    {
     "name": "stderr",
     "output_type": "stream",
     "text": [
      "                                                                                \r"
     ]
    },
    {
     "name": "stdout",
     "output_type": "stream",
     "text": [
      "Took: 2721463000\n",
      "Touching 90 files, run 0\n"
     ]
    },
    {
     "name": "stderr",
     "output_type": "stream",
     "text": [
      "                                                                                \r"
     ]
    },
    {
     "name": "stdout",
     "output_type": "stream",
     "text": [
      "Took: 2698260000\n",
      "Touching 90 files, run 1\n"
     ]
    },
    {
     "name": "stderr",
     "output_type": "stream",
     "text": [
      "                                                                                \r"
     ]
    },
    {
     "name": "stdout",
     "output_type": "stream",
     "text": [
      "Took: 3023621000\n",
      "Touching 90 files, run 2\n"
     ]
    },
    {
     "name": "stderr",
     "output_type": "stream",
     "text": [
      "                                                                                \r"
     ]
    },
    {
     "name": "stdout",
     "output_type": "stream",
     "text": [
      "Took: 2772167000\n",
      "Touching 100 files, run 0\n"
     ]
    },
    {
     "name": "stderr",
     "output_type": "stream",
     "text": [
      "                                                                                \r"
     ]
    },
    {
     "name": "stdout",
     "output_type": "stream",
     "text": [
      "Took: 2639544000\n",
      "Touching 100 files, run 1\n"
     ]
    },
    {
     "name": "stderr",
     "output_type": "stream",
     "text": [
      "                                                                                \r"
     ]
    },
    {
     "name": "stdout",
     "output_type": "stream",
     "text": [
      "Took: 2464915000\n",
      "Touching 100 files, run 2\n"
     ]
    },
    {
     "name": "stderr",
     "output_type": "stream",
     "text": [
      "                                                                                \r"
     ]
    },
    {
     "name": "stdout",
     "output_type": "stream",
     "text": [
      "Took: 2635821000\n"
     ]
    }
   ],
   "source": [
    "for num_files in files_to_touch:\n",
    "    for run in range(0, num_runs_per_scenario):\n",
    "        print(\"Touching {} files, run {}\".format(num_files, run))\n",
    "        ids = get_max_id_for_files(dt, num_files) # get id's to delete\n",
    "        \n",
    "        start_time = time.time_ns()\n",
    "        dt.delete(\n",
    "            col(\"id\").isin(ids)\n",
    "        )\n",
    "        end_time = time.time_ns()\n",
    "        \n",
    "        elapsed = end_time - start_time\n",
    "        print(\"Took: {}\".format(elapsed))\n",
    "        results.append(TestResult(files_touched=num_files, run=run, elapsed=elapsed))\n",
    "\n",
    "        dt.restoreToVersion(1)"
   ]
  },
  {
   "cell_type": "code",
   "execution_count": 12,
   "id": "5f9c5705-d1ee-48a3-a2ae-6d5abdd5a2dc",
   "metadata": {},
   "outputs": [
    {
     "data": {
      "text/plain": [
       "[TestResult(files_touched=1, run=0, elapsed=2036234000),\n",
       " TestResult(files_touched=1, run=1, elapsed=1356911000),\n",
       " TestResult(files_touched=1, run=2, elapsed=1148696000),\n",
       " TestResult(files_touched=15, run=0, elapsed=3149326000),\n",
       " TestResult(files_touched=15, run=1, elapsed=3003812000),\n",
       " TestResult(files_touched=15, run=2, elapsed=2902168000),\n",
       " TestResult(files_touched=30, run=0, elapsed=2929830000),\n",
       " TestResult(files_touched=30, run=1, elapsed=2875466000),\n",
       " TestResult(files_touched=30, run=2, elapsed=2769846000),\n",
       " TestResult(files_touched=45, run=0, elapsed=3342670000),\n",
       " TestResult(files_touched=45, run=1, elapsed=3103026000),\n",
       " TestResult(files_touched=45, run=2, elapsed=2942694000),\n",
       " TestResult(files_touched=60, run=0, elapsed=2895487000),\n",
       " TestResult(files_touched=60, run=1, elapsed=2834765000),\n",
       " TestResult(files_touched=60, run=2, elapsed=3189980000),\n",
       " TestResult(files_touched=75, run=0, elapsed=2919213000),\n",
       " TestResult(files_touched=75, run=1, elapsed=3109613000),\n",
       " TestResult(files_touched=75, run=2, elapsed=2721463000),\n",
       " TestResult(files_touched=90, run=0, elapsed=2698260000),\n",
       " TestResult(files_touched=90, run=1, elapsed=3023621000),\n",
       " TestResult(files_touched=90, run=2, elapsed=2772167000),\n",
       " TestResult(files_touched=100, run=0, elapsed=2639544000),\n",
       " TestResult(files_touched=100, run=1, elapsed=2464915000),\n",
       " TestResult(files_touched=100, run=2, elapsed=2635821000)]"
      ]
     },
     "execution_count": 12,
     "metadata": {},
     "output_type": "execute_result"
    }
   ],
   "source": [
    "results"
   ]
  },
  {
   "cell_type": "code",
   "execution_count": 13,
   "id": "6e87d35b-7e5f-4f72-a73a-a3aa56adb013",
   "metadata": {},
   "outputs": [
    {
     "name": "stderr",
     "output_type": "stream",
     "text": [
      "                                                                                \r"
     ]
    }
   ],
   "source": [
    "table_path = \"/tmp/tables/dvbench_nodv\"\n",
    "\n",
    "# write a 100m rows, evenly distributed into 100 files\n",
    "# add a UUID column to beef up scan time\n",
    "(spark.range(0,100000000, 1, 100)\n",
    "     .withColumn(\"data\", expr(\"uuid()\"))\n",
    "     .write\n",
    "     .format(\"delta\")\n",
    "     .save(table_path))"
   ]
  },
  {
   "cell_type": "code",
   "execution_count": 14,
   "id": "5c842bc6-af2d-44e2-b4ff-38873e7f5945",
   "metadata": {},
   "outputs": [],
   "source": [
    "dt = DeltaTable.forPath(spark, table_path)\n",
    "files_to_touch = [1, 15, 30, 45, 60, 75, 90, 100]\n",
    "num_runs_per_scenario = 3\n",
    "results_nondv = []"
   ]
  },
  {
   "cell_type": "code",
   "execution_count": 15,
   "id": "9bd999d9-3936-4324-8081-d5dedbd278c0",
   "metadata": {},
   "outputs": [
    {
     "name": "stdout",
     "output_type": "stream",
     "text": [
      "Touching 1 files, run 0\n"
     ]
    },
    {
     "name": "stderr",
     "output_type": "stream",
     "text": [
      "                                                                                \r"
     ]
    },
    {
     "name": "stdout",
     "output_type": "stream",
     "text": [
      "Took: 1535278000\n",
      "Touching 1 files, run 1\n"
     ]
    },
    {
     "name": "stderr",
     "output_type": "stream",
     "text": [
      "                                                                                \r"
     ]
    },
    {
     "name": "stdout",
     "output_type": "stream",
     "text": [
      "Took: 1326972000\n",
      "Touching 1 files, run 2\n"
     ]
    },
    {
     "name": "stderr",
     "output_type": "stream",
     "text": [
      "                                                                                \r"
     ]
    },
    {
     "name": "stdout",
     "output_type": "stream",
     "text": [
      "Took: 1234699000\n",
      "Touching 15 files, run 0\n"
     ]
    },
    {
     "name": "stderr",
     "output_type": "stream",
     "text": [
      "                                                                                \r"
     ]
    },
    {
     "name": "stdout",
     "output_type": "stream",
     "text": [
      "Took: 3408348000\n",
      "Touching 15 files, run 1\n"
     ]
    },
    {
     "name": "stderr",
     "output_type": "stream",
     "text": [
      "                                                                                \r"
     ]
    },
    {
     "name": "stdout",
     "output_type": "stream",
     "text": [
      "Took: 3096041000\n",
      "Touching 15 files, run 2\n"
     ]
    },
    {
     "name": "stderr",
     "output_type": "stream",
     "text": [
      "                                                                                \r"
     ]
    },
    {
     "name": "stdout",
     "output_type": "stream",
     "text": [
      "Took: 3148148000\n",
      "Touching 30 files, run 0\n"
     ]
    },
    {
     "name": "stderr",
     "output_type": "stream",
     "text": [
      "                                                                                \r"
     ]
    },
    {
     "name": "stdout",
     "output_type": "stream",
     "text": [
      "Took: 4350453000\n",
      "Touching 30 files, run 1\n"
     ]
    },
    {
     "name": "stderr",
     "output_type": "stream",
     "text": [
      "                                                                                \r"
     ]
    },
    {
     "name": "stdout",
     "output_type": "stream",
     "text": [
      "Took: 4148554000\n",
      "Touching 30 files, run 2\n"
     ]
    },
    {
     "name": "stderr",
     "output_type": "stream",
     "text": [
      "                                                                                \r"
     ]
    },
    {
     "name": "stdout",
     "output_type": "stream",
     "text": [
      "Took: 4023096000\n",
      "Touching 45 files, run 0\n"
     ]
    },
    {
     "name": "stderr",
     "output_type": "stream",
     "text": [
      "                                                                                \r"
     ]
    },
    {
     "name": "stdout",
     "output_type": "stream",
     "text": [
      "Took: 5583987000\n",
      "Touching 45 files, run 1\n"
     ]
    },
    {
     "name": "stderr",
     "output_type": "stream",
     "text": [
      "                                                                                \r"
     ]
    },
    {
     "name": "stdout",
     "output_type": "stream",
     "text": [
      "Took: 5452527000\n",
      "Touching 45 files, run 2\n"
     ]
    },
    {
     "name": "stderr",
     "output_type": "stream",
     "text": [
      "                                                                                \r"
     ]
    },
    {
     "name": "stdout",
     "output_type": "stream",
     "text": [
      "Took: 5582010000\n",
      "Touching 60 files, run 0\n"
     ]
    },
    {
     "name": "stderr",
     "output_type": "stream",
     "text": [
      "                                                                                \r"
     ]
    },
    {
     "name": "stdout",
     "output_type": "stream",
     "text": [
      "Took: 6323857000\n",
      "Touching 60 files, run 1\n"
     ]
    },
    {
     "name": "stderr",
     "output_type": "stream",
     "text": [
      "                                                                                \r"
     ]
    },
    {
     "name": "stdout",
     "output_type": "stream",
     "text": [
      "Took: 6245850000\n",
      "Touching 60 files, run 2\n"
     ]
    },
    {
     "name": "stderr",
     "output_type": "stream",
     "text": [
      "                                                                                \r"
     ]
    },
    {
     "name": "stdout",
     "output_type": "stream",
     "text": [
      "Took: 6342403000\n",
      "Touching 75 files, run 0\n"
     ]
    },
    {
     "name": "stderr",
     "output_type": "stream",
     "text": [
      "                                                                                \r"
     ]
    },
    {
     "name": "stdout",
     "output_type": "stream",
     "text": [
      "Took: 7728462000\n",
      "Touching 75 files, run 1\n"
     ]
    },
    {
     "name": "stderr",
     "output_type": "stream",
     "text": [
      "                                                                                \r"
     ]
    },
    {
     "name": "stdout",
     "output_type": "stream",
     "text": [
      "Took: 7787085000\n",
      "Touching 75 files, run 2\n"
     ]
    },
    {
     "name": "stderr",
     "output_type": "stream",
     "text": [
      "                                                                                \r"
     ]
    },
    {
     "name": "stdout",
     "output_type": "stream",
     "text": [
      "Took: 7628192000\n",
      "Touching 90 files, run 0\n"
     ]
    },
    {
     "name": "stderr",
     "output_type": "stream",
     "text": [
      "                                                                                \r"
     ]
    },
    {
     "name": "stdout",
     "output_type": "stream",
     "text": [
      "Took: 8422210000\n",
      "Touching 90 files, run 1\n"
     ]
    },
    {
     "name": "stderr",
     "output_type": "stream",
     "text": [
      "                                                                                \r"
     ]
    },
    {
     "name": "stdout",
     "output_type": "stream",
     "text": [
      "Took: 8540764000\n",
      "Touching 90 files, run 2\n"
     ]
    },
    {
     "name": "stderr",
     "output_type": "stream",
     "text": [
      "                                                                                \r"
     ]
    },
    {
     "name": "stdout",
     "output_type": "stream",
     "text": [
      "Took: 8222059000\n",
      "Touching 100 files, run 0\n"
     ]
    },
    {
     "name": "stderr",
     "output_type": "stream",
     "text": [
      "                                                                                \r"
     ]
    },
    {
     "name": "stdout",
     "output_type": "stream",
     "text": [
      "Took: 9277964000\n",
      "Touching 100 files, run 1\n"
     ]
    },
    {
     "name": "stderr",
     "output_type": "stream",
     "text": [
      "                                                                                \r"
     ]
    },
    {
     "name": "stdout",
     "output_type": "stream",
     "text": [
      "Took: 9342659000\n",
      "Touching 100 files, run 2\n"
     ]
    },
    {
     "name": "stderr",
     "output_type": "stream",
     "text": [
      "                                                                                \r"
     ]
    },
    {
     "name": "stdout",
     "output_type": "stream",
     "text": [
      "Took: 9454552000\n"
     ]
    }
   ],
   "source": [
    "for num_files in files_to_touch:\n",
    "    for run in range(0, num_runs_per_scenario):\n",
    "        print(\"Touching {} files, run {}\".format(num_files, run))\n",
    "        ids = get_max_id_for_files(dt, num_files) # get id's to delete\n",
    "        \n",
    "        start_time = time.time_ns()\n",
    "        dt.delete(\n",
    "            col(\"id\").isin(ids)\n",
    "        )\n",
    "        end_time = time.time_ns()\n",
    "        \n",
    "        elapsed = end_time - start_time\n",
    "        print(\"Took: {}\".format(elapsed))\n",
    "        results_nondv.append(TestResult(files_touched=num_files, run=run, elapsed=elapsed))\n",
    "\n",
    "        dt.restoreToVersion(0)"
   ]
  },
  {
   "cell_type": "code",
   "execution_count": 53,
   "id": "4818dd17-eb1e-4b32-ae32-4fd7f43ad867",
   "metadata": {},
   "outputs": [],
   "source": [
    "import pandas as pd\n",
    "\n",
    "# Convert to DataFrame\n",
    "df_dv = pd.DataFrame([vars(result) for result in results])\n",
    "df_nondv = pd.DataFrame([vars(result) for result in results_nondv])\n",
    "\n",
    "grouped = df_dv.groupby(['files_touched'])['elapsed'].mean()\n",
    "values_dv = grouped / 1e9\n",
    "\n",
    "grouped = df_nondv.groupby(['files_touched'])['elapsed'].mean()\n",
    "values_nondv = grouped / 1e9"
   ]
  },
  {
   "cell_type": "code",
   "execution_count": 60,
   "id": "be47ab83-04a9-4d49-962f-5bf45f7ff15f",
   "metadata": {},
   "outputs": [
    {
     "data": {
      "image/png": "[encoded data removed]",
      "text/plain": [
       "<Figure size 640x480 with 1 Axes>"
      ]
     },
     "metadata": {},
     "output_type": "display_data"
    }
   ],
   "source": [
    "import numpy as np\n",
    "import matplotlib.pyplot as plt\n",
    "from scipy.interpolate import make_interp_spline\n",
    "\n",
    "import pandas as pd\n",
    "\n",
    "# use pandas to munge the results\n",
    "df_dv = pd.DataFrame([vars(result) for result in results])\n",
    "df_nondv = pd.DataFrame([vars(result) for result in results_nondv])\n",
    "\n",
    "# get the average of the runs\n",
    "grouped = df_dv.groupby(['files_touched'])['elapsed'].mean()\n",
    "values_dv = grouped / 1e9\n",
    "\n",
    "grouped = df_nondv.groupby(['files_touched'])['elapsed'].mean()\n",
    "values_nondv = grouped / 1e9\n",
    "\n",
    "# set up the data for matplotlib\n",
    "number_of_files = np.array(files_to_touch)\n",
    "elapsed_time_deletion_vectors = np.array(values_dv)\n",
    "elapsed_time_no_deletion_vectors = np.array(values_nondv)\n",
    "\n",
    "# smooth the data\n",
    "xnew = np.linspace(number_of_files.min(), number_of_files.max(), 15)\n",
    "spline_deletion_vectors = make_interp_spline(number_of_files, elapsed_time_deletion_vectors, k=3)(xnew)\n",
    "spline_no_deletion_vectors = make_interp_spline(number_of_files, elapsed_time_no_deletion_vectors, k=3)(xnew)\n",
    "\n",
    "# plot the data\n",
    "plt.plot(xnew, spline_deletion_vectors, label=\"Deletion Vectors (MoR)\")\n",
    "plt.plot(xnew, spline_no_deletion_vectors, label=\"Copy-on-Write (CoW)\")\n",
    "\n",
    "# make it prettier and labels\n",
    "plt.xlabel(\"% of files touched\")\n",
    "plt.ylabel(\"Elapsed time (s)\")\n",
    "plt.suptitle(\"Time taken to DELETE\", fontsize=16, y=1.0)\n",
    "plt.title(\"Deletion Vectors vs. Copy and Write\\n(lower is better)\", fontsize=10)\n",
    "plt.legend()\n",
    "\n",
    "# Show the chart\n",
    "plt.show()"
   ]
  },
  {
   "cell_type": "markdown",
   "id": "dbac73d1-5514-4946-92c6-73b3490b2c50",
   "metadata": {},
   "source": [
    "### MiniBench: Total time DV vs. CoW as % of file deleted"
   ]
  },
  {
   "cell_type": "code",
   "execution_count": 4,
   "id": "7ceac130-0d41-4bd2-8111-19dccde7acc6",
   "metadata": {},
   "outputs": [
    {
     "name": "stderr",
     "output_type": "stream",
     "text": [
      "23/05/26 11:56:41 WARN package: Truncated the string representation of a plan since it was too large. This behavior can be adjusted by setting 'spark.sql.debug.maxToStringFields'.\n",
      "                                                                                \r"
     ]
    }
   ],
   "source": [
    "table_path = \"/tmp/tables/total\"\n",
    "\n",
    "# write 5m rows to 1 file\n",
    "# add a UUID column to beef up scan time\n",
    "(spark.range(0,5000000, 1, 1)\n",
    "     .withColumn(\"data\", expr(\"uuid()\"))\n",
    "     .write\n",
    "     .format(\"delta\")\n",
    "     .save(table_path))"
   ]
  },
  {
   "cell_type": "code",
   "execution_count": 5,
   "id": "78774959-3192-48e4-9d79-f2f05817c731",
   "metadata": {},
   "outputs": [
    {
     "name": "stderr",
     "output_type": "stream",
     "text": [
      "                                                                                \r"
     ]
    },
    {
     "data": {
      "text/plain": [
       "DataFrame[]"
      ]
     },
     "execution_count": 5,
     "metadata": {},
     "output_type": "execute_result"
    }
   ],
   "source": [
    "# enable Deletion Vectors table feature\n",
    "spark.sql(\"ALTER TABLE delta.`%s` SET TBLPROPERTIES ('delta.enableDeletionVectors' = true)\" % table_path)"
   ]
  },
  {
   "cell_type": "code",
   "execution_count": 6,
   "id": "6ab187cd-d5f6-4ff6-b809-e72158fbcbb0",
   "metadata": {},
   "outputs": [],
   "source": [
    "@dataclass\n",
    "class TestResult:\n",
    "    percent_file_deleted: int\n",
    "    run: str\n",
    "    time_to_delete: float\n",
    "    time_to_read: float"
   ]
  },
  {
   "cell_type": "code",
   "execution_count": 7,
   "id": "ca538920-d7c9-4194-9686-dcafc37822c3",
   "metadata": {},
   "outputs": [],
   "source": [
    "iterations = list(range(1, 16, 2))\n",
    "dt = DeltaTable.forPath(spark, table_path)\n",
    "num_runs_per_scenario = 3\n",
    "results = []"
   ]
  },
  {
   "cell_type": "code",
   "execution_count": 8,
   "id": "edcdd4fa-e863-41a4-a55f-b227116b8362",
   "metadata": {},
   "outputs": [
    {
     "name": "stdout",
     "output_type": "stream",
     "text": [
      "+-------+--------------------+------+--------+-----------------+--------------------+----+--------+---------+-----------+--------------+-------------+--------------------+------------+--------------------+\n",
      "|version|           timestamp|userId|userName|        operation| operationParameters| job|notebook|clusterId|readVersion|isolationLevel|isBlindAppend|    operationMetrics|userMetadata|          engineInfo|\n",
      "+-------+--------------------+------+--------+-----------------+--------------------+----+--------+---------+-----------+--------------+-------------+--------------------+------------+--------------------+\n",
      "|      1|2023-05-26 11:56:...|  null|    null|SET TBLPROPERTIES|{properties -> {\"...|null|    null|     null|          0|  Serializable|         true|                  {}|        null|Apache-Spark/3.4....|\n",
      "|      0|2023-05-26 11:56:...|  null|    null|            WRITE|{mode -> ErrorIfE...|null|    null|     null|       null|  Serializable|         true|{numFiles -> 1, n...|        null|Apache-Spark/3.4....|\n",
      "+-------+--------------------+------+--------+-----------------+--------------------+----+--------+---------+-----------+--------------+-------------+--------------------+------------+--------------------+\n",
      "\n"
     ]
    }
   ],
   "source": [
    "dt.history().show()"
   ]
  },
  {
   "cell_type": "code",
   "execution_count": 9,
   "id": "07a306ed-fe06-4f46-90a5-5013ad8f9f2b",
   "metadata": {},
   "outputs": [
    {
     "name": "stdout",
     "output_type": "stream",
     "text": [
      "Delete 1% of file\n"
     ]
    },
    {
     "name": "stderr",
     "output_type": "stream",
     "text": [
      "                                                                                \r"
     ]
    },
    {
     "name": "stdout",
     "output_type": "stream",
     "text": [
      "Took 3970108000 to delete\n",
      "Read file when 1% deleted\n",
      "Took 811574000 to read\n"
     ]
    },
    {
     "name": "stderr",
     "output_type": "stream",
     "text": [
      "                                                                                \r"
     ]
    },
    {
     "name": "stdout",
     "output_type": "stream",
     "text": [
      "Delete 1% of file\n"
     ]
    },
    {
     "name": "stderr",
     "output_type": "stream",
     "text": [
      "                                                                                \r"
     ]
    },
    {
     "name": "stdout",
     "output_type": "stream",
     "text": [
      "Took 4452981000 to delete\n",
      "Read file when 1% deleted\n",
      "Took 604313000 to read\n"
     ]
    },
    {
     "name": "stderr",
     "output_type": "stream",
     "text": [
      "                                                                                \r"
     ]
    },
    {
     "name": "stdout",
     "output_type": "stream",
     "text": [
      "Delete 1% of file\n"
     ]
    },
    {
     "name": "stderr",
     "output_type": "stream",
     "text": [
      "                                                                                \r"
     ]
    },
    {
     "name": "stdout",
     "output_type": "stream",
     "text": [
      "Took 3979124000 to delete\n",
      "Read file when 1% deleted\n",
      "Took 565817000 to read\n"
     ]
    },
    {
     "name": "stderr",
     "output_type": "stream",
     "text": [
      "                                                                                \r"
     ]
    },
    {
     "name": "stdout",
     "output_type": "stream",
     "text": [
      "Delete 3% of file\n"
     ]
    },
    {
     "name": "stderr",
     "output_type": "stream",
     "text": [
      "                                                                                \r"
     ]
    },
    {
     "name": "stdout",
     "output_type": "stream",
     "text": [
      "Took 4539718000 to delete\n",
      "Read file when 3% deleted\n",
      "Took 535018000 to read\n"
     ]
    },
    {
     "name": "stderr",
     "output_type": "stream",
     "text": [
      "                                                                                \r"
     ]
    },
    {
     "name": "stdout",
     "output_type": "stream",
     "text": [
      "Delete 3% of file\n"
     ]
    },
    {
     "name": "stderr",
     "output_type": "stream",
     "text": [
      "                                                                                \r"
     ]
    },
    {
     "name": "stdout",
     "output_type": "stream",
     "text": [
      "Took 4789783000 to delete\n",
      "Read file when 3% deleted\n"
     ]
    },
    {
     "name": "stderr",
     "output_type": "stream",
     "text": [
      "                                                                                \r"
     ]
    },
    {
     "name": "stdout",
     "output_type": "stream",
     "text": [
      "Took 1676013000 to read\n"
     ]
    },
    {
     "name": "stderr",
     "output_type": "stream",
     "text": [
      "                                                                                \r"
     ]
    },
    {
     "name": "stdout",
     "output_type": "stream",
     "text": [
      "Delete 3% of file\n"
     ]
    },
    {
     "name": "stderr",
     "output_type": "stream",
     "text": [
      "                                                                                \r"
     ]
    },
    {
     "name": "stdout",
     "output_type": "stream",
     "text": [
      "Took 4238872000 to delete\n",
      "Read file when 3% deleted\n",
      "Took 498353000 to read\n"
     ]
    },
    {
     "name": "stderr",
     "output_type": "stream",
     "text": [
      "                                                                                \r"
     ]
    },
    {
     "name": "stdout",
     "output_type": "stream",
     "text": [
      "Delete 5% of file\n"
     ]
    },
    {
     "name": "stderr",
     "output_type": "stream",
     "text": [
      "                                                                                \r"
     ]
    },
    {
     "name": "stdout",
     "output_type": "stream",
     "text": [
      "Took 4914396000 to delete\n",
      "Read file when 5% deleted\n",
      "Took 521977000 to read\n"
     ]
    },
    {
     "name": "stderr",
     "output_type": "stream",
     "text": [
      "                                                                                \r"
     ]
    },
    {
     "name": "stdout",
     "output_type": "stream",
     "text": [
      "Delete 5% of file\n"
     ]
    },
    {
     "name": "stderr",
     "output_type": "stream",
     "text": [
      "                                                                                \r"
     ]
    },
    {
     "name": "stdout",
     "output_type": "stream",
     "text": [
      "Took 4820756000 to delete\n",
      "Read file when 5% deleted\n",
      "Took 477327000 to read\n"
     ]
    },
    {
     "name": "stderr",
     "output_type": "stream",
     "text": [
      "                                                                                \r"
     ]
    },
    {
     "name": "stdout",
     "output_type": "stream",
     "text": [
      "Delete 5% of file\n"
     ]
    },
    {
     "name": "stderr",
     "output_type": "stream",
     "text": [
      "                                                                                \r"
     ]
    },
    {
     "name": "stdout",
     "output_type": "stream",
     "text": [
      "Took 4798546000 to delete\n",
      "Read file when 5% deleted\n",
      "Took 565218000 to read\n"
     ]
    },
    {
     "name": "stderr",
     "output_type": "stream",
     "text": [
      "                                                                                \r"
     ]
    },
    {
     "name": "stdout",
     "output_type": "stream",
     "text": [
      "Delete 7% of file\n"
     ]
    },
    {
     "name": "stderr",
     "output_type": "stream",
     "text": [
      "                                                                                \r"
     ]
    },
    {
     "name": "stdout",
     "output_type": "stream",
     "text": [
      "Took 5864877000 to delete\n",
      "Read file when 7% deleted\n"
     ]
    },
    {
     "name": "stderr",
     "output_type": "stream",
     "text": [
      "                                                                                \r"
     ]
    },
    {
     "name": "stdout",
     "output_type": "stream",
     "text": [
      "Took 1548984000 to read\n"
     ]
    },
    {
     "name": "stderr",
     "output_type": "stream",
     "text": [
      "                                                                                \r"
     ]
    },
    {
     "name": "stdout",
     "output_type": "stream",
     "text": [
      "Delete 7% of file\n"
     ]
    },
    {
     "name": "stderr",
     "output_type": "stream",
     "text": [
      "                                                                                \r"
     ]
    },
    {
     "name": "stdout",
     "output_type": "stream",
     "text": [
      "Took 5306996000 to delete\n",
      "Read file when 7% deleted\n",
      "Took 485858000 to read\n"
     ]
    },
    {
     "name": "stderr",
     "output_type": "stream",
     "text": [
      "                                                                                \r"
     ]
    },
    {
     "name": "stdout",
     "output_type": "stream",
     "text": [
      "Delete 7% of file\n"
     ]
    },
    {
     "name": "stderr",
     "output_type": "stream",
     "text": [
      "                                                                                \r"
     ]
    },
    {
     "name": "stdout",
     "output_type": "stream",
     "text": [
      "Took 5326835000 to delete\n",
      "Read file when 7% deleted\n",
      "Took 525568000 to read\n"
     ]
    },
    {
     "name": "stderr",
     "output_type": "stream",
     "text": [
      "                                                                                \r"
     ]
    },
    {
     "name": "stdout",
     "output_type": "stream",
     "text": [
      "Delete 9% of file\n"
     ]
    },
    {
     "name": "stderr",
     "output_type": "stream",
     "text": [
      "                                                                                \r"
     ]
    },
    {
     "name": "stdout",
     "output_type": "stream",
     "text": [
      "Took 6087417000 to delete\n",
      "Read file when 9% deleted\n",
      "Took 481285000 to read\n"
     ]
    },
    {
     "name": "stderr",
     "output_type": "stream",
     "text": [
      "                                                                                \r"
     ]
    },
    {
     "name": "stdout",
     "output_type": "stream",
     "text": [
      "Delete 9% of file\n"
     ]
    },
    {
     "name": "stderr",
     "output_type": "stream",
     "text": [
      "                                                                                \r"
     ]
    },
    {
     "name": "stdout",
     "output_type": "stream",
     "text": [
      "Took 6010267000 to delete\n",
      "Read file when 9% deleted\n",
      "Took 495669000 to read\n"
     ]
    },
    {
     "name": "stderr",
     "output_type": "stream",
     "text": [
      "                                                                                \r"
     ]
    },
    {
     "name": "stdout",
     "output_type": "stream",
     "text": [
      "Delete 9% of file\n"
     ]
    },
    {
     "name": "stderr",
     "output_type": "stream",
     "text": [
      "                                                                                \r"
     ]
    },
    {
     "name": "stdout",
     "output_type": "stream",
     "text": [
      "Took 6389599000 to delete\n",
      "Read file when 9% deleted\n"
     ]
    },
    {
     "name": "stderr",
     "output_type": "stream",
     "text": [
      "                                                                                \r"
     ]
    },
    {
     "name": "stdout",
     "output_type": "stream",
     "text": [
      "Took 1592788000 to read\n"
     ]
    },
    {
     "name": "stderr",
     "output_type": "stream",
     "text": [
      "                                                                                \r"
     ]
    },
    {
     "name": "stdout",
     "output_type": "stream",
     "text": [
      "Delete 11% of file\n"
     ]
    },
    {
     "name": "stderr",
     "output_type": "stream",
     "text": [
      "                                                                                \r"
     ]
    },
    {
     "name": "stdout",
     "output_type": "stream",
     "text": [
      "Took 6711802000 to delete\n",
      "Read file when 11% deleted\n",
      "Took 513055000 to read\n"
     ]
    },
    {
     "name": "stderr",
     "output_type": "stream",
     "text": [
      "                                                                                \r"
     ]
    },
    {
     "name": "stdout",
     "output_type": "stream",
     "text": [
      "Delete 11% of file\n"
     ]
    },
    {
     "name": "stderr",
     "output_type": "stream",
     "text": [
      "                                                                                \r"
     ]
    },
    {
     "name": "stdout",
     "output_type": "stream",
     "text": [
      "Took 6623506000 to delete\n",
      "Read file when 11% deleted\n",
      "Took 487127000 to read\n"
     ]
    },
    {
     "name": "stderr",
     "output_type": "stream",
     "text": [
      "                                                                                \r"
     ]
    },
    {
     "name": "stdout",
     "output_type": "stream",
     "text": [
      "Delete 11% of file\n"
     ]
    },
    {
     "name": "stderr",
     "output_type": "stream",
     "text": [
      "                                                                                \r"
     ]
    },
    {
     "name": "stdout",
     "output_type": "stream",
     "text": [
      "Took 6615057000 to delete\n",
      "Read file when 11% deleted\n",
      "Took 473428000 to read\n"
     ]
    },
    {
     "name": "stderr",
     "output_type": "stream",
     "text": [
      "                                                                                \r"
     ]
    },
    {
     "name": "stdout",
     "output_type": "stream",
     "text": [
      "Delete 13% of file\n"
     ]
    },
    {
     "name": "stderr",
     "output_type": "stream",
     "text": [
      "                                                                                \r"
     ]
    },
    {
     "name": "stdout",
     "output_type": "stream",
     "text": [
      "Took 7150130000 to delete\n",
      "Read file when 13% deleted\n",
      "Took 486410000 to read\n"
     ]
    },
    {
     "name": "stderr",
     "output_type": "stream",
     "text": [
      "                                                                                \r"
     ]
    },
    {
     "name": "stdout",
     "output_type": "stream",
     "text": [
      "Delete 13% of file\n"
     ]
    },
    {
     "name": "stderr",
     "output_type": "stream",
     "text": [
      "                                                                                \r"
     ]
    },
    {
     "name": "stdout",
     "output_type": "stream",
     "text": [
      "Took 7501776000 to delete\n",
      "Read file when 13% deleted\n"
     ]
    },
    {
     "name": "stderr",
     "output_type": "stream",
     "text": [
      "                                                                                \r"
     ]
    },
    {
     "name": "stdout",
     "output_type": "stream",
     "text": [
      "Took 1498599000 to read\n"
     ]
    },
    {
     "name": "stderr",
     "output_type": "stream",
     "text": [
      "                                                                                \r"
     ]
    },
    {
     "name": "stdout",
     "output_type": "stream",
     "text": [
      "Delete 13% of file\n"
     ]
    },
    {
     "name": "stderr",
     "output_type": "stream",
     "text": [
      "                                                                                \r"
     ]
    },
    {
     "name": "stdout",
     "output_type": "stream",
     "text": [
      "Took 7079821000 to delete\n",
      "Read file when 13% deleted\n",
      "Took 474655000 to read\n"
     ]
    },
    {
     "name": "stderr",
     "output_type": "stream",
     "text": [
      "                                                                                \r"
     ]
    },
    {
     "name": "stdout",
     "output_type": "stream",
     "text": [
      "Delete 15% of file\n"
     ]
    },
    {
     "name": "stderr",
     "output_type": "stream",
     "text": [
      "                                                                                \r"
     ]
    },
    {
     "name": "stdout",
     "output_type": "stream",
     "text": [
      "Took 7868622000 to delete\n",
      "Read file when 15% deleted\n",
      "Took 466431000 to read\n"
     ]
    },
    {
     "name": "stderr",
     "output_type": "stream",
     "text": [
      "                                                                                \r"
     ]
    },
    {
     "name": "stdout",
     "output_type": "stream",
     "text": [
      "Delete 15% of file\n"
     ]
    },
    {
     "name": "stderr",
     "output_type": "stream",
     "text": [
      "                                                                                \r"
     ]
    },
    {
     "name": "stdout",
     "output_type": "stream",
     "text": [
      "Took 7784113000 to delete\n",
      "Read file when 15% deleted\n",
      "Took 508458000 to read\n"
     ]
    },
    {
     "name": "stderr",
     "output_type": "stream",
     "text": [
      "                                                                                \r"
     ]
    },
    {
     "name": "stdout",
     "output_type": "stream",
     "text": [
      "Delete 15% of file\n"
     ]
    },
    {
     "name": "stderr",
     "output_type": "stream",
     "text": [
      "                                                                                \r"
     ]
    },
    {
     "name": "stdout",
     "output_type": "stream",
     "text": [
      "Took 7760332000 to delete\n",
      "Read file when 15% deleted\n",
      "Took 505300000 to read\n"
     ]
    },
    {
     "name": "stderr",
     "output_type": "stream",
     "text": [
      "                                                                                \r"
     ]
    }
   ],
   "source": [
    "for i in iterations:\n",
    "    for run in range(0, num_runs_per_scenario):\n",
    "        print(\"Delete {}% of file\".format(i))\n",
    "        start_time = time.time_ns()\n",
    "        dt.delete(col(\"id\") < ((i*50000) - 1))\n",
    "        time_to_delete = time.time_ns() - start_time\n",
    "        print(\"Took {} to delete\".format(time_to_delete))\n",
    "\n",
    "        print(\"Read file when {}% deleted\".format(i))\n",
    "        start_time = time.time_ns()\n",
    "        dt.toDF().selectExpr(\"sum(id)\").collect()\n",
    "        time_to_read = time.time_ns() - start_time\n",
    "        print(\"Took {} to read\".format(time_to_read))\n",
    "\n",
    "        results.append(TestResult(percent_file_deleted=i, run=run, time_to_delete=time_to_delete, time_to_read=time_to_read))\n",
    "\n",
    "        dt.restoreToVersion(1)"
   ]
  },
  {
   "cell_type": "code",
   "execution_count": 10,
   "id": "d5146aa1-07ab-4ded-bfac-e8911547d7b9",
   "metadata": {},
   "outputs": [
    {
     "name": "stderr",
     "output_type": "stream",
     "text": [
      "                                                                                \r"
     ]
    }
   ],
   "source": [
    "table_path = \"/tmp/tables/total_nondv\"\n",
    "\n",
    "# write 5m rows to 1 file\n",
    "# add a UUID column to beef up scan time\n",
    "(spark.range(0,5000000, 1, 1)\n",
    "     .withColumn(\"data\", expr(\"uuid()\"))\n",
    "     .write\n",
    "     .format(\"delta\")\n",
    "     .save(table_path))"
   ]
  },
  {
   "cell_type": "code",
   "execution_count": 11,
   "id": "2b9ff0ff-7dd9-40da-ba52-2aeb19ee2103",
   "metadata": {},
   "outputs": [],
   "source": [
    "iterations = list(range(1, 16, 2))\n",
    "dt = DeltaTable.forPath(spark, table_path)\n",
    "num_runs_per_scenario = 3\n",
    "results_nondv = []"
   ]
  },
  {
   "cell_type": "code",
   "execution_count": 12,
   "id": "250a8a13-f239-4413-bf33-c23134e2f6a9",
   "metadata": {},
   "outputs": [
    {
     "name": "stdout",
     "output_type": "stream",
     "text": [
      "+-------+--------------------+------+--------+---------+--------------------+----+--------+---------+-----------+--------------+-------------+--------------------+------------+--------------------+\n",
      "|version|           timestamp|userId|userName|operation| operationParameters| job|notebook|clusterId|readVersion|isolationLevel|isBlindAppend|    operationMetrics|userMetadata|          engineInfo|\n",
      "+-------+--------------------+------+--------+---------+--------------------+----+--------+---------+-----------+--------------+-------------+--------------------+------------+--------------------+\n",
      "|      0|2023-05-26 12:01:...|  null|    null|    WRITE|{mode -> ErrorIfE...|null|    null|     null|       null|  Serializable|         true|{numFiles -> 1, n...|        null|Apache-Spark/3.4....|\n",
      "+-------+--------------------+------+--------+---------+--------------------+----+--------+---------+-----------+--------------+-------------+--------------------+------------+--------------------+\n",
      "\n"
     ]
    }
   ],
   "source": [
    "dt.history().show()"
   ]
  },
  {
   "cell_type": "code",
   "execution_count": 13,
   "id": "40a3d275-d6e0-4198-a871-6bb475dc25e0",
   "metadata": {},
   "outputs": [
    {
     "name": "stdout",
     "output_type": "stream",
     "text": [
      "Delete 1% of file\n"
     ]
    },
    {
     "name": "stderr",
     "output_type": "stream",
     "text": [
      "                                                                                \r"
     ]
    },
    {
     "name": "stdout",
     "output_type": "stream",
     "text": [
      "Took 3873382000 to delete\n",
      "Read file when 1% deleted\n",
      "Took 282196000 to read\n"
     ]
    },
    {
     "name": "stderr",
     "output_type": "stream",
     "text": [
      "                                                                                \r"
     ]
    },
    {
     "name": "stdout",
     "output_type": "stream",
     "text": [
      "Delete 1% of file\n"
     ]
    },
    {
     "name": "stderr",
     "output_type": "stream",
     "text": [
      "                                                                                \r"
     ]
    },
    {
     "name": "stdout",
     "output_type": "stream",
     "text": [
      "Took 4928514000 to delete\n",
      "Read file when 1% deleted\n",
      "Took 273470000 to read\n"
     ]
    },
    {
     "name": "stderr",
     "output_type": "stream",
     "text": [
      "                                                                                \r"
     ]
    },
    {
     "name": "stdout",
     "output_type": "stream",
     "text": [
      "Delete 1% of file\n"
     ]
    },
    {
     "name": "stderr",
     "output_type": "stream",
     "text": [
      "                                                                                \r"
     ]
    },
    {
     "name": "stdout",
     "output_type": "stream",
     "text": [
      "Took 4860427000 to delete\n",
      "Read file when 1% deleted\n",
      "Took 280223000 to read\n"
     ]
    },
    {
     "name": "stderr",
     "output_type": "stream",
     "text": [
      "                                                                                \r"
     ]
    },
    {
     "name": "stdout",
     "output_type": "stream",
     "text": [
      "Delete 3% of file\n"
     ]
    },
    {
     "name": "stderr",
     "output_type": "stream",
     "text": [
      "                                                                                \r"
     ]
    },
    {
     "name": "stdout",
     "output_type": "stream",
     "text": [
      "Took 4848146000 to delete\n",
      "Read file when 3% deleted\n",
      "Took 286843000 to read\n"
     ]
    },
    {
     "name": "stderr",
     "output_type": "stream",
     "text": [
      "                                                                                \r"
     ]
    },
    {
     "name": "stdout",
     "output_type": "stream",
     "text": [
      "Delete 3% of file\n"
     ]
    },
    {
     "name": "stderr",
     "output_type": "stream",
     "text": [
      "                                                                                \r"
     ]
    },
    {
     "name": "stdout",
     "output_type": "stream",
     "text": [
      "Took 4806866000 to delete\n",
      "Read file when 3% deleted\n",
      "Took 291450000 to read\n"
     ]
    },
    {
     "name": "stderr",
     "output_type": "stream",
     "text": [
      "                                                                                \r"
     ]
    },
    {
     "name": "stdout",
     "output_type": "stream",
     "text": [
      "Delete 3% of file\n"
     ]
    },
    {
     "name": "stderr",
     "output_type": "stream",
     "text": [
      "                                                                                \r"
     ]
    },
    {
     "name": "stdout",
     "output_type": "stream",
     "text": [
      "Took 4789310000 to delete\n",
      "Read file when 3% deleted\n",
      "Took 275637000 to read\n"
     ]
    },
    {
     "name": "stderr",
     "output_type": "stream",
     "text": [
      "                                                                                \r"
     ]
    },
    {
     "name": "stdout",
     "output_type": "stream",
     "text": [
      "Delete 5% of file\n"
     ]
    },
    {
     "name": "stderr",
     "output_type": "stream",
     "text": [
      "                                                                                \r"
     ]
    },
    {
     "name": "stdout",
     "output_type": "stream",
     "text": [
      "Took 4806986000 to delete\n",
      "Read file when 5% deleted\n",
      "Took 270520000 to read\n"
     ]
    },
    {
     "name": "stderr",
     "output_type": "stream",
     "text": [
      "                                                                                \r"
     ]
    },
    {
     "name": "stdout",
     "output_type": "stream",
     "text": [
      "Delete 5% of file\n"
     ]
    },
    {
     "name": "stderr",
     "output_type": "stream",
     "text": [
      "                                                                                \r"
     ]
    },
    {
     "name": "stdout",
     "output_type": "stream",
     "text": [
      "Took 4919269000 to delete\n",
      "Read file when 5% deleted\n",
      "Took 278362000 to read\n"
     ]
    },
    {
     "name": "stderr",
     "output_type": "stream",
     "text": [
      "                                                                                \r"
     ]
    },
    {
     "name": "stdout",
     "output_type": "stream",
     "text": [
      "Delete 5% of file\n"
     ]
    },
    {
     "name": "stderr",
     "output_type": "stream",
     "text": [
      "                                                                                \r"
     ]
    },
    {
     "name": "stdout",
     "output_type": "stream",
     "text": [
      "Took 4811828000 to delete\n",
      "Read file when 5% deleted\n",
      "Took 265953000 to read\n"
     ]
    },
    {
     "name": "stderr",
     "output_type": "stream",
     "text": [
      "                                                                                \r"
     ]
    },
    {
     "name": "stdout",
     "output_type": "stream",
     "text": [
      "Delete 7% of file\n"
     ]
    },
    {
     "name": "stderr",
     "output_type": "stream",
     "text": [
      "                                                                                \r"
     ]
    },
    {
     "name": "stdout",
     "output_type": "stream",
     "text": [
      "Took 4816126000 to delete\n",
      "Read file when 7% deleted\n",
      "Took 280059000 to read\n"
     ]
    },
    {
     "name": "stderr",
     "output_type": "stream",
     "text": [
      "                                                                                \r"
     ]
    },
    {
     "name": "stdout",
     "output_type": "stream",
     "text": [
      "Delete 7% of file\n"
     ]
    },
    {
     "name": "stderr",
     "output_type": "stream",
     "text": [
      "                                                                                \r"
     ]
    },
    {
     "name": "stdout",
     "output_type": "stream",
     "text": [
      "Took 4759470000 to delete\n",
      "Read file when 7% deleted\n",
      "Took 277273000 to read\n"
     ]
    },
    {
     "name": "stderr",
     "output_type": "stream",
     "text": [
      "                                                                                \r"
     ]
    },
    {
     "name": "stdout",
     "output_type": "stream",
     "text": [
      "Delete 7% of file\n"
     ]
    },
    {
     "name": "stderr",
     "output_type": "stream",
     "text": [
      "                                                                                \r"
     ]
    },
    {
     "name": "stdout",
     "output_type": "stream",
     "text": [
      "Took 4738738000 to delete\n",
      "Read file when 7% deleted\n",
      "Took 278507000 to read\n"
     ]
    },
    {
     "name": "stderr",
     "output_type": "stream",
     "text": [
      "                                                                                \r"
     ]
    },
    {
     "name": "stdout",
     "output_type": "stream",
     "text": [
      "Delete 9% of file\n"
     ]
    },
    {
     "name": "stderr",
     "output_type": "stream",
     "text": [
      "                                                                                \r"
     ]
    },
    {
     "name": "stdout",
     "output_type": "stream",
     "text": [
      "Took 4997490000 to delete\n",
      "Read file when 9% deleted\n",
      "Took 291479000 to read\n"
     ]
    },
    {
     "name": "stderr",
     "output_type": "stream",
     "text": [
      "                                                                                \r"
     ]
    },
    {
     "name": "stdout",
     "output_type": "stream",
     "text": [
      "Delete 9% of file\n"
     ]
    },
    {
     "name": "stderr",
     "output_type": "stream",
     "text": [
      "                                                                                \r"
     ]
    },
    {
     "name": "stdout",
     "output_type": "stream",
     "text": [
      "Took 4834709000 to delete\n",
      "Read file when 9% deleted\n",
      "Took 288200000 to read\n"
     ]
    },
    {
     "name": "stderr",
     "output_type": "stream",
     "text": [
      "                                                                                \r"
     ]
    },
    {
     "name": "stdout",
     "output_type": "stream",
     "text": [
      "Delete 9% of file\n"
     ]
    },
    {
     "name": "stderr",
     "output_type": "stream",
     "text": [
      "                                                                                \r"
     ]
    },
    {
     "name": "stdout",
     "output_type": "stream",
     "text": [
      "Took 4860480000 to delete\n",
      "Read file when 9% deleted\n",
      "Took 288379000 to read\n"
     ]
    },
    {
     "name": "stderr",
     "output_type": "stream",
     "text": [
      "                                                                                \r"
     ]
    },
    {
     "name": "stdout",
     "output_type": "stream",
     "text": [
      "Delete 11% of file\n"
     ]
    },
    {
     "name": "stderr",
     "output_type": "stream",
     "text": [
      "                                                                                \r"
     ]
    },
    {
     "name": "stdout",
     "output_type": "stream",
     "text": [
      "Took 4817600000 to delete\n",
      "Read file when 11% deleted\n",
      "Took 290064000 to read\n"
     ]
    },
    {
     "name": "stderr",
     "output_type": "stream",
     "text": [
      "                                                                                \r"
     ]
    },
    {
     "name": "stdout",
     "output_type": "stream",
     "text": [
      "Delete 11% of file\n"
     ]
    },
    {
     "name": "stderr",
     "output_type": "stream",
     "text": [
      "                                                                                \r"
     ]
    },
    {
     "name": "stdout",
     "output_type": "stream",
     "text": [
      "Took 4887636000 to delete\n",
      "Read file when 11% deleted\n",
      "Took 281598000 to read\n"
     ]
    },
    {
     "name": "stderr",
     "output_type": "stream",
     "text": [
      "                                                                                \r"
     ]
    },
    {
     "name": "stdout",
     "output_type": "stream",
     "text": [
      "Delete 11% of file\n"
     ]
    },
    {
     "name": "stderr",
     "output_type": "stream",
     "text": [
      "                                                                                \r"
     ]
    },
    {
     "name": "stdout",
     "output_type": "stream",
     "text": [
      "Took 4908790000 to delete\n",
      "Read file when 11% deleted\n",
      "Took 293769000 to read\n"
     ]
    },
    {
     "name": "stderr",
     "output_type": "stream",
     "text": [
      "                                                                                \r"
     ]
    },
    {
     "name": "stdout",
     "output_type": "stream",
     "text": [
      "Delete 13% of file\n"
     ]
    },
    {
     "name": "stderr",
     "output_type": "stream",
     "text": [
      "                                                                                \r"
     ]
    },
    {
     "name": "stdout",
     "output_type": "stream",
     "text": [
      "Took 4813995000 to delete\n",
      "Read file when 13% deleted\n",
      "Took 286917000 to read\n"
     ]
    },
    {
     "name": "stderr",
     "output_type": "stream",
     "text": [
      "                                                                                \r"
     ]
    },
    {
     "name": "stdout",
     "output_type": "stream",
     "text": [
      "Delete 13% of file\n"
     ]
    },
    {
     "name": "stderr",
     "output_type": "stream",
     "text": [
      "                                                                                \r"
     ]
    },
    {
     "name": "stdout",
     "output_type": "stream",
     "text": [
      "Took 4789325000 to delete\n",
      "Read file when 13% deleted\n",
      "Took 305560000 to read\n"
     ]
    },
    {
     "name": "stderr",
     "output_type": "stream",
     "text": [
      "                                                                                \r"
     ]
    },
    {
     "name": "stdout",
     "output_type": "stream",
     "text": [
      "Delete 13% of file\n"
     ]
    },
    {
     "name": "stderr",
     "output_type": "stream",
     "text": [
      "                                                                                \r"
     ]
    },
    {
     "name": "stdout",
     "output_type": "stream",
     "text": [
      "Took 4741679000 to delete\n",
      "Read file when 13% deleted\n",
      "Took 283687000 to read\n"
     ]
    },
    {
     "name": "stderr",
     "output_type": "stream",
     "text": [
      "                                                                                \r"
     ]
    },
    {
     "name": "stdout",
     "output_type": "stream",
     "text": [
      "Delete 15% of file\n"
     ]
    },
    {
     "name": "stderr",
     "output_type": "stream",
     "text": [
      "                                                                                \r"
     ]
    },
    {
     "name": "stdout",
     "output_type": "stream",
     "text": [
      "Took 4781181000 to delete\n",
      "Read file when 15% deleted\n",
      "Took 277134000 to read\n"
     ]
    },
    {
     "name": "stderr",
     "output_type": "stream",
     "text": [
      "                                                                                \r"
     ]
    },
    {
     "name": "stdout",
     "output_type": "stream",
     "text": [
      "Delete 15% of file\n"
     ]
    },
    {
     "name": "stderr",
     "output_type": "stream",
     "text": [
      "                                                                                \r"
     ]
    },
    {
     "name": "stdout",
     "output_type": "stream",
     "text": [
      "Took 4766626000 to delete\n",
      "Read file when 15% deleted\n",
      "Took 285928000 to read\n"
     ]
    },
    {
     "name": "stderr",
     "output_type": "stream",
     "text": [
      "                                                                                \r"
     ]
    },
    {
     "name": "stdout",
     "output_type": "stream",
     "text": [
      "Delete 15% of file\n"
     ]
    },
    {
     "name": "stderr",
     "output_type": "stream",
     "text": [
      "                                                                                \r"
     ]
    },
    {
     "name": "stdout",
     "output_type": "stream",
     "text": [
      "Took 4782477000 to delete\n",
      "Read file when 15% deleted\n",
      "Took 280686000 to read\n"
     ]
    },
    {
     "name": "stderr",
     "output_type": "stream",
     "text": [
      "                                                                                \r"
     ]
    }
   ],
   "source": [
    "for i in iterations:\n",
    "    for run in range(0, num_runs_per_scenario):\n",
    "        print(\"Delete {}% of file\".format(i))\n",
    "        start_time = time.time_ns()\n",
    "        dt.delete(col(\"id\") < ((i*50000) - 1))\n",
    "        time_to_delete = time.time_ns() - start_time\n",
    "        print(\"Took {} to delete\".format(time_to_delete))\n",
    "\n",
    "        print(\"Read file when {}% deleted\".format(i))\n",
    "        start_time = time.time_ns()\n",
    "        dt.toDF().selectExpr(\"sum(id)\").collect()\n",
    "        time_to_read = time.time_ns() - start_time\n",
    "        print(\"Took {} to read\".format(time_to_read))\n",
    "\n",
    "        results_nondv.append(TestResult(percent_file_deleted=i, run=run, time_to_delete=time_to_delete, time_to_read=time_to_read))\n",
    "\n",
    "        dt.restoreToVersion(0)"
   ]
  },
  {
   "cell_type": "code",
   "execution_count": 14,
   "id": "4b972759-aa3e-45de-9cb7-363e4c1b15d3",
   "metadata": {},
   "outputs": [],
   "source": [
    "import pandas as pd\n",
    "\n",
    "# Convert to DataFrame\n",
    "df_dv = pd.DataFrame([vars(result) for result in results])\n",
    "grouped = df_dv.groupby(['percent_file_deleted'])['time_to_delete'].mean()\n",
    "time_to_delete = grouped / 1e9\n",
    "\n",
    "grouped = df_dv.groupby(['percent_file_deleted'])['time_to_read'].mean()\n",
    "time_to_read = grouped / 1e9\n",
    "\n",
    "# Convert to DataFrame\n",
    "df = pd.DataFrame([vars(result) for result in results_nondv])\n",
    "grouped = df.groupby(['percent_file_deleted'])['time_to_delete'].mean()\n",
    "time_to_delete_nondv = grouped / 1e9\n",
    "\n",
    "grouped = df.groupby(['percent_file_deleted'])['time_to_read'].mean()\n",
    "time_to_read_nondv = grouped / 1e9"
   ]
  },
  {
   "cell_type": "code",
   "execution_count": 15,
   "id": "17bf6af9-c79c-4a4e-a64b-dffefda8d660",
   "metadata": {},
   "outputs": [
    {
     "data": {
      "image/png": "[encoded data removed]",
      "text/plain": [
       "<Figure size 640x480 with 1 Axes>"
      ]
     },
     "metadata": {},
     "output_type": "display_data"
    }
   ],
   "source": [
    "import matplotlib.pyplot as plt\n",
    "import numpy as np\n",
    "\n",
    "# Assume you have the following data\n",
    "categories = iterations\n",
    "group_A1 = time_to_delete.to_list()\n",
    "group_A2 = time_to_read.to_list()\n",
    "group_B1 = time_to_delete_nondv.to_list()\n",
    "group_B2 = time_to_read_nondv.to_list()\n",
    "\n",
    "# The position of the bars on the x-axis\n",
    "ind = np.arange(len(categories))\n",
    "\n",
    "# Bar width\n",
    "width = 0.35       \n",
    "\n",
    "# Creating the figure and a single subplot\n",
    "fig, ax = plt.subplots()\n",
    "\n",
    "# Creating the bars\n",
    "bar1 = ax.bar(ind - width/2, group_A1, width, color='b', label='Time to Delete (DV)')\n",
    "bar2 = ax.bar(ind - width/2, group_A2, width, bottom=group_A1, color='c', label='Time to Read (DV)')\n",
    "bar3 = ax.bar(ind + width/2, group_B1, width, color='r', label='Time to Delete (CoW)')\n",
    "bar4 = ax.bar(ind + width/2, group_B2, width, bottom=group_B1, color='m', label='Time to Delete (CoW)')\n",
    "\n",
    "# Adding some text for labels, title and axes ticks\n",
    "ax.set_xlabel('% of file deleted')\n",
    "ax.set_ylabel('Time (s)')\n",
    "ax.set_title('DV vs CoW Total W+R time for single file with % deleted')\n",
    "ax.set_xticks(ind)\n",
    "ax.set_xticklabels(categories)\n",
    "ax.legend()\n",
    "\n",
    "plt.show()"
   ]
  }
 ],
 "metadata": {
  "kernelspec": {
   "display_name": "Python [conda env:pyspark-340-delta-240rc1]",
   "language": "python",
   "name": "conda-env-pyspark-340-delta-240rc1-py"
  },
  "language_info": {
   "codemirror_mode": {
    "name": "ipython",
    "version": 3
   },
   "file_extension": ".py",
   "mimetype": "text/x-python",
   "name": "python",
   "nbconvert_exporter": "python",
   "pygments_lexer": "ipython3",
   "version": "3.9.16"
  }
 },
 "nbformat": 4,
 "nbformat_minor": 5
}
