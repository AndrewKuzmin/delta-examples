{
 "cells": [
  {
   "cell_type": "markdown",
   "id": "f0f652bc-c1aa-483b-a335-ba0e663f58fe",
   "metadata": {},
   "source": [
    "# Create table Delta Lake"
   ]
  },
  {
   "cell_type": "code",
   "execution_count": 2,
   "id": "aa5b85b3-35d5-4640-b955-335bb69b68bd",
   "metadata": {},
   "outputs": [],
   "source": [
    "import pyspark\n",
    "from delta import *"
   ]
  },
  {
   "cell_type": "code",
   "execution_count": 3,
   "id": "194d638f-dca3-4026-902c-d377184aa71c",
   "metadata": {},
   "outputs": [],
   "source": [
    "builder = (\n",
    "    pyspark.sql.SparkSession.builder.appName(\"MyApp\")\n",
    "    .config(\"spark.sql.extensions\", \"io.delta.sql.DeltaSparkSessionExtension\")\n",
    "    .config(\n",
    "        \"spark.sql.catalog.spark_catalog\",\n",
    "        \"org.apache.spark.sql.delta.catalog.DeltaCatalog\",\n",
    "    )\n",
    ")"
   ]
  },
  {
   "cell_type": "code",
   "execution_count": 4,
   "id": "6be5b4c1-43ff-4965-93ac-52813d50dacc",
   "metadata": {},
   "outputs": [
    {
     "name": "stdout",
     "output_type": "stream",
     "text": [
      ":: loading settings :: url = jar:file:/Users/matthew.powers/opt/miniconda3/envs/pyspark-330-delta-210/lib/python3.9/site-packages/pyspark/jars/ivy-2.5.0.jar!/org/apache/ivy/core/settings/ivysettings.xml\n"
     ]
    },
    {
     "name": "stderr",
     "output_type": "stream",
     "text": [
      "Ivy Default Cache set to: /Users/matthew.powers/.ivy2/cache\n",
      "The jars for the packages stored in: /Users/matthew.powers/.ivy2/jars\n",
      "io.delta#delta-core_2.12 added as a dependency\n",
      ":: resolving dependencies :: org.apache.spark#spark-submit-parent-80c140a0-adbc-49b9-951b-f12bb80a7d02;1.0\n",
      "\tconfs: [default]\n",
      "\tfound io.delta#delta-core_2.12;2.1.0 in central\n",
      "\tfound io.delta#delta-storage;2.1.0 in central\n",
      "\tfound org.antlr#antlr4-runtime;4.8 in central\n",
      "\tfound org.codehaus.jackson#jackson-core-asl;1.9.13 in central\n",
      ":: resolution report :: resolve 341ms :: artifacts dl 27ms\n",
      "\t:: modules in use:\n",
      "\tio.delta#delta-core_2.12;2.1.0 from central in [default]\n",
      "\tio.delta#delta-storage;2.1.0 from central in [default]\n",
      "\torg.antlr#antlr4-runtime;4.8 from central in [default]\n",
      "\torg.codehaus.jackson#jackson-core-asl;1.9.13 from central in [default]\n",
      "\t---------------------------------------------------------------------\n",
      "\t|                  |            modules            ||   artifacts   |\n",
      "\t|       conf       | number| search|dwnlded|evicted|| number|dwnlded|\n",
      "\t---------------------------------------------------------------------\n",
      "\t|      default     |   4   |   0   |   0   |   0   ||   4   |   0   |\n",
      "\t---------------------------------------------------------------------\n",
      ":: retrieving :: org.apache.spark#spark-submit-parent-80c140a0-adbc-49b9-951b-f12bb80a7d02\n",
      "\tconfs: [default]\n",
      "\t0 artifacts copied, 4 already retrieved (0kB/13ms)\n"
     ]
    },
    {
     "name": "stdout",
     "output_type": "stream",
     "text": [
      "22/09/16 13:29:20 WARN NativeCodeLoader: Unable to load native-hadoop library for your platform... using builtin-java classes where applicable\n"
     ]
    },
    {
     "name": "stderr",
     "output_type": "stream",
     "text": [
      "Setting default log level to \"WARN\".\n",
      "To adjust logging level use sc.setLogLevel(newLevel). For SparkR, use setLogLevel(newLevel).\n"
     ]
    }
   ],
   "source": [
    "spark = configure_spark_with_delta_pip(builder).getOrCreate()"
   ]
  },
  {
   "cell_type": "markdown",
   "id": "612e9fd2-94e5-469f-b2ee-643f71f232cb",
   "metadata": {},
   "source": [
    "## Create Table for Delta Lake from PySpark DataFrame"
   ]
  },
  {
   "cell_type": "code",
   "execution_count": 4,
   "id": "91510883-10f6-4328-b908-0d03dffa3c0a",
   "metadata": {},
   "outputs": [
    {
     "name": "stdout",
     "output_type": "stream",
     "text": [
      "++\n",
      "||\n",
      "++\n",
      "++\n",
      "\n"
     ]
    }
   ],
   "source": [
    "spark.sql(\"DROP TABLE IF EXISTS table1\").show()"
   ]
  },
  {
   "cell_type": "code",
   "execution_count": 5,
   "id": "de72e566-22c7-4d2b-b6c2-b3dffdbc8331",
   "metadata": {},
   "outputs": [
    {
     "name": "stderr",
     "output_type": "stream",
     "text": [
      "                                                                                \r"
     ]
    }
   ],
   "source": [
    "columns = [\"character\", \"franchise\"]\n",
    "data = [(\"link\", \"zelda\"), (\"king k rool\", \"donkey kong\"), (\"samus\", \"metroid\")]\n",
    "rdd = spark.sparkContext.parallelize(data)\n",
    "df = rdd.toDF(columns)"
   ]
  },
  {
   "cell_type": "code",
   "execution_count": 6,
   "id": "9c82035e-63b9-433e-a456-3fdc86781a02",
   "metadata": {},
   "outputs": [
    {
     "name": "stdout",
     "output_type": "stream",
     "text": [
      "+-----------+-----------+\n",
      "|  character|  franchise|\n",
      "+-----------+-----------+\n",
      "|       link|      zelda|\n",
      "|king k rool|donkey kong|\n",
      "|      samus|    metroid|\n",
      "+-----------+-----------+\n",
      "\n"
     ]
    }
   ],
   "source": [
    "df.show()"
   ]
  },
  {
   "cell_type": "code",
   "execution_count": 7,
   "id": "148fbf6f-2d74-4a5a-8792-d621b0bb65ae",
   "metadata": {},
   "outputs": [
    {
     "name": "stderr",
     "output_type": "stream",
     "text": [
      "                                                                                \r"
     ]
    }
   ],
   "source": [
    "df.write.format(\"delta\").saveAsTable(\"table1\")"
   ]
  },
  {
   "cell_type": "code",
   "execution_count": 8,
   "id": "467e3d8b-0eb2-47df-a8c2-7af4035636ff",
   "metadata": {},
   "outputs": [
    {
     "name": "stdout",
     "output_type": "stream",
     "text": [
      "+-----------+-----------+\n",
      "|  character|  franchise|\n",
      "+-----------+-----------+\n",
      "|king k rool|donkey kong|\n",
      "|      samus|    metroid|\n",
      "|       link|      zelda|\n",
      "+-----------+-----------+\n",
      "\n"
     ]
    }
   ],
   "source": [
    "spark.sql(\"SELECT * FROM table1\").show()"
   ]
  },
  {
   "cell_type": "code",
   "execution_count": 9,
   "id": "624eab8e-c3b2-4b48-b1a8-f045315b4607",
   "metadata": {},
   "outputs": [
    {
     "data": {
      "text/plain": [
       "True"
      ]
     },
     "execution_count": 9,
     "metadata": {},
     "output_type": "execute_result"
    }
   ],
   "source": [
    "DeltaTable.isDeltaTable(spark, \"spark-warehouse/table1\")"
   ]
  },
  {
   "cell_type": "code",
   "execution_count": 10,
   "id": "c062c8a2-7140-4bf1-b928-5a4c5b2d7805",
   "metadata": {},
   "outputs": [],
   "source": [
    "df.write.format(\"parquet\").saveAsTable(\"table1_as_parquet\")"
   ]
  },
  {
   "cell_type": "code",
   "execution_count": 11,
   "id": "4aa60394-55e5-49ff-b737-ce1c7ff6957e",
   "metadata": {},
   "outputs": [
    {
     "name": "stdout",
     "output_type": "stream",
     "text": [
      "+-----------+-----------+\n",
      "|  character|  franchise|\n",
      "+-----------+-----------+\n",
      "|king k rool|donkey kong|\n",
      "|      samus|    metroid|\n",
      "|       link|      zelda|\n",
      "+-----------+-----------+\n",
      "\n",
      "22/09/12 10:25:40 WARN JavaUtils: Attempt to delete using native Unix OS command failed for path = /private/var/folders/19/_52w4zps3xjc6plz_f63j8sh0000gp/T/spark-ee858e6d-5653-4d42-afde-4e1f97db4480/pyspark-fc267009-acdf-45d7-8cfb-44594c43afb2. Falling back to Java IO way\n",
      "java.io.IOException: Failed to delete: /private/var/folders/19/_52w4zps3xjc6plz_f63j8sh0000gp/T/spark-ee858e6d-5653-4d42-afde-4e1f97db4480/pyspark-fc267009-acdf-45d7-8cfb-44594c43afb2\n",
      "\tat org.apache.spark.network.util.JavaUtils.deleteRecursivelyUsingUnixNative(JavaUtils.java:171)\n",
      "\tat org.apache.spark.network.util.JavaUtils.deleteRecursively(JavaUtils.java:110)\n",
      "\tat org.apache.spark.network.util.JavaUtils.deleteRecursively(JavaUtils.java:91)\n",
      "\tat org.apache.spark.util.Utils$.deleteRecursively(Utils.scala:1206)\n",
      "\tat org.apache.spark.util.ShutdownHookManager$.$anonfun$new$4(ShutdownHookManager.scala:65)\n",
      "\tat org.apache.spark.util.ShutdownHookManager$.$anonfun$new$4$adapted(ShutdownHookManager.scala:62)\n",
      "\tat scala.collection.IndexedSeqOptimized.foreach(IndexedSeqOptimized.scala:36)\n",
      "\tat scala.collection.IndexedSeqOptimized.foreach$(IndexedSeqOptimized.scala:33)\n",
      "\tat scala.collection.mutable.ArrayOps$ofRef.foreach(ArrayOps.scala:198)\n",
      "\tat org.apache.spark.util.ShutdownHookManager$.$anonfun$new$2(ShutdownHookManager.scala:62)\n",
      "\tat org.apache.spark.util.SparkShutdownHook.run(ShutdownHookManager.scala:214)\n",
      "\tat org.apache.spark.util.SparkShutdownHookManager.$anonfun$runAll$2(ShutdownHookManager.scala:188)\n",
      "\tat scala.runtime.java8.JFunction0$mcV$sp.apply(JFunction0$mcV$sp.java:23)\n",
      "\tat org.apache.spark.util.Utils$.logUncaughtExceptions(Utils.scala:2066)\n",
      "\tat org.apache.spark.util.SparkShutdownHookManager.$anonfun$runAll$1(ShutdownHookManager.scala:188)\n",
      "\tat scala.runtime.java8.JFunction0$mcV$sp.apply(JFunction0$mcV$sp.java:23)\n",
      "\tat scala.util.Try$.apply(Try.scala:213)\n",
      "\tat org.apache.spark.util.SparkShutdownHookManager.runAll(ShutdownHookManager.scala:188)\n",
      "\tat org.apache.spark.util.SparkShutdownHookManager$$anon$2.run(ShutdownHookManager.scala:178)\n",
      "\tat java.base/java.util.concurrent.Executors$RunnableAdapter.call(Executors.java:515)\n",
      "\tat java.base/java.util.concurrent.FutureTask.run(FutureTask.java:264)\n",
      "\tat java.base/java.util.concurrent.ThreadPoolExecutor.runWorker(ThreadPoolExecutor.java:1128)\n",
      "\tat java.base/java.util.concurrent.ThreadPoolExecutor$Worker.run(ThreadPoolExecutor.java:628)\n",
      "\tat java.base/java.lang.Thread.run(Thread.java:829)\n"
     ]
    },
    {
     "name": "stderr",
     "output_type": "stream",
     "text": [
      "----------------------------------------\n",
      "Exception occurred during processing of request from ('127.0.0.1', 52942)\n",
      "Traceback (most recent call last):\n",
      "  File \"/Users/matthew.powers/opt/miniconda3/envs/pyspark-330-delta-210/lib/python3.9/socketserver.py\", line 316, in _handle_request_noblock\n",
      "    self.process_request(request, client_address)\n",
      "  File \"/Users/matthew.powers/opt/miniconda3/envs/pyspark-330-delta-210/lib/python3.9/socketserver.py\", line 347, in process_request\n",
      "    self.finish_request(request, client_address)\n",
      "  File \"/Users/matthew.powers/opt/miniconda3/envs/pyspark-330-delta-210/lib/python3.9/socketserver.py\", line 360, in finish_request\n",
      "    self.RequestHandlerClass(request, client_address, self)\n",
      "  File \"/Users/matthew.powers/opt/miniconda3/envs/pyspark-330-delta-210/lib/python3.9/socketserver.py\", line 747, in __init__\n",
      "    self.handle()\n",
      "  File \"/Users/matthew.powers/opt/miniconda3/envs/pyspark-330-delta-210/lib/python3.9/site-packages/pyspark/accumulators.py\", line 281, in handle\n",
      "    poll(accum_updates)\n",
      "  File \"/Users/matthew.powers/opt/miniconda3/envs/pyspark-330-delta-210/lib/python3.9/site-packages/pyspark/accumulators.py\", line 253, in poll\n",
      "    if func():\n",
      "  File \"/Users/matthew.powers/opt/miniconda3/envs/pyspark-330-delta-210/lib/python3.9/site-packages/pyspark/accumulators.py\", line 257, in accum_updates\n",
      "    num_updates = read_int(self.rfile)\n",
      "  File \"/Users/matthew.powers/opt/miniconda3/envs/pyspark-330-delta-210/lib/python3.9/site-packages/pyspark/serializers.py\", line 595, in read_int\n",
      "    raise EOFError\n",
      "EOFError\n",
      "----------------------------------------\n"
     ]
    }
   ],
   "source": [
    "spark.sql(\"SELECT * FROM table1_as_parquet\").show()"
   ]
  },
  {
   "cell_type": "markdown",
   "id": "abcdc031-e51f-453a-99e3-4bc1525423f3",
   "metadata": {},
   "source": [
    "## Create Delta Lake table with SQL"
   ]
  },
  {
   "cell_type": "code",
   "execution_count": 16,
   "id": "6c3a10b1-08cf-4d7c-8996-014ad6aeea20",
   "metadata": {},
   "outputs": [
    {
     "name": "stderr",
     "output_type": "stream",
     "text": [
      "                                                                                \r"
     ]
    },
    {
     "data": {
      "text/plain": [
       "DataFrame[]"
      ]
     },
     "execution_count": 16,
     "metadata": {},
     "output_type": "execute_result"
    }
   ],
   "source": [
    "spark.sql(\"\"\"\n",
    "  CREATE TABLE table2 (country STRING, continent STRING) USING delta\n",
    "\"\"\")"
   ]
  },
  {
   "cell_type": "code",
   "execution_count": 17,
   "id": "6a9e8be3-ceef-431f-8434-b43e122c4558",
   "metadata": {},
   "outputs": [
    {
     "name": "stderr",
     "output_type": "stream",
     "text": [
      "                                                                                \r"
     ]
    },
    {
     "data": {
      "text/plain": [
       "DataFrame[]"
      ]
     },
     "execution_count": 17,
     "metadata": {},
     "output_type": "execute_result"
    }
   ],
   "source": [
    "spark.sql(\"\"\"\n",
    "  INSERT INTO table2 VALUES\n",
    "      ('china', 'asia'),\n",
    "      ('argentina', 'south america')\n",
    "\"\"\")"
   ]
  },
  {
   "cell_type": "code",
   "execution_count": 18,
   "id": "33c93313-d861-4013-8cfb-624054d82ab2",
   "metadata": {},
   "outputs": [
    {
     "name": "stdout",
     "output_type": "stream",
     "text": [
      "+---------+-------------+\n",
      "|  country|    continent|\n",
      "+---------+-------------+\n",
      "|argentina|south america|\n",
      "|    china|         asia|\n",
      "+---------+-------------+\n",
      "\n"
     ]
    }
   ],
   "source": [
    "spark.sql(\"SELECT * FROM table2\").show()"
   ]
  },
  {
   "cell_type": "code",
   "execution_count": 19,
   "id": "531e7ec9-54d3-4bf5-bc5c-a64cf99a637f",
   "metadata": {},
   "outputs": [
    {
     "data": {
      "text/plain": [
       "True"
      ]
     },
     "execution_count": 19,
     "metadata": {},
     "output_type": "execute_result"
    }
   ],
   "source": [
    "DeltaTable.isDeltaTable(spark, \"spark-warehouse/table2\")"
   ]
  },
  {
   "cell_type": "markdown",
   "id": "b71d8479-58d6-47e4-98fc-a65e6b2420ae",
   "metadata": {},
   "source": [
    "## Create table with Delta Lake Python API"
   ]
  },
  {
   "cell_type": "code",
   "execution_count": 1,
   "id": "8c906482-1115-425a-b4f5-eac47b713238",
   "metadata": {},
   "outputs": [],
   "source": [
    "from pyspark.sql.types import *"
   ]
  },
  {
   "cell_type": "code",
   "execution_count": 7,
   "id": "ad1b7e1a-aa8a-4718-b3da-fe56214759f9",
   "metadata": {},
   "outputs": [
    {
     "name": "stderr",
     "output_type": "stream",
     "text": [
      "                                                                                \r"
     ]
    }
   ],
   "source": [
    "dt1 = (DeltaTable.create(spark)\n",
    "    .tableName(\"testTable1\")\n",
    "    .addColumn(\"c1\", dataType = \"INT\", nullable = False)\n",
    "    .addColumn(\"c2\", dataType = IntegerType(), generatedAlwaysAs = \"c1 + 1\")\n",
    "    .partitionedBy(\"c1\")\n",
    "    .execute())"
   ]
  },
  {
   "cell_type": "code",
   "execution_count": 8,
   "id": "9c0df628-1438-4867-b8f9-b5381f31cf31",
   "metadata": {},
   "outputs": [
    {
     "data": {
      "text/plain": [
       "<delta.tables.DeltaTable at 0x11026f550>"
      ]
     },
     "execution_count": 8,
     "metadata": {},
     "output_type": "execute_result"
    }
   ],
   "source": [
    "dt1"
   ]
  },
  {
   "cell_type": "code",
   "execution_count": 12,
   "id": "5a36d5e2-7920-42be-b524-4181f0bb49a9",
   "metadata": {},
   "outputs": [
    {
     "name": "stdout",
     "output_type": "stream",
     "text": [
      "+--------------+---------+-------+\n",
      "|      col_name|data_type|comment|\n",
      "+--------------+---------+-------+\n",
      "|            c1|      int|       |\n",
      "|            c2|      int|       |\n",
      "|              |         |       |\n",
      "|# Partitioning|         |       |\n",
      "|        Part 0|       c1|       |\n",
      "+--------------+---------+-------+\n",
      "\n"
     ]
    }
   ],
   "source": [
    "spark.sql(\"DESCRIBE TABLE testTable1\").show()"
   ]
  },
  {
   "cell_type": "code",
   "execution_count": 10,
   "id": "36e2acba-04fd-4527-9a50-a564f8a0890b",
   "metadata": {},
   "outputs": [
    {
     "name": "stderr",
     "output_type": "stream",
     "text": [
      "                                                                                \r"
     ]
    }
   ],
   "source": [
    "dt2 = (DeltaTable.createIfNotExists(spark)\n",
    "    .tableName(\"testTable2\")\n",
    "    .addColumn(\"c1\", dataType = \"INT\", nullable = False)\n",
    "    .addColumn(\"c2\", dataType = IntegerType(), generatedAlwaysAs = \"c1 + 1\")\n",
    "    .partitionedBy(\"c1\")\n",
    "    .execute())"
   ]
  },
  {
   "cell_type": "code",
   "execution_count": 11,
   "id": "8167bc43-bcac-4728-a8a1-18a099bfff6b",
   "metadata": {},
   "outputs": [
    {
     "data": {
      "text/plain": [
       "<delta.tables.DeltaTable at 0x110454880>"
      ]
     },
     "execution_count": 11,
     "metadata": {},
     "output_type": "execute_result"
    }
   ],
   "source": [
    "dt2"
   ]
  },
  {
   "cell_type": "markdown",
   "id": "50a1b061-9573-4e30-bbee-f5e4733d5171",
   "metadata": {},
   "source": [
    "## Create Delta Lake table from CSV"
   ]
  },
  {
   "cell_type": "code",
   "execution_count": 23,
   "id": "aa0bc98f-deed-486e-a7d2-9a0e27a1697e",
   "metadata": {},
   "outputs": [],
   "source": [
    "df = spark.read.option(\"header\", True).csv(\"../../data/students/students1.csv\")"
   ]
  },
  {
   "cell_type": "code",
   "execution_count": 24,
   "id": "eb919e18-1443-4854-9413-7c76ee674aff",
   "metadata": {},
   "outputs": [
    {
     "name": "stdout",
     "output_type": "stream",
     "text": [
      "+------------+---------------+-------+\n",
      "|student_name|graduation_year|  major|\n",
      "+------------+---------------+-------+\n",
      "|someXXperson|           2023|   math|\n",
      "|     liXXyao|           2025|physics|\n",
      "+------------+---------------+-------+\n",
      "\n"
     ]
    }
   ],
   "source": [
    "df.show()"
   ]
  },
  {
   "cell_type": "code",
   "execution_count": 25,
   "id": "b141e609-9b20-4ff6-97e9-94c474048845",
   "metadata": {},
   "outputs": [
    {
     "name": "stderr",
     "output_type": "stream",
     "text": [
      "                                                                                \r"
     ]
    }
   ],
   "source": [
    "df.write.format(\"delta\").saveAsTable(\"students\")"
   ]
  },
  {
   "cell_type": "code",
   "execution_count": 26,
   "id": "68c1e2f6-cfab-42ba-ba2e-22dae6c9b1cf",
   "metadata": {},
   "outputs": [
    {
     "name": "stdout",
     "output_type": "stream",
     "text": [
      "+------------+---------------+-------+\n",
      "|student_name|graduation_year|  major|\n",
      "+------------+---------------+-------+\n",
      "|someXXperson|           2023|   math|\n",
      "|     liXXyao|           2025|physics|\n",
      "+------------+---------------+-------+\n",
      "\n"
     ]
    }
   ],
   "source": [
    "spark.sql(\"SELECT * from students\").show()"
   ]
  },
  {
   "cell_type": "code",
   "execution_count": 27,
   "id": "01db5c22-3b37-42b4-b1e8-78b110f07425",
   "metadata": {},
   "outputs": [
    {
     "data": {
      "text/plain": [
       "True"
      ]
     },
     "execution_count": 27,
     "metadata": {},
     "output_type": "execute_result"
    }
   ],
   "source": [
    "DeltaTable.isDeltaTable(spark, \"spark-warehouse/students\")"
   ]
  },
  {
   "cell_type": "markdown",
   "id": "14bce6fa-8c32-42b0-ae7b-071964a7d1f7",
   "metadata": {},
   "source": [
    "## Cleanup"
   ]
  },
  {
   "cell_type": "code",
   "execution_count": 11,
   "id": "61629998-2c20-4ac7-8ebf-a8ffc17abbc1",
   "metadata": {},
   "outputs": [],
   "source": [
    "!rm -rf spark-warehouse"
   ]
  },
  {
   "cell_type": "code",
   "execution_count": null,
   "id": "9c7ca879-22e8-4433-b380-dc58642a6ac2",
   "metadata": {},
   "outputs": [],
   "source": []
  }
 ],
 "metadata": {
  "kernelspec": {
   "display_name": "Python [conda env:pyspark-330-delta-210] *",
   "language": "python",
   "name": "conda-env-pyspark-330-delta-210-py"
  },
  "language_info": {
   "codemirror_mode": {
    "name": "ipython",
    "version": 3
   },
   "file_extension": ".py",
   "mimetype": "text/x-python",
   "name": "python",
   "nbconvert_exporter": "python",
   "pygments_lexer": "ipython3",
   "version": "3.9.13"
  }
 },
 "nbformat": 4,
 "nbformat_minor": 5
}
