{
 "cells": [
  {
   "cell_type": "markdown",
   "id": "130bf866-9e5e-455e-be15-52adac069107",
   "metadata": {},
   "source": [
    "## Drop column from Delta Lake table\n",
    "\n",
    "This notebook demonstrates how to drop a column of a Delta Lake table.\n",
    "\n",
    "It demonstrates how the column mapping functionality that was added in Delta 1.2 makes this operation a lot more efficient."
   ]
  },
  {
   "cell_type": "code",
   "execution_count": 42,
   "id": "c0514c20-8f06-48cf-8afc-8ccb633db556",
   "metadata": {},
   "outputs": [],
   "source": [
    "import pyspark\n",
    "from delta import *"
   ]
  },
  {
   "cell_type": "code",
   "execution_count": 43,
   "id": "d3b4c1ed-849b-4da2-aeec-b691fa623ed4",
   "metadata": {},
   "outputs": [],
   "source": [
    "builder = (\n",
    "    pyspark.sql.SparkSession.builder.appName(\"MyApp\")\n",
    "    .config(\"spark.sql.extensions\", \"io.delta.sql.DeltaSparkSessionExtension\")\n",
    "    .config(\n",
    "        \"spark.sql.catalog.spark_catalog\",\n",
    "        \"org.apache.spark.sql.delta.catalog.DeltaCatalog\",\n",
    "    )\n",
    ")"
   ]
  },
  {
   "cell_type": "code",
   "execution_count": 44,
   "id": "b37dbca2-be99-4907-bd29-3b987e5f3302",
   "metadata": {},
   "outputs": [],
   "source": [
    "spark = configure_spark_with_delta_pip(builder).getOrCreate()"
   ]
  },
  {
   "cell_type": "markdown",
   "id": "127c5640-f0cb-4464-b5c0-f1c2fbfa9ac4",
   "metadata": {},
   "source": [
    "## Create Delta Lake"
   ]
  },
  {
   "cell_type": "code",
   "execution_count": 45,
   "id": "c5a4a182-5164-4b04-b03f-fd839359ef40",
   "metadata": {},
   "outputs": [
    {
     "data": {
      "text/plain": [
       "DataFrame[]"
      ]
     },
     "execution_count": 45,
     "metadata": {},
     "output_type": "execute_result"
    }
   ],
   "source": [
    "spark.sql(\"drop table if exists `my_cool_table`\")"
   ]
  },
  {
   "cell_type": "code",
   "execution_count": 46,
   "id": "e97f9f95-d7e1-4dd1-af28-9f029012233f",
   "metadata": {},
   "outputs": [],
   "source": [
    "columns = [\"language\", \"num_speakers\"]\n",
    "data = [(\"English\", \"1.5\"), (\"Mandarin\", \"1.1\"), (\"Hindi\", \"0.6\")]\n",
    "rdd = spark.sparkContext.parallelize(data)\n",
    "df = rdd.toDF(columns)"
   ]
  },
  {
   "cell_type": "code",
   "execution_count": 47,
   "id": "0ec3d534-a899-4f1f-a769-cbd843a1a9b4",
   "metadata": {},
   "outputs": [],
   "source": [
    "df.write.format(\"delta\").saveAsTable(\"default.my_cool_table\")"
   ]
  },
  {
   "cell_type": "code",
   "execution_count": 48,
   "id": "625373ef-f44a-43a5-a526-c3e6d3449048",
   "metadata": {},
   "outputs": [
    {
     "name": "stdout",
     "output_type": "stream",
     "text": [
      "+--------+------------+\n",
      "|language|num_speakers|\n",
      "+--------+------------+\n",
      "|Mandarin|         1.1|\n",
      "| English|         1.5|\n",
      "|   Hindi|         0.6|\n",
      "+--------+------------+\n",
      "\n"
     ]
    }
   ],
   "source": [
    "spark.sql(\"select * from `my_cool_table`\").show()"
   ]
  },
  {
   "cell_type": "code",
   "execution_count": 49,
   "id": "8c84e283-6335-4308-a0da-616b0955a340",
   "metadata": {},
   "outputs": [
    {
     "name": "stdout",
     "output_type": "stream",
     "text": [
      "total 32\n",
      "drwxr-xr-x  4 matthew.powers  staff  128 Aug  7 11:35 \u001b[34m_delta_log\u001b[m\u001b[m/\n",
      "-rw-r--r--  1 matthew.powers  staff  415 Aug  7 11:35 part-00000-37799dc8-4639-4c57-b31b-f93640e459ff-c000.snappy.parquet\n",
      "-rw-r--r--  1 matthew.powers  staff  751 Aug  7 11:35 part-00003-3a33dd46-1310-472f-bca4-f1a305c7871f-c000.snappy.parquet\n",
      "-rw-r--r--  1 matthew.powers  staff  759 Aug  7 11:35 part-00006-0e644e16-76e2-4304-beb2-2c25790d06d6-c000.snappy.parquet\n",
      "-rw-r--r--  1 matthew.powers  staff  738 Aug  7 11:35 part-00009-f75076d6-f254-4514-ba4b-6534f1f01d34-c000.snappy.parquet\n"
     ]
    }
   ],
   "source": [
    "%ls -l ./spark-warehouse/my_cool_table/"
   ]
  },
  {
   "cell_type": "markdown",
   "id": "fe0108d6-b50b-41e6-8d31-32f1cdbf5df4",
   "metadata": {},
   "source": [
    "## Drop column from Delta Lake"
   ]
  },
  {
   "cell_type": "code",
   "execution_count": 50,
   "id": "2ee490d5-6680-434b-9177-2fc20cbc0701",
   "metadata": {},
   "outputs": [
    {
     "name": "stderr",
     "output_type": "stream",
     "text": [
      "                                                                                \r"
     ]
    },
    {
     "data": {
      "text/plain": [
       "DataFrame[]"
      ]
     },
     "execution_count": 50,
     "metadata": {},
     "output_type": "execute_result"
    }
   ],
   "source": [
    "spark.sql(\n",
    "    \"\"\"ALTER TABLE `my_cool_table` SET TBLPROPERTIES (\n",
    "   'delta.columnMapping.mode' = 'name',\n",
    "   'delta.minReaderVersion' = '2',\n",
    "   'delta.minWriterVersion' = '5')\"\"\"\n",
    ")"
   ]
  },
  {
   "cell_type": "code",
   "execution_count": 51,
   "id": "f9acf7ce-c549-4c7c-a1c9-f5a050bb11ef",
   "metadata": {},
   "outputs": [
    {
     "data": {
      "text/plain": [
       "DataFrame[]"
      ]
     },
     "execution_count": 51,
     "metadata": {},
     "output_type": "execute_result"
    }
   ],
   "source": [
    "spark.sql(\"alter table `my_cool_table` drop column language\")"
   ]
  },
  {
   "cell_type": "code",
   "execution_count": 52,
   "id": "aed1d76f-c0d0-466a-895b-b845c0c46ddd",
   "metadata": {},
   "outputs": [
    {
     "name": "stdout",
     "output_type": "stream",
     "text": [
      "+------------+\n",
      "|num_speakers|\n",
      "+------------+\n",
      "|         1.1|\n",
      "|         1.5|\n",
      "|         0.6|\n",
      "+------------+\n",
      "\n"
     ]
    }
   ],
   "source": [
    "spark.sql(\"select * from `my_cool_table`\").show()"
   ]
  },
  {
   "cell_type": "code",
   "execution_count": 53,
   "id": "34fbd8b4-27e4-4859-8d08-b867fcb539d1",
   "metadata": {},
   "outputs": [
    {
     "name": "stdout",
     "output_type": "stream",
     "text": [
      "total 32\n",
      "drwxr-xr-x  8 matthew.powers  staff  256 Aug  7 11:35 \u001b[34m_delta_log\u001b[m\u001b[m/\n",
      "-rw-r--r--  1 matthew.powers  staff  415 Aug  7 11:35 part-00000-37799dc8-4639-4c57-b31b-f93640e459ff-c000.snappy.parquet\n",
      "-rw-r--r--  1 matthew.powers  staff  751 Aug  7 11:35 part-00003-3a33dd46-1310-472f-bca4-f1a305c7871f-c000.snappy.parquet\n",
      "-rw-r--r--  1 matthew.powers  staff  759 Aug  7 11:35 part-00006-0e644e16-76e2-4304-beb2-2c25790d06d6-c000.snappy.parquet\n",
      "-rw-r--r--  1 matthew.powers  staff  738 Aug  7 11:35 part-00009-f75076d6-f254-4514-ba4b-6534f1f01d34-c000.snappy.parquet\n"
     ]
    }
   ],
   "source": [
    "%ls -l ./spark-warehouse/my_cool_table/"
   ]
  },
  {
   "cell_type": "markdown",
   "id": "83633ede-87bc-42e4-921b-8ce9e1c8a1c1",
   "metadata": {},
   "source": [
    "## Drop column from Delta Lake pre Delta 1.2"
   ]
  },
  {
   "cell_type": "code",
   "execution_count": 54,
   "id": "32bad534-9b3f-4aa8-bf63-88bb83c9775d",
   "metadata": {},
   "outputs": [
    {
     "data": {
      "text/plain": [
       "DataFrame[]"
      ]
     },
     "execution_count": 54,
     "metadata": {},
     "output_type": "execute_result"
    }
   ],
   "source": [
    "spark.sql(\"drop table if exists `another_cool_table`\")"
   ]
  },
  {
   "cell_type": "code",
   "execution_count": 56,
   "id": "7ca18ced-a8e5-4a17-8b91-b2fa3bba3619",
   "metadata": {},
   "outputs": [],
   "source": [
    "columns = [\"language\", \"num_speakers\"]\n",
    "data = [(\"Spanish\", \"0.5\"), (\"French\", \"0.3\"), (\"Arabic\", \"0.3\")]\n",
    "rdd = spark.sparkContext.parallelize(data)\n",
    "df = rdd.toDF(columns)"
   ]
  },
  {
   "cell_type": "code",
   "execution_count": 57,
   "id": "96069c35-c824-4dd2-8047-df814bb2ed93",
   "metadata": {},
   "outputs": [
    {
     "name": "stderr",
     "output_type": "stream",
     "text": [
      "                                                                                \r"
     ]
    }
   ],
   "source": [
    "df.write.format(\"delta\").saveAsTable(\"default.another_cool_table\")"
   ]
  },
  {
   "cell_type": "code",
   "execution_count": 58,
   "id": "d68e0266-ac49-4282-842f-22727101da5d",
   "metadata": {},
   "outputs": [],
   "source": [
    "df = spark.sql(\"select * from another_cool_table\")"
   ]
  },
  {
   "cell_type": "code",
   "execution_count": 59,
   "id": "bd2c3140-84d6-489d-bd03-9b6054838566",
   "metadata": {},
   "outputs": [
    {
     "name": "stdout",
     "output_type": "stream",
     "text": [
      "+--------+------------+\n",
      "|language|num_speakers|\n",
      "+--------+------------+\n",
      "| Spanish|         0.5|\n",
      "|  Arabic|         0.3|\n",
      "|  French|         0.3|\n",
      "+--------+------------+\n",
      "\n"
     ]
    }
   ],
   "source": [
    "df.show()"
   ]
  },
  {
   "cell_type": "code",
   "execution_count": 60,
   "id": "94238756-88f9-4fc6-b632-492e36b188e2",
   "metadata": {},
   "outputs": [
    {
     "name": "stdout",
     "output_type": "stream",
     "text": [
      "total 32\n",
      "drwxr-xr-x  4 matthew.powers  staff  128 Aug  7 11:54 \u001b[34m_delta_log\u001b[m\u001b[m/\n",
      "-rw-r--r--  1 matthew.powers  staff  415 Aug  7 11:54 part-00000-47ce65fc-44a8-4099-a7a2-e6697a1b4842-c000.snappy.parquet\n",
      "-rw-r--r--  1 matthew.powers  staff  752 Aug  7 11:54 part-00003-3586c1ea-0e01-4ea3-ae0d-79bc43e5c0d5-c000.snappy.parquet\n",
      "-rw-r--r--  1 matthew.powers  staff  745 Aug  7 11:54 part-00006-f60f37e4-7913-4948-aeeb-46feec516bbd-c000.snappy.parquet\n",
      "-rw-r--r--  1 matthew.powers  staff  745 Aug  7 11:54 part-00009-f41a2472-2678-473c-92de-7b02d0ff56c9-c000.snappy.parquet\n"
     ]
    }
   ],
   "source": [
    "%ls -l ./spark-warehouse/another_cool_table/"
   ]
  },
  {
   "cell_type": "code",
   "execution_count": 63,
   "id": "3bc3884d-e699-4a6d-a30b-96fbe21612a2",
   "metadata": {},
   "outputs": [],
   "source": [
    "df = df.drop(\"num_speakers\")"
   ]
  },
  {
   "cell_type": "code",
   "execution_count": 64,
   "id": "2dad1256-2c18-4675-aa4b-a2f9963867b0",
   "metadata": {},
   "outputs": [
    {
     "name": "stdout",
     "output_type": "stream",
     "text": [
      "+--------+\n",
      "|language|\n",
      "+--------+\n",
      "| Spanish|\n",
      "|  Arabic|\n",
      "|  French|\n",
      "+--------+\n",
      "\n"
     ]
    }
   ],
   "source": [
    "df.show()"
   ]
  },
  {
   "cell_type": "code",
   "execution_count": 65,
   "id": "4a301899-6612-427d-a883-621c88b3ebfe",
   "metadata": {},
   "outputs": [
    {
     "name": "stderr",
     "output_type": "stream",
     "text": [
      "                                                                                \r"
     ]
    }
   ],
   "source": [
    "df.write.format(\"delta\").mode(\"OVERWRITE\").option(\n",
    "    \"overwriteSchema\", \"true\"\n",
    ").saveAsTable(\"default.another_cool_table\")"
   ]
  },
  {
   "cell_type": "code",
   "execution_count": 66,
   "id": "89ab98d0-3d3c-40b5-87a6-b04811a605d9",
   "metadata": {},
   "outputs": [
    {
     "name": "stdout",
     "output_type": "stream",
     "text": [
      "+--------+\n",
      "|language|\n",
      "+--------+\n",
      "| Spanish|\n",
      "|  French|\n",
      "|  Arabic|\n",
      "+--------+\n",
      "\n"
     ]
    }
   ],
   "source": [
    "spark.sql(\"select * from another_cool_table\").show()"
   ]
  },
  {
   "cell_type": "code",
   "execution_count": 67,
   "id": "8bde5353-a4a5-435a-bcf6-8324ac8786e4",
   "metadata": {},
   "outputs": [
    {
     "name": "stdout",
     "output_type": "stream",
     "text": [
      "total 56\n",
      "drwxr-xr-x  6 matthew.powers  staff  192 Aug  7 11:58 \u001b[34m_delta_log\u001b[m\u001b[m/\n",
      "-rw-r--r--  1 matthew.powers  staff  501 Aug  7 11:58 part-00000-14ad4a76-98fd-4e32-9b76-f54bcc7d5cb0-c000.snappy.parquet\n",
      "-rw-r--r--  1 matthew.powers  staff  415 Aug  7 11:54 part-00000-47ce65fc-44a8-4099-a7a2-e6697a1b4842-c000.snappy.parquet\n",
      "-rw-r--r--  1 matthew.powers  staff  494 Aug  7 11:58 part-00001-b6977598-cc3d-4064-8be6-0cc3baef0112-c000.snappy.parquet\n",
      "-rw-r--r--  1 matthew.powers  staff  494 Aug  7 11:58 part-00002-54c84cf0-7a42-4ef9-a660-429f663de904-c000.snappy.parquet\n",
      "-rw-r--r--  1 matthew.powers  staff  752 Aug  7 11:54 part-00003-3586c1ea-0e01-4ea3-ae0d-79bc43e5c0d5-c000.snappy.parquet\n",
      "-rw-r--r--  1 matthew.powers  staff  745 Aug  7 11:54 part-00006-f60f37e4-7913-4948-aeeb-46feec516bbd-c000.snappy.parquet\n",
      "-rw-r--r--  1 matthew.powers  staff  745 Aug  7 11:54 part-00009-f41a2472-2678-473c-92de-7b02d0ff56c9-c000.snappy.parquet\n"
     ]
    }
   ],
   "source": [
    "%ls -l ./spark-warehouse/another_cool_table/"
   ]
  },
  {
   "cell_type": "markdown",
   "id": "6a38582a-8422-4a7d-9c45-add6bd67b693",
   "metadata": {},
   "source": [
    "## Cleanup"
   ]
  },
  {
   "cell_type": "code",
   "execution_count": 64,
   "id": "658c258a-a636-43a3-91a7-68dc1ce98e8e",
   "metadata": {},
   "outputs": [
    {
     "data": {
      "text/plain": [
       "DataFrame[]"
      ]
     },
     "execution_count": 64,
     "metadata": {},
     "output_type": "execute_result"
    }
   ],
   "source": [
    "spark.sql(\"drop table if exists `my_cool_table`\")"
   ]
  },
  {
   "cell_type": "code",
   "execution_count": null,
   "id": "7ea08213-ae7f-4040-a442-99e81069cbc2",
   "metadata": {},
   "outputs": [],
   "source": [
    "spark.sql(\"drop table if exists `another_cool_table`\")"
   ]
  }
 ],
 "metadata": {
  "kernelspec": {
   "display_name": "Python [conda env:pyspark-300-delta-200] *",
   "language": "python",
   "name": "conda-env-pyspark-300-delta-200-py"
  },
  "language_info": {
   "codemirror_mode": {
    "name": "ipython",
    "version": 3
   },
   "file_extension": ".py",
   "mimetype": "text/x-python",
   "name": "python",
   "nbconvert_exporter": "python",
   "pygments_lexer": "ipython3",
   "version": "3.9.13"
  }
 },
 "nbformat": 4,
 "nbformat_minor": 5
}
