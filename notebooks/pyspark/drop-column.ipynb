{
 "cells": [
  {
   "cell_type": "code",
   "execution_count": 32,
   "id": "c0514c20-8f06-48cf-8afc-8ccb633db556",
   "metadata": {},
   "outputs": [],
   "source": [
    "import pyspark\n",
    "from delta import *"
   ]
  },
  {
   "cell_type": "code",
   "execution_count": 33,
   "id": "d3b4c1ed-849b-4da2-aeec-b691fa623ed4",
   "metadata": {},
   "outputs": [],
   "source": [
    "builder = (\n",
    "    pyspark.sql.SparkSession.builder.appName(\"MyApp\")\n",
    "    .config(\"spark.sql.extensions\", \"io.delta.sql.DeltaSparkSessionExtension\")\n",
    "    .config(\n",
    "        \"spark.sql.catalog.spark_catalog\",\n",
    "        \"org.apache.spark.sql.delta.catalog.DeltaCatalog\",\n",
    "    )\n",
    ")"
   ]
  },
  {
   "cell_type": "code",
   "execution_count": 34,
   "id": "b37dbca2-be99-4907-bd29-3b987e5f3302",
   "metadata": {},
   "outputs": [],
   "source": [
    "spark = configure_spark_with_delta_pip(builder).getOrCreate()"
   ]
  },
  {
   "cell_type": "markdown",
   "id": "127c5640-f0cb-4464-b5c0-f1c2fbfa9ac4",
   "metadata": {},
   "source": [
    "## Create Delta Lake"
   ]
  },
  {
   "cell_type": "code",
   "execution_count": 59,
   "id": "c5a4a182-5164-4b04-b03f-fd839359ef40",
   "metadata": {},
   "outputs": [
    {
     "data": {
      "text/plain": [
       "DataFrame[]"
      ]
     },
     "execution_count": 59,
     "metadata": {},
     "output_type": "execute_result"
    }
   ],
   "source": [
    "spark.sql(\"drop table if exists `my_cool_table`\")"
   ]
  },
  {
   "cell_type": "code",
   "execution_count": 60,
   "id": "e97f9f95-d7e1-4dd1-af28-9f029012233f",
   "metadata": {},
   "outputs": [],
   "source": [
    "columns = [\"language\",\"speakers\"]\n",
    "data = [(\"English\", \"1.5\"), (\"Mandarin\", \"1.1\"), (\"Hindi\", \"0.6\")]\n",
    "rdd = spark.sparkContext.parallelize(data)\n",
    "df = rdd.toDF(columns)"
   ]
  },
  {
   "cell_type": "code",
   "execution_count": 62,
   "id": "0ec3d534-a899-4f1f-a769-cbd843a1a9b4",
   "metadata": {},
   "outputs": [
    {
     "name": "stderr",
     "output_type": "stream",
     "text": [
      "                                                                                \r"
     ]
    }
   ],
   "source": [
    "df.write.format(\"delta\").saveAsTable(\"default.my_cool_table\")"
   ]
  },
  {
   "cell_type": "code",
   "execution_count": 63,
   "id": "625373ef-f44a-43a5-a526-c3e6d3449048",
   "metadata": {},
   "outputs": [
    {
     "name": "stdout",
     "output_type": "stream",
     "text": [
      "+--------+--------+\n",
      "|language|speakers|\n",
      "+--------+--------+\n",
      "|Mandarin|     1.1|\n",
      "| English|     1.5|\n",
      "|   Hindi|     0.6|\n",
      "+--------+--------+\n",
      "\n"
     ]
    }
   ],
   "source": [
    "spark.sql(\"select * from `my_cool_table`\").show()"
   ]
  },
  {
   "cell_type": "markdown",
   "id": "fe0108d6-b50b-41e6-8d31-32f1cdbf5df4",
   "metadata": {},
   "source": [
    "## Drop column from Delta Lake"
   ]
  },
  {
   "cell_type": "code",
   "execution_count": 54,
   "id": "2ee490d5-6680-434b-9177-2fc20cbc0701",
   "metadata": {},
   "outputs": [
    {
     "data": {
      "text/plain": [
       "DataFrame[]"
      ]
     },
     "execution_count": 54,
     "metadata": {},
     "output_type": "execute_result"
    }
   ],
   "source": [
    "spark.sql(\"\"\"ALTER TABLE `my_cool_table` SET TBLPROPERTIES (\n",
    "   'delta.columnMapping.mode' = 'name',\n",
    "   'delta.minReaderVersion' = '2',\n",
    "   'delta.minWriterVersion' = '5')\"\"\")"
   ]
  },
  {
   "cell_type": "code",
   "execution_count": 55,
   "id": "f9acf7ce-c549-4c7c-a1c9-f5a050bb11ef",
   "metadata": {},
   "outputs": [
    {
     "name": "stderr",
     "output_type": "stream",
     "text": [
      "                                                                                \r"
     ]
    },
    {
     "data": {
      "text/plain": [
       "DataFrame[]"
      ]
     },
     "execution_count": 55,
     "metadata": {},
     "output_type": "execute_result"
    }
   ],
   "source": [
    "spark.sql(\"alter table `my_cool_table` drop column language\")"
   ]
  },
  {
   "cell_type": "code",
   "execution_count": 56,
   "id": "aed1d76f-c0d0-466a-895b-b845c0c46ddd",
   "metadata": {},
   "outputs": [
    {
     "name": "stdout",
     "output_type": "stream",
     "text": [
      "+--------+\n",
      "|speakers|\n",
      "+--------+\n",
      "|     1.1|\n",
      "|     1.5|\n",
      "|     0.6|\n",
      "+--------+\n",
      "\n"
     ]
    }
   ],
   "source": [
    "spark.sql(\"select * from `my_cool_table`\").show()"
   ]
  },
  {
   "cell_type": "markdown",
   "id": "6a38582a-8422-4a7d-9c45-add6bd67b693",
   "metadata": {},
   "source": [
    "## Cleanup"
   ]
  },
  {
   "cell_type": "code",
   "execution_count": 64,
   "id": "658c258a-a636-43a3-91a7-68dc1ce98e8e",
   "metadata": {},
   "outputs": [
    {
     "data": {
      "text/plain": [
       "DataFrame[]"
      ]
     },
     "execution_count": 64,
     "metadata": {},
     "output_type": "execute_result"
    }
   ],
   "source": [
    "spark.sql(\"drop table if exists `my_cool_table`\")"
   ]
  },
  {
   "cell_type": "code",
   "execution_count": null,
   "id": "7ea08213-ae7f-4040-a442-99e81069cbc2",
   "metadata": {},
   "outputs": [],
   "source": []
  }
 ],
 "metadata": {
  "kernelspec": {
   "display_name": "Python [conda env:mr-delta] *",
   "language": "python",
   "name": "conda-env-mr-delta-py"
  },
  "language_info": {
   "codemirror_mode": {
    "name": "ipython",
    "version": 3
   },
   "file_extension": ".py",
   "mimetype": "text/x-python",
   "name": "python",
   "nbconvert_exporter": "python",
   "pygments_lexer": "ipython3",
   "version": "3.9.13"
  }
 },
 "nbformat": 4,
 "nbformat_minor": 5
}
